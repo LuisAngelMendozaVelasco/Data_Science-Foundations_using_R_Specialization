{
 "cells": [
  {
   "cell_type": "markdown",
   "metadata": {},
   "source": [
    "# Practice Programming Assignment: swirl Lesson 2: Functions"
   ]
  },
  {
   "attachments": {},
   "cell_type": "markdown",
   "metadata": {},
   "source": [
    "Functions are one of the fundamental building blocks of the R language. They are small pieces of reusable code that can be treated like any other R object.\n",
    "\n",
    "If you've worked through any other part of this course, you've probably used some functions already. Functions are usually characterized by the name of the function followed by parentheses.\n",
    "\n",
    "Let's try using a few basic functions just for fun. The Sys.Date() function returns a string representing today's date. Type Sys.Date() below and see what happens."
   ]
  },
  {
   "cell_type": "code",
   "execution_count": 1,
   "metadata": {
    "vscode": {
     "languageId": "r"
    }
   },
   "outputs": [
    {
     "data": {
      "text/html": [
       "<time datetime=\"2023-04-15\">2023-04-15</time>"
      ],
      "text/latex": [
       "2023-04-15"
      ],
      "text/markdown": [
       "2023-04-15"
      ],
      "text/plain": [
       "[1] \"2023-04-15\""
      ]
     },
     "metadata": {},
     "output_type": "display_data"
    }
   ],
   "source": [
    "Sys.Date()"
   ]
  },
  {
   "attachments": {},
   "cell_type": "markdown",
   "metadata": {},
   "source": [
    "Most functions in R return a value. Functions like Sys.Date() return a value based on your computer's environment, while other functions manipulate input data in order to compute a return value.\n",
    "\n",
    "The mean() function takes a vector of numbers as input, and returns the average of all of the numbers in the input vector. Inputs to functions are often called arguments. Providing arguments to a function is also sometimes called passing arguments to that function. Arguments you want to pass to a function go inside the function's parentheses. Try passing the argument c(2, 4, 5) to the mean() function."
   ]
  },
  {
   "cell_type": "code",
   "execution_count": 2,
   "metadata": {
    "vscode": {
     "languageId": "r"
    }
   },
   "outputs": [
    {
     "data": {
      "text/html": [
       "3.66666666666667"
      ],
      "text/latex": [
       "3.66666666666667"
      ],
      "text/markdown": [
       "3.66666666666667"
      ],
      "text/plain": [
       "[1] 3.666667"
      ]
     },
     "metadata": {},
     "output_type": "display_data"
    }
   ],
   "source": [
    "mean(c(2, 4, 5))"
   ]
  },
  {
   "attachments": {},
   "cell_type": "markdown",
   "metadata": {},
   "source": [
    "Functions usually take arguments which are variables that the function operates on. For example, the mean() function takes a vector as an argument, like in the case of mean(c(2,6,8)). The mean() function then adds up all of the numbers in the vector and divides that sum by the length of the vector.\n",
    "\n",
    "You're about to write your first function! Just like you would assign a value to a variable with the assignment operator, you assign functions in the following way:\n",
    "\n",
    "```R\n",
    "function_name <- function(arg1, arg2){\n",
    "      Manipulate arguments in some way\n",
    "      Return a value\n",
    "}\n",
    "```\n",
    "\n",
    "The \"variable name\" you assign will become the name of your function. arg1 and arg2 represent the arguments of your function. You can manipulate the arguments you specify within the function. After sourcing the function, you can use the function by typing:\n",
    "\n",
    "```R\n",
    "function_name(value1, value2)\n",
    "```\n",
    "\n",
    "Below we will create a function called boring_function. This function takes the argument `x` as input, and returns the value of x without modifying it. Delete the pound sign in front of the x to make the function work!"
   ]
  },
  {
   "cell_type": "code",
   "execution_count": 3,
   "metadata": {
    "vscode": {
     "languageId": "r"
    }
   },
   "outputs": [],
   "source": [
    "boring_function <- function(x) {\n",
    "    x\n",
    "}"
   ]
  },
  {
   "attachments": {},
   "cell_type": "markdown",
   "metadata": {},
   "source": [
    "Now that you've created your first function let's test it! Type: boring_function('My first function!'). If your function works, it shoul just return the string: 'My first function!'"
   ]
  },
  {
   "cell_type": "code",
   "execution_count": 4,
   "metadata": {
    "vscode": {
     "languageId": "r"
    }
   },
   "outputs": [
    {
     "data": {
      "text/html": [
       "'My first function!'"
      ],
      "text/latex": [
       "'My first function!'"
      ],
      "text/markdown": [
       "'My first function!'"
      ],
      "text/plain": [
       "[1] \"My first function!\""
      ]
     },
     "metadata": {},
     "output_type": "display_data"
    }
   ],
   "source": [
    "boring_function('My first function!')"
   ]
  },
  {
   "attachments": {},
   "cell_type": "markdown",
   "metadata": {},
   "source": [
    "Congratulations on writing your first function. By writing functions, you can gain serious insight into how R works. As John Chambers, the creator of R once said:\n",
    "\n",
    "To understand computations in R, two slogans are helpful: \n",
    "\n",
    "1. Everything that exists is an object. \n",
    "2. Everything that happens is a function call.\n",
    "\n",
    "If you want to see the source code for any function, just type the function name without any arguments or parentheses. Let's try this out with the function you just created. Type: boring_function to view its source code."
   ]
  },
  {
   "cell_type": "code",
   "execution_count": 5,
   "metadata": {
    "vscode": {
     "languageId": "r"
    }
   },
   "outputs": [
    {
     "data": {
      "text/html": [
       "<pre class=language-r><code>function (x) \n",
       "{\n",
       "<span style=white-space:pre-wrap>    x</span>\n",
       "}</code></pre>"
      ],
      "text/latex": [
       "\\begin{minted}{r}\n",
       "function (x) \n",
       "\\{\n",
       "    x\n",
       "\\}\n",
       "\\end{minted}"
      ],
      "text/markdown": [
       "```r\n",
       "function (x) \n",
       "{\n",
       "    x\n",
       "}\n",
       "```"
      ],
      "text/plain": [
       "function(x) {\n",
       "    x\n",
       "}"
      ]
     },
     "metadata": {},
     "output_type": "display_data"
    }
   ],
   "source": [
    "boring_function"
   ]
  },
  {
   "attachments": {},
   "cell_type": "markdown",
   "metadata": {},
   "source": [
    "Time to make a more useful function! We're going to replicate the functionality of the mean() function by creating a function called: my_mean(). Remember that to calculate the average of all of the numbers in a vector you find the sum of all the numbers in the vector, and then divide that sum by the number of numbers in the vector.\n",
    "\n",
    "You're free to implement the function my_mean however you want, as long as it returns the average of all of the numbers in `my_vector`.\n",
    "\n",
    "Hint #1: sum() returns the sum of a vector.\n",
    "\tEx: sum(c(1, 2, 3)) evaluates to 6\n",
    "\n",
    "Hint #2: length() returns the size of a vector.\n",
    "\tEx: length(c(1, 2, 3)) evaluates to 3\n",
    "\t\n",
    "Hint #3: The mean of all the numbers in a vector is equal to the sum of all of the numbers in the vector divided by the size of the vector."
   ]
  },
  {
   "cell_type": "code",
   "execution_count": 6,
   "metadata": {
    "vscode": {
     "languageId": "r"
    }
   },
   "outputs": [],
   "source": [
    "my_mean <- function(my_vector) {\n",
    "    # Write your code here!\n",
    "    # Remember: the last expression evaluated will be returned! \n",
    "    sum(my_vector) / length(my_vector)\n",
    "}"
   ]
  },
  {
   "attachments": {},
   "cell_type": "markdown",
   "metadata": {},
   "source": [
    "Now test out your my_mean() function by finding the mean of the vector c(4, 5, 10)."
   ]
  },
  {
   "cell_type": "code",
   "execution_count": 7,
   "metadata": {
    "vscode": {
     "languageId": "r"
    }
   },
   "outputs": [
    {
     "data": {
      "text/html": [
       "6.33333333333333"
      ],
      "text/latex": [
       "6.33333333333333"
      ],
      "text/markdown": [
       "6.33333333333333"
      ],
      "text/plain": [
       "[1] 6.333333"
      ]
     },
     "metadata": {},
     "output_type": "display_data"
    }
   ],
   "source": [
    "my_mean(c(4, 5, 10))"
   ]
  },
  {
   "attachments": {},
   "cell_type": "markdown",
   "metadata": {},
   "source": [
    "Next, let's try writing a function with default arguments. You can set default values for a function's arguments, and this can be useful if you think someone who uses your function will set a certain argument to the same value most of the time.\n",
    "\n",
    "Let's see an example of a function called increment(). Most of the time we want to use this function to increase the value of a number by one. This function will take two arguments: \"number\" and \"by\" where \"number\" is the digit we want to increment and \"by\" is the amount we want to increment \"number\" by. We've written the function below. \n",
    "\n",
    "```R\n",
    "increment <- function(number, by = 1){\n",
    "    number + by\n",
    "}\n",
    "```\n",
    "\n",
    "If you take a look in between the parentheses you can see that we've set \"by\" equal to 1. This means that the \"by\" argument will have the default value of 1.\n",
    "\n",
    "We can now use the increment function without providing a value for \"by\": increment(5) will evaluate to 6. \n",
    "\n",
    "However if we want to provide a value for the \"by\" argument we still can! The expression: increment(5, 2) will evaluate to 7. \n",
    "\n",
    "You're going to write a function called \"remainder.\" remainder() will take two arguments: \"num\" and \"divisor\" where \"num\" is divided by \"divisor\" and the remainder is returned. Imagine that you usually want to know the remainder when you divide by 2, so set the default value of \"divisor\" to 2. Please be sure that \"num\" is the first argument and \"divisor\" is the second argument.\n",
    "\n",
    "Hint #1: You can use the modulus operator %% to find the remainder.\n",
    "    Ex: 7 %% 4 evaluates to 3. \n",
    "\n",
    "Remember to set appropriate default values!"
   ]
  },
  {
   "cell_type": "code",
   "execution_count": 8,
   "metadata": {
    "vscode": {
     "languageId": "r"
    }
   },
   "outputs": [],
   "source": [
    "remainder <- function(num, divisor=2) {\n",
    "    # Write your code here!\n",
    "    # Remember: the last expression evaluated will be returned! \n",
    "    num %% divisor\n",
    "}"
   ]
  },
  {
   "attachments": {},
   "cell_type": "markdown",
   "metadata": {},
   "source": [
    "Let's do some testing of the remainder function. Run remainder(5) and see what happens."
   ]
  },
  {
   "cell_type": "code",
   "execution_count": 9,
   "metadata": {
    "vscode": {
     "languageId": "r"
    }
   },
   "outputs": [
    {
     "data": {
      "text/html": [
       "1"
      ],
      "text/latex": [
       "1"
      ],
      "text/markdown": [
       "1"
      ],
      "text/plain": [
       "[1] 1"
      ]
     },
     "metadata": {},
     "output_type": "display_data"
    }
   ],
   "source": [
    "remainder(5)"
   ]
  },
  {
   "attachments": {},
   "cell_type": "markdown",
   "metadata": {},
   "source": [
    "Let's take a moment to examine what just happened. You provided one argument to the function, and R matched that argument to 'num' since 'num' is the first argument. The default value for 'divisor' is 2, so the function used the default value you provided.\n",
    "\n",
    "Now let's test the remainder function by providing two arguments. Type: remainder(11, 5) and let's see what happens."
   ]
  },
  {
   "cell_type": "code",
   "execution_count": 10,
   "metadata": {
    "vscode": {
     "languageId": "r"
    }
   },
   "outputs": [
    {
     "data": {
      "text/html": [
       "1"
      ],
      "text/latex": [
       "1"
      ],
      "text/markdown": [
       "1"
      ],
      "text/plain": [
       "[1] 1"
      ]
     },
     "metadata": {},
     "output_type": "display_data"
    }
   ],
   "source": [
    "remainder(11, 5)"
   ]
  },
  {
   "attachments": {},
   "cell_type": "markdown",
   "metadata": {},
   "source": [
    "Once again, the arguments have been matched appropriately.\n",
    "\n",
    "You can also explicitly specify arguments in a function. When you explicitly designate argument values by name, the ordering of the arguments becomes unimportant. You can try this out by typing:  remainder(divisor = 11, num = 5)."
   ]
  },
  {
   "cell_type": "code",
   "execution_count": 11,
   "metadata": {
    "vscode": {
     "languageId": "r"
    }
   },
   "outputs": [
    {
     "data": {
      "text/html": [
       "5"
      ],
      "text/latex": [
       "5"
      ],
      "text/markdown": [
       "5"
      ],
      "text/plain": [
       "[1] 5"
      ]
     },
     "metadata": {},
     "output_type": "display_data"
    }
   ],
   "source": [
    "remainder(divisor=11, num=5)"
   ]
  },
  {
   "attachments": {},
   "cell_type": "markdown",
   "metadata": {},
   "source": [
    "As you can see, there is a significant difference between remainder(11, 5) and remainder(divisor = 11, num = 5)!\n",
    "\n",
    "R can also partially match arguments. Try typing remainder(4, div = 2) to see this feature in action."
   ]
  },
  {
   "cell_type": "code",
   "execution_count": 12,
   "metadata": {
    "vscode": {
     "languageId": "r"
    }
   },
   "outputs": [
    {
     "data": {
      "text/html": [
       "0"
      ],
      "text/latex": [
       "0"
      ],
      "text/markdown": [
       "0"
      ],
      "text/plain": [
       "[1] 0"
      ]
     },
     "metadata": {},
     "output_type": "display_data"
    }
   ],
   "source": [
    "remainder(4, div=2)"
   ]
  },
  {
   "attachments": {},
   "cell_type": "markdown",
   "metadata": {},
   "source": [
    "A word of warning: in general you want to make your code as easy to understand as possible. Switching around the orders of arguments by specifying their names or only using partial argument names can be confusing, so use these features with caution!\n",
    "\n",
    "With all of this talk about arguments, you may be wondering if there is a way you can see a function's arguments (besides looking at the  documentation). Thankfully, you can use the args() function! Type: args(remainder) to examine the arguments for the remainder function."
   ]
  },
  {
   "cell_type": "code",
   "execution_count": 13,
   "metadata": {
    "vscode": {
     "languageId": "r"
    }
   },
   "outputs": [
    {
     "data": {
      "text/html": [
       "<pre class=language-r><code>function (num, divisor = 2) \n",
       "NULL</code></pre>"
      ],
      "text/latex": [
       "\\begin{minted}{r}\n",
       "function (num, divisor = 2) \n",
       "NULL\n",
       "\\end{minted}"
      ],
      "text/markdown": [
       "```r\n",
       "function (num, divisor = 2) \n",
       "NULL\n",
       "```"
      ],
      "text/plain": [
       "function (num, divisor = 2) \n",
       "NULL"
      ]
     },
     "metadata": {},
     "output_type": "display_data"
    }
   ],
   "source": [
    "args(remainder)"
   ]
  },
  {
   "attachments": {},
   "cell_type": "markdown",
   "metadata": {},
   "source": [
    "You may not realize it but we just tricked you into doing something pretty interesting! args() is a function, remainder() is a function, yet remainder was an argument for args(). Yes it's true: you can pass functions as arguments! This is a very powerful concept. Let's write a script to see how it works.\n",
    "\n",
    "You can pass functions as arguments to other functions just like you can pass data to functions. Let's say you define the following functions:\n",
    "\n",
    "```R\n",
    "add_two_numbers <- function(num1, num2){\n",
    "   num1 + num2\n",
    "}\n",
    "\n",
    "multiply_two_numbers <- function(num1, num2){\n",
    "\tnum1 * num2\n",
    "}\n",
    "\n",
    "some_function <- function(func){\n",
    "   func(2, 4)\n",
    "}\n",
    "```\n",
    "\n",
    "As you can see we use the argument name \"func\" like a function inside of \"some_function().\" By passing functions as arguments some_function(add_two_numbers) will evaluate to 6, while some_function(multiply_two_numbers) will evaluate to 8.\n",
    "\n",
    "Finish the function definition below so that if a function is passed into the \"func\" argument and some data (like a vector) is passed into the dat argument the evaluate() function will return the result of dat being passed as an argument to func.\n",
    "\n",
    "Hints: This exercise is a little tricky so I'll provide a few example of how evaluate() should act:\n",
    "   1. evaluate(sum, c(2, 4, 6)) should evaluate to 12\n",
    "   2. evaluate(median, c(7, 40, 9)) should evaluate to 9\n",
    "   3. evaluate(floor, 11.1) should evaluate to 11"
   ]
  },
  {
   "cell_type": "code",
   "execution_count": 14,
   "metadata": {
    "vscode": {
     "languageId": "r"
    }
   },
   "outputs": [],
   "source": [
    "evaluate <- function(func, dat){\n",
    "    # Write your code here!\n",
    "    # Remember: the last expression evaluated will be returned! \n",
    "    func(dat)\n",
    "}"
   ]
  },
  {
   "attachments": {},
   "cell_type": "markdown",
   "metadata": {},
   "source": [
    "Let's take your new evaluate() function for a spin! Use evaluate to find the standard deviation of the vector c(1.4, 3.6, 7.9, 8.8)."
   ]
  },
  {
   "cell_type": "code",
   "execution_count": 15,
   "metadata": {
    "vscode": {
     "languageId": "r"
    }
   },
   "outputs": [
    {
     "data": {
      "text/html": [
       "3.51413811149571"
      ],
      "text/latex": [
       "3.51413811149571"
      ],
      "text/markdown": [
       "3.51413811149571"
      ],
      "text/plain": [
       "[1] 3.514138"
      ]
     },
     "metadata": {},
     "output_type": "display_data"
    }
   ],
   "source": [
    "evaluate(sd, c(1.4, 3.6, 7.9, 8.8))"
   ]
  },
  {
   "attachments": {},
   "cell_type": "markdown",
   "metadata": {},
   "source": [
    "The idea of passing functions as arguments to other functions is an important and fundamental concept in programming.\n",
    "\n",
    "You may be surprised to learn that you can pass a function as an argument without first defining the passed function. Functions that are not named are appropriately known as anonymous functions.\n",
    "\n",
    "Let's use the evaluate function to explore how anonymous functions work. For the first argument of the evaluate function we're going to write a tiny function that fits on one line. In the second argument we'll pass some data to the tiny anonymous function in the first argument.\n",
    "\n",
    "Type the following command and then we'll discuss how it works: evaluate(function(x){x+1}, 6)"
   ]
  },
  {
   "cell_type": "code",
   "execution_count": 16,
   "metadata": {
    "vscode": {
     "languageId": "r"
    }
   },
   "outputs": [
    {
     "data": {
      "text/html": [
       "7"
      ],
      "text/latex": [
       "7"
      ],
      "text/markdown": [
       "7"
      ],
      "text/plain": [
       "[1] 7"
      ]
     },
     "metadata": {},
     "output_type": "display_data"
    }
   ],
   "source": [
    "evaluate(function(x){x+1}, 6)"
   ]
  },
  {
   "attachments": {},
   "cell_type": "markdown",
   "metadata": {},
   "source": [
    "The first argument is a tiny anonymous function that takes one argument `x` and returns `x+1`. We passed the number 6 into this function so the entire expression evaluates to 7.\n",
    "\n",
    "Try using evaluate() along with an anonymous function to return the  first element of the vector c(8, 4, 0). Your anonymous function should only take one argument which should be a variable `x`."
   ]
  },
  {
   "cell_type": "code",
   "execution_count": 17,
   "metadata": {
    "vscode": {
     "languageId": "r"
    }
   },
   "outputs": [
    {
     "data": {
      "text/html": [
       "8"
      ],
      "text/latex": [
       "8"
      ],
      "text/markdown": [
       "8"
      ],
      "text/plain": [
       "[1] 8"
      ]
     },
     "metadata": {},
     "output_type": "display_data"
    }
   ],
   "source": [
    "evaluate(function(x){x[1]}, c(8, 4, 0))"
   ]
  },
  {
   "attachments": {},
   "cell_type": "markdown",
   "metadata": {},
   "source": [
    "Now try using evaluate() along with an anonymous function to return the  last element of the vector c(8, 4, 0). Your anonymous function should only take one argument which should be a variable `x`."
   ]
  },
  {
   "cell_type": "code",
   "execution_count": 18,
   "metadata": {
    "vscode": {
     "languageId": "r"
    }
   },
   "outputs": [
    {
     "data": {
      "text/html": [
       "0"
      ],
      "text/latex": [
       "0"
      ],
      "text/markdown": [
       "0"
      ],
      "text/plain": [
       "[1] 0"
      ]
     },
     "metadata": {},
     "output_type": "display_data"
    }
   ],
   "source": [
    "evaluate(function(x){x[length(x)]}, c(8, 4, 0))"
   ]
  },
  {
   "attachments": {},
   "cell_type": "markdown",
   "metadata": {},
   "source": [
    "For the rest of the course we're going to use the paste() function frequently. Type ?paste so we can take a look at the documentation for the  paste function."
   ]
  },
  {
   "cell_type": "code",
   "execution_count": 19,
   "metadata": {
    "vscode": {
     "languageId": "r"
    }
   },
   "outputs": [
    {
     "name": "stdout",
     "output_type": "stream",
     "text": [
      "paste                   package:base                   R Documentation\n",
      "\n",
      "_\bC_\bo_\bn_\bc_\ba_\bt_\be_\bn_\ba_\bt_\be _\bS_\bt_\br_\bi_\bn_\bg_\bs\n",
      "\n",
      "_\bD_\be_\bs_\bc_\br_\bi_\bp_\bt_\bi_\bo_\bn:\n",
      "\n",
      "     Concatenate vectors after converting to character.\n",
      "\n",
      "_\bU_\bs_\ba_\bg_\be:\n",
      "\n",
      "     paste (..., sep = \" \", collapse = NULL, recycle0 = FALSE)\n",
      "     paste0(...,            collapse = NULL, recycle0 = FALSE)\n",
      "     \n",
      "_\bA_\br_\bg_\bu_\bm_\be_\bn_\bt_\bs:\n",
      "\n",
      "     ...: one or more R objects, to be converted to character vectors.\n",
      "\n",
      "     sep: a character string to separate the terms.  Not\n",
      "          ‘NA_character_’.\n",
      "\n",
      "collapse: an optional character string to separate the results.  Not\n",
      "          ‘NA_character_’.\n",
      "\n",
      "recycle0: ‘logical’ indicating if zero-length character arguments\n",
      "          should lead to the zero-length ‘character(0)’ after the\n",
      "          ‘sep’-phase (which turns into ‘\"\"’ in the ‘collapse’-phase,\n",
      "          i.e., when ‘collapse’ is not ‘NULL’).\n",
      "\n",
      "_\bD_\be_\bt_\ba_\bi_\bl_\bs:\n",
      "\n",
      "     ‘paste’ converts its arguments (_via_ ‘as.character’) to character\n",
      "     strings, and concatenates them (separating them by the string\n",
      "     given by ‘sep’).  If the arguments are vectors, they are\n",
      "     concatenated term-by-term to give a character vector result.\n",
      "     Vector arguments are recycled as needed, with zero-length\n",
      "     arguments being recycled to ‘\"\"’ only if ‘recycle0’ is not true\n",
      "     _or_ ‘collapse’ is not ‘NULL’.\n",
      "\n",
      "     Note that ‘paste()’ coerces ‘NA_character_’, the character missing\n",
      "     value, to ‘\"NA\"’ which may seem undesirable, e.g., when pasting\n",
      "     two character vectors, or very desirable, e.g. in ‘paste(\"the\n",
      "     value of p is \", p)’.\n",
      "\n",
      "     ‘paste0(..., collapse)’ is equivalent to ‘paste(..., sep = \"\",\n",
      "     collapse)’, slightly more efficiently.\n",
      "\n",
      "     If a value is specified for ‘collapse’, the values in the result\n",
      "     are then concatenated into a single string, with the elements\n",
      "     being separated by the value of ‘collapse’.\n",
      "\n",
      "_\bV_\ba_\bl_\bu_\be:\n",
      "\n",
      "     A character vector of the concatenated values.  This will be of\n",
      "     length zero if all the objects are, unless ‘collapse’ is non-NULL,\n",
      "     in which case it is ‘\"\"’ (a single empty string).\n",
      "\n",
      "     If any input into an element of the result is in UTF-8 (and none\n",
      "     are declared with encoding ‘\"bytes\"’, see ‘Encoding’), that\n",
      "     element will be in UTF-8, otherwise in the current encoding in\n",
      "     which case the encoding of the element is declared if the current\n",
      "     locale is either Latin-1 or UTF-8, at least one of the\n",
      "     corresponding inputs (including separators) had a declared\n",
      "     encoding and all inputs were either ASCII or declared.\n",
      "\n",
      "     If an input into an element is declared with encoding ‘\"bytes\"’,\n",
      "     no translation will be done of any of the elements and the\n",
      "     resulting element will have encoding ‘\"bytes\"’.  If ‘collapse’ is\n",
      "     non-NULL, this applies also to the second, collapsing, phase, but\n",
      "     some translation may have been done in pasting object together in\n",
      "     the first phase.\n",
      "\n",
      "_\bR_\be_\bf_\be_\br_\be_\bn_\bc_\be_\bs:\n",
      "\n",
      "     Becker, R. A., Chambers, J. M. and Wilks, A. R. (1988) _The New S\n",
      "     Language_.  Wadsworth & Brooks/Cole.\n",
      "\n",
      "_\bS_\be_\be _\bA_\bl_\bs_\bo:\n",
      "\n",
      "     ‘toString’ typically calls ‘paste(*, collapse=\", \")’.  String\n",
      "     manipulation with ‘as.character’, ‘substr’, ‘nchar’, ‘strsplit’;\n",
      "     further, ‘cat’ which concatenates and writes to a file, and\n",
      "     ‘sprintf’ for C like string construction.\n",
      "\n",
      "     ‘plotmath’ for the use of ‘paste’ in plot annotation.\n",
      "\n",
      "_\bE_\bx_\ba_\bm_\bp_\bl_\be_\bs:\n",
      "\n",
      "     ## When passing a single vector, paste0 and paste work like as.character.\n",
      "     paste0(1:12)\n",
      "     paste(1:12)        # same\n",
      "     as.character(1:12) # same\n",
      "     \n",
      "     ## If you pass several vectors to paste0, they are concatenated in a\n",
      "     ## vectorized way.\n",
      "     (nth <- paste0(1:12, c(\"st\", \"nd\", \"rd\", rep(\"th\", 9))))\n",
      "     \n",
      "     ## paste works the same, but separates each input with a space.\n",
      "     ## Notice that the recycling rules make every input as long as the longest input.\n",
      "     paste(month.abb, \"is the\", nth, \"month of the year.\")\n",
      "     paste(month.abb, letters)\n",
      "     \n",
      "     ## You can change the separator by passing a sep argument\n",
      "     ## which can be multiple characters.\n",
      "     paste(month.abb, \"is the\", nth, \"month of the year.\", sep = \"_*_\")\n",
      "     \n",
      "     ## To collapse the output into a single string, pass a collapse argument.\n",
      "     paste0(nth, collapse = \", \")\n",
      "     \n",
      "     ## For inputs of length 1, use the sep argument rather than collapse\n",
      "     paste(\"1st\", \"2nd\", \"3rd\", collapse = \", \") # probably not what you wanted\n",
      "     paste(\"1st\", \"2nd\", \"3rd\", sep = \", \")\n",
      "     \n",
      "     ## You can combine the sep and collapse arguments together.\n",
      "     paste(month.abb, nth, sep = \": \", collapse = \"; \")\n",
      "     \n",
      "     ## Using paste() in combination with strwrap() can be useful\n",
      "     ## for dealing with long strings.\n",
      "     (title <- paste(strwrap(\n",
      "         \"Stopping distance of cars (ft) vs. speed (mph) from Ezekiel (1930)\",\n",
      "         width = 30), collapse = \"\\n\"))\n",
      "     plot(dist ~ speed, cars, main = title)\n",
      "     \n",
      "     ## 'recycle0 = TRUE' allows more vectorized behaviour, i.e. zero-length recycling :\n",
      "     valid <- FALSE\n",
      "     val <- pi\n",
      "     paste(\"The value is\", val[valid], \"-- not so good!\")\n",
      "     paste(\"The value is\", val[valid], \"-- good: empty!\", recycle0=TRUE) # -> character(0)\n",
      "     ## When  'collapse = <string>',  the result is a length-1 string :\n",
      "     paste(\"foo\", {}, \"bar\", collapse=\"|\")                  # |-->  \"foo  bar\"\n",
      "     paste(\"foo\", {}, \"bar\", collapse=\"|\", recycle0 = TRUE) # |-->  \"\"\n",
      "     ## all empty args\n",
      "     paste(    collapse=\"|\")                  # |-->  \"\"  as do all these:\n",
      "     paste(    collapse=\"|\", recycle0 = TRUE)\n",
      "     paste({}, collapse=\"|\")\n",
      "     paste({}, collapse=\"|\", recycle0 = TRUE)\n",
      "     "
     ]
    }
   ],
   "source": [
    "?paste"
   ]
  },
  {
   "attachments": {},
   "cell_type": "markdown",
   "metadata": {},
   "source": [
    "As you can see the first argument of paste() is `...` which is referred to as an ellipsis or simply dot-dot-dot. The ellipsis allows an indefinite  number of arguments to be passed into a function. In the case of paste() any number of strings can be passed as arguments and paste() will return all of  the strings combined into one string."
   ]
  },
  {
   "cell_type": "code",
   "execution_count": 20,
   "metadata": {
    "vscode": {
     "languageId": "r"
    }
   },
   "outputs": [
    {
     "data": {
      "text/html": [
       "'Programming is fun!'"
      ],
      "text/latex": [
       "'Programming is fun!'"
      ],
      "text/markdown": [
       "'Programming is fun!'"
      ],
      "text/plain": [
       "[1] \"Programming is fun!\""
      ]
     },
     "metadata": {},
     "output_type": "display_data"
    }
   ],
   "source": [
    "paste(\"Programming\", \"is\", \"fun!\")"
   ]
  },
  {
   "attachments": {},
   "cell_type": "markdown",
   "metadata": {},
   "source": [
    "Time to write our own modified version of paste().\n",
    "\n",
    "The ellipses can be used to pass on arguments to other functions that are used within the function you're writing. Usually a function that has the ellipses as an argument has the ellipses as the last argument. The usage of such a function would look like:\n",
    "\n",
    "```R\n",
    "ellipses_func(arg1, arg2 = TRUE, ...)\n",
    "```\n",
    "\n",
    "In the above example arg1 has no default value, so a value must be provided for arg1. arg2 has a default value, and other arguments can come after arg2 depending on how they're defined in the ellipses_func() documentation. Interestingly the usage for the paste function is as follows:\n",
    "\n",
    "```R\n",
    "paste (..., sep = \" \", collapse = NULL)\n",
    "```\n",
    "\n",
    "Notice that the ellipses is the first argument, and all other arguments after the ellipses have default values. This is a strict rule in R programming: all arguments after an ellipses must have default values. Take a look at the simon_says function below:\n",
    "\n",
    "```R\n",
    "simon_says <- function(...){\n",
    "    paste(\"Simon says:\", ...)\n",
    "}\n",
    "```\n",
    "\n",
    "The simon_says function works just like the paste function, except the begining of every string is prepended by the string \"Simon says:\"\n",
    "\n",
    "Telegrams used to be peppered with the words START and STOP in order to demarcate the beginning and end of sentences. Write a function below called  telegram that formats sentences for telegrams. For example the expression `telegram(\"Good\", \"morning\")` should evaluate to:\n",
    "\n",
    "\"START Good morning STOP\""
   ]
  },
  {
   "cell_type": "code",
   "execution_count": 21,
   "metadata": {
    "vscode": {
     "languageId": "r"
    }
   },
   "outputs": [],
   "source": [
    "telegram <- function(...){\n",
    "   paste(\"START\", ..., \"STOP\")\n",
    "}"
   ]
  },
  {
   "attachments": {},
   "cell_type": "markdown",
   "metadata": {},
   "source": [
    "Now let's test out your telegram function. Use your new telegram function passing in whatever arguments you wish!"
   ]
  },
  {
   "cell_type": "code",
   "execution_count": 22,
   "metadata": {
    "vscode": {
     "languageId": "r"
    }
   },
   "outputs": [
    {
     "data": {
      "text/html": [
       "'START Hello STOP'"
      ],
      "text/latex": [
       "'START Hello STOP'"
      ],
      "text/markdown": [
       "'START Hello STOP'"
      ],
      "text/plain": [
       "[1] \"START Hello STOP\""
      ]
     },
     "metadata": {},
     "output_type": "display_data"
    }
   ],
   "source": [
    "telegram(\"Hello\")"
   ]
  },
  {
   "attachments": {},
   "cell_type": "markdown",
   "metadata": {},
   "source": [
    "Let's explore how to \"unpack\" arguments from an ellipses when you use the ellipses as an argument in a function. Below we have an example function that is supposed to add two explicitly named arguments called alpha and beta.\n",
    "\n",
    "```R\n",
    "add_alpha_and_beta <- function(...){\n",
    "    # First we must capture the ellipsis inside of a list\n",
    "    # and then assign the list to a variable. Let's name this\n",
    "    # variable `args`.\n",
    "    \n",
    "    args <- list(...)\n",
    "    \n",
    "    # We're now going to assume that there are two named arguments within args\n",
    "    # with the names `alpha` and `beta.` We can extract named arguments from\n",
    "    # the args list by using the name of the argument and double brackets. The\n",
    "    # `args` variable is just a regular list after all!\n",
    "    \n",
    "    alpha <- args[[\"alpha\"]]\n",
    "    beta  <- args[[\"beta\"]]\n",
    "    \n",
    "    # Then we return the sum of alpha and beta.\n",
    "    \n",
    "    alpha + beta \n",
    "}\n",
    "```\n",
    "\n",
    "Have you ever played Mad Libs before? The function below will construct a sentence from parts of speech that you provide as arguments. We'll write most of the function, but you'll need to unpack the appropriate arguments from the ellipses."
   ]
  },
  {
   "cell_type": "code",
   "execution_count": 23,
   "metadata": {
    "vscode": {
     "languageId": "r"
    }
   },
   "outputs": [],
   "source": [
    "mad_libs <- function(...){\n",
    "    # Do your argument unpacking here!\n",
    "    args <- list(...)\n",
    "    place <- args[[\"place\"]]\n",
    "    adjective <- args[[\"adjective\"]]\n",
    "    noun <- args[[\"noun\"]]\n",
    "\n",
    "    # Don't modify any code below this comment.\n",
    "    # Notice the variables you'll need to create in order for the code below to\n",
    "    # be functional!\n",
    "    paste(\"News from\", place, \"today where\", adjective, \"students took to the streets in protest of the new\", noun, \"being installed on campus.\")\n",
    "}"
   ]
  },
  {
   "attachments": {},
   "cell_type": "markdown",
   "metadata": {},
   "source": [
    "Time to use your mad_libs function. Make sure to name the place, adjective, and noun arguments in order for your function to work."
   ]
  },
  {
   "cell_type": "code",
   "execution_count": 24,
   "metadata": {
    "vscode": {
     "languageId": "r"
    }
   },
   "outputs": [
    {
     "data": {
      "text/html": [
       "'News from Mexico today where smart students took to the streets in protest of the new internet being installed on campus.'"
      ],
      "text/latex": [
       "'News from Mexico today where smart students took to the streets in protest of the new internet being installed on campus.'"
      ],
      "text/markdown": [
       "'News from Mexico today where smart students took to the streets in protest of the new internet being installed on campus.'"
      ],
      "text/plain": [
       "[1] \"News from Mexico today where smart students took to the streets in protest of the new internet being installed on campus.\""
      ]
     },
     "metadata": {},
     "output_type": "display_data"
    }
   ],
   "source": [
    "mad_libs(adjective=\"smart\", place=\"Mexico\", noun=\"internet\")"
   ]
  },
  {
   "attachments": {},
   "cell_type": "markdown",
   "metadata": {},
   "source": [
    "We're coming to the end of this lesson, but there's still one more idea you should be made aware of.\n",
    "\n",
    "You're familiar with adding, subtracting, multiplying, and dividing numbers in R. To do this you use the +, -, *, and / symbols. These symbols are called binary operators because they take two inputs, an input from the left and an input from the right.\n",
    "\n",
    "In R you can define your own binary operators. In the next script we'll show you how.\n",
    "\n",
    "The syntax for creating new binary operators in R is unlike anything else in R, but it allows you to define a new syntax for your function. I would only recommend making your own binary operator if you plan on using it often!\n",
    "\n",
    "User-defined binary operators have the following syntax:\n",
    "\n",
    "    %[whatever]% \n",
    "\n",
    "where [whatever] represents any valid variable name.\n",
    "\n",
    "Let's say I wanted to define a binary operator that multiplied two numbers and then added one to the product. An implementation of that operator is below:\n",
    "\n",
    "```R\n",
    "\"%mult_add_one%\" <- function(left, right){ Notice the quotation marks!\n",
    "    left * right + 1\n",
    "}\n",
    "```\n",
    "\n",
    "I could then use this binary operator like `4 %mult_add_one% 5` which would evaluate to 21.\n",
    "\n",
    "Write your own binary operator below from absolute scratch! Your binary operator must be called %p% so that the expression:\n",
    "\n",
    "    \"Good\" %p% \"job!\"\n",
    "    \n",
    "will evaluate to: \"Good job!\""
   ]
  },
  {
   "cell_type": "code",
   "execution_count": 25,
   "metadata": {
    "vscode": {
     "languageId": "r"
    }
   },
   "outputs": [],
   "source": [
    "\"%p%\" <- function(left, right){ # Remember to add arguments!\n",
    "    paste(left, right)\n",
    "}"
   ]
  },
  {
   "attachments": {},
   "cell_type": "markdown",
   "metadata": {},
   "source": [
    "You made your own binary operator! Let's test it out. Paste together the strings: 'I', 'love', 'R!' using your new binary operator."
   ]
  },
  {
   "cell_type": "code",
   "execution_count": 26,
   "metadata": {
    "vscode": {
     "languageId": "r"
    }
   },
   "outputs": [
    {
     "data": {
      "text/html": [
       "'I love R!'"
      ],
      "text/latex": [
       "'I love R!'"
      ],
      "text/markdown": [
       "'I love R!'"
      ],
      "text/plain": [
       "[1] \"I love R!\""
      ]
     },
     "metadata": {},
     "output_type": "display_data"
    }
   ],
   "source": [
    "'I' %p% 'love' %p% 'R!'"
   ]
  },
  {
   "attachments": {},
   "cell_type": "markdown",
   "metadata": {},
   "source": [
    "We've come to the end of our lesson! Go out there and write some great functions!"
   ]
  }
 ],
 "metadata": {
  "kernelspec": {
   "display_name": "R",
   "language": "R",
   "name": "ir"
  },
  "language_info": {
   "codemirror_mode": "r",
   "file_extension": ".r",
   "mimetype": "text/x-r-source",
   "name": "R",
   "pygments_lexer": "r",
   "version": "4.2.3"
  },
  "orig_nbformat": 4
 },
 "nbformat": 4,
 "nbformat_minor": 2
}
