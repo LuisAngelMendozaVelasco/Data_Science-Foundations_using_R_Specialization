{
 "cells": [
  {
   "cell_type": "markdown",
   "metadata": {},
   "source": [
    "# Practice Programming Assignment: swirl Lesson 2: Workspace and Files"
   ]
  },
  {
   "attachments": {},
   "cell_type": "markdown",
   "metadata": {},
   "source": [
    "In this lesson, you'll learn how to examine your local workspace in R and begin to explore the relationship between your workspace and the file system of your machine.\n",
    "\n",
    "Because different operating systems have different conventions with regards to things like file paths, the outputs of these commands may vary across machines.\n",
    "\n",
    "However it's important to note that R provides a common API (a common set of commands) for interacting with files, that way your code will work across different kinds of computers.\n",
    "\n",
    "Let's jump right in so you can get a feel for how these special functions work!\n",
    "\n",
    "Determine which directory your R session is using as its current working directory using getwd()."
   ]
  },
  {
   "cell_type": "code",
   "execution_count": 1,
   "metadata": {
    "vscode": {
     "languageId": "r"
    }
   },
   "outputs": [
    {
     "data": {
      "text/html": [
       "'/home/luis-mendoza/Documents/GitHub/Data_Science-Foundations_using_R_Specialization/R_Programming'"
      ],
      "text/latex": [
       "'/home/luis-mendoza/Documents/GitHub/Data\\_Science-Foundations\\_using\\_R\\_Specialization/R\\_Programming'"
      ],
      "text/markdown": [
       "'/home/luis-mendoza/Documents/GitHub/Data_Science-Foundations_using_R_Specialization/R_Programming'"
      ],
      "text/plain": [
       "[1] \"/home/luis-mendoza/Documents/GitHub/Data_Science-Foundations_using_R_Specialization/R_Programming\""
      ]
     },
     "metadata": {},
     "output_type": "display_data"
    }
   ],
   "source": [
    "getwd()   "
   ]
  },
  {
   "attachments": {},
   "cell_type": "markdown",
   "metadata": {},
   "source": [
    "List all the objects in your local workspace using ls()"
   ]
  },
  {
   "cell_type": "code",
   "execution_count": 2,
   "metadata": {
    "vscode": {
     "languageId": "r"
    }
   },
   "outputs": [
    {
     "data": {
      "text/html": [],
      "text/latex": [],
      "text/markdown": [],
      "text/plain": [
       "character(0)"
      ]
     },
     "metadata": {},
     "output_type": "display_data"
    }
   ],
   "source": [
    "ls()"
   ]
  },
  {
   "attachments": {},
   "cell_type": "markdown",
   "metadata": {},
   "source": [
    "Some R commands are the same as their equivalents commands on Linux or on a Mac. Both Linux and Mac operating systems are based on an operating system called Unix. It's always a good idea to learn more about Unix!\n",
    "\n",
    "Assign 9 to x using x <- 9."
   ]
  },
  {
   "cell_type": "code",
   "execution_count": 3,
   "metadata": {
    "vscode": {
     "languageId": "r"
    }
   },
   "outputs": [],
   "source": [
    "x <- 9"
   ]
  },
  {
   "attachments": {},
   "cell_type": "markdown",
   "metadata": {},
   "source": [
    "Now take a look at objects that are in your workspace using ls()."
   ]
  },
  {
   "cell_type": "code",
   "execution_count": 4,
   "metadata": {
    "vscode": {
     "languageId": "r"
    }
   },
   "outputs": [
    {
     "data": {
      "text/html": [
       "'x'"
      ],
      "text/latex": [
       "'x'"
      ],
      "text/markdown": [
       "'x'"
      ],
      "text/plain": [
       "[1] \"x\""
      ]
     },
     "metadata": {},
     "output_type": "display_data"
    }
   ],
   "source": [
    "ls()"
   ]
  },
  {
   "attachments": {},
   "cell_type": "markdown",
   "metadata": {},
   "source": [
    "List all the files in your working directory using list.files() or dir()."
   ]
  },
  {
   "cell_type": "code",
   "execution_count": 5,
   "metadata": {
    "vscode": {
     "languageId": "r"
    }
   },
   "outputs": [
    {
     "data": {
      "text/html": [
       "<style>\n",
       ".list-inline {list-style: none; margin:0; padding: 0}\n",
       ".list-inline>li {display: inline-block}\n",
       ".list-inline>li:not(:last-child)::after {content: \"\\00b7\"; padding: 0 .5ex}\n",
       "</style>\n",
       "<ol class=list-inline><li>'Practical R Exercises in swirl Part 1.ipynb'</li><li>'swirl Lesson 1: Basic Building Blocks.ipynb'</li><li>'swirl Lesson 2: Workspace and Files.ipynb'</li></ol>\n"
      ],
      "text/latex": [
       "\\begin{enumerate*}\n",
       "\\item 'Practical R Exercises in swirl Part 1.ipynb'\n",
       "\\item 'swirl Lesson 1: Basic Building Blocks.ipynb'\n",
       "\\item 'swirl Lesson 2: Workspace and Files.ipynb'\n",
       "\\end{enumerate*}\n"
      ],
      "text/markdown": [
       "1. 'Practical R Exercises in swirl Part 1.ipynb'\n",
       "2. 'swirl Lesson 1: Basic Building Blocks.ipynb'\n",
       "3. 'swirl Lesson 2: Workspace and Files.ipynb'\n",
       "\n",
       "\n"
      ],
      "text/plain": [
       "[1] \"Practical R Exercises in swirl Part 1.ipynb\"\n",
       "[2] \"swirl Lesson 1: Basic Building Blocks.ipynb\"\n",
       "[3] \"swirl Lesson 2: Workspace and Files.ipynb\"  "
      ]
     },
     "metadata": {},
     "output_type": "display_data"
    }
   ],
   "source": [
    "dir()"
   ]
  },
  {
   "attachments": {},
   "cell_type": "markdown",
   "metadata": {},
   "source": [
    "As we go through this lesson, you should be examining the help page for each new function. Check out the help page for list.files with the command ?list.files."
   ]
  },
  {
   "cell_type": "code",
   "execution_count": 6,
   "metadata": {
    "vscode": {
     "languageId": "r"
    }
   },
   "outputs": [
    {
     "name": "stdout",
     "output_type": "stream",
     "text": [
      "list.files                package:base                 R Documentation\n",
      "\n",
      "_\bL_\bi_\bs_\bt _\bt_\bh_\be _\bF_\bi_\bl_\be_\bs _\bi_\bn _\ba _\bD_\bi_\br_\be_\bc_\bt_\bo_\br_\by/_\bF_\bo_\bl_\bd_\be_\br\n",
      "\n",
      "_\bD_\be_\bs_\bc_\br_\bi_\bp_\bt_\bi_\bo_\bn:\n",
      "\n",
      "     These functions produce a character vector of the names of files\n",
      "     or directories in the named directory.\n",
      "\n",
      "_\bU_\bs_\ba_\bg_\be:\n",
      "\n",
      "     list.files(path = \".\", pattern = NULL, all.files = FALSE,\n",
      "                full.names = FALSE, recursive = FALSE,\n",
      "                ignore.case = FALSE, include.dirs = FALSE, no.. = FALSE)\n",
      "     \n",
      "            dir(path = \".\", pattern = NULL, all.files = FALSE,\n",
      "                full.names = FALSE, recursive = FALSE,\n",
      "                ignore.case = FALSE, include.dirs = FALSE, no.. = FALSE)\n",
      "     \n",
      "     list.dirs(path = \".\", full.names = TRUE, recursive = TRUE)\n",
      "     \n",
      "_\bA_\br_\bg_\bu_\bm_\be_\bn_\bt_\bs:\n",
      "\n",
      "    path: a character vector of full path names; the default\n",
      "          corresponds to the working directory, ‘getwd()’.  Tilde\n",
      "          expansion (see ‘path.expand’) is performed.  Missing values\n",
      "          will be ignored.  Elements with a marked encoding will be\n",
      "          converted to the native encoding (and if that fails,\n",
      "          considered non-existent).\n",
      "\n",
      " pattern: an optional regular expression.  Only file names which match\n",
      "          the regular expression will be returned.\n",
      "\n",
      "all.files: a logical value.  If ‘FALSE’, only the names of visible\n",
      "          files are returned (following Unix-style visibility, that is\n",
      "          files whose name does not start with a dot).  If ‘TRUE’, all\n",
      "          file names will be returned.\n",
      "\n",
      "full.names: a logical value.  If ‘TRUE’, the directory path is\n",
      "          prepended to the file names to give a relative file path.  If\n",
      "          ‘FALSE’, the file names (rather than paths) are returned.\n",
      "\n",
      "recursive: logical.  Should the listing recurse into directories?\n",
      "\n",
      "ignore.case: logical.  Should pattern-matching be case-insensitive?\n",
      "\n",
      "include.dirs: logical.  Should subdirectory names be included in\n",
      "          recursive listings?  (They always are in non-recursive ones).\n",
      "\n",
      "    no..: logical.  Should both ‘\".\"’ and ‘\"..\"’ be excluded also from\n",
      "          non-recursive listings?\n",
      "\n",
      "_\bV_\ba_\bl_\bu_\be:\n",
      "\n",
      "     A character vector containing the names of the files in the\n",
      "     specified directories (empty if there were no files).  If a path\n",
      "     does not exist or is not a directory or is unreadable it is\n",
      "     skipped.\n",
      "\n",
      "     The files are sorted in alphabetical order, on the full path if\n",
      "     ‘full.names = TRUE’.\n",
      "\n",
      "     ‘list.dirs’ implicitly has ‘all.files = TRUE’, and if ‘recursive =\n",
      "     TRUE’, the answer includes ‘path’ itself (provided it is a\n",
      "     readable directory).\n",
      "\n",
      "     ‘dir’ is an alias for ‘list.files’.\n",
      "\n",
      "_\bN_\bo_\bt_\be:\n",
      "\n",
      "     File naming conventions are platform dependent.  The pattern\n",
      "     matching works with the case of file names as returned by the OS.\n",
      "\n",
      "     On a POSIX filesystem recursive listings will follow symbolic\n",
      "     links to directories.\n",
      "\n",
      "_\bA_\bu_\bt_\bh_\bo_\br(_\bs):\n",
      "\n",
      "     Ross Ihaka, Brian Ripley\n",
      "\n",
      "_\bS_\be_\be _\bA_\bl_\bs_\bo:\n",
      "\n",
      "     ‘file.info’, ‘file.access’ and ‘files’ for many more file handling\n",
      "     functions and ‘file.choose’ for interactive selection.\n",
      "\n",
      "     ‘glob2rx’ to convert wildcards (as used by system file commands\n",
      "     and shells) to regular expressions.\n",
      "\n",
      "     ‘Sys.glob’ for wildcard expansion on file paths.  ‘basename’ and\n",
      "     ‘dirname’, useful for splitting paths into non-directory (aka\n",
      "     ‘filename’) and directory parts.\n",
      "\n",
      "_\bE_\bx_\ba_\bm_\bp_\bl_\be_\bs:\n",
      "\n",
      "     list.files(R.home())\n",
      "     ## Only files starting with a-l or r\n",
      "     ## Note that a-l is locale-dependent, but using case-insensitive\n",
      "     ## matching makes it unambiguous in English locales\n",
      "     dir(\"../..\", pattern = \"^[a-lr]\", full.names = TRUE, ignore.case = TRUE)\n",
      "     \n",
      "     list.dirs(R.home(\"doc\"))\n",
      "     list.dirs(R.home(\"doc\"), full.names = FALSE)\n",
      "     "
     ]
    }
   ],
   "source": [
    "?list.files"
   ]
  },
  {
   "attachments": {},
   "cell_type": "markdown",
   "metadata": {},
   "source": [
    "One of the most helpful parts of any R help file is the See Also section. Read that section for list.files. Some of these functions may be used in later portions of this lesson.\n",
    "\n",
    "Using the args() function on a function name is also a handy way to see what arguments a function can take.\n",
    "\n",
    "Use the args() function to determine the arguments to list.files()."
   ]
  },
  {
   "cell_type": "code",
   "execution_count": 7,
   "metadata": {
    "vscode": {
     "languageId": "r"
    }
   },
   "outputs": [
    {
     "data": {
      "text/html": [
       "<pre class=language-r><code>function (path = \".\", pattern = NULL, all.files = FALSE, full.names = FALSE, \n",
       "<span style=white-space:pre-wrap>    recursive = FALSE, ignore.case = FALSE, include.dirs = FALSE, </span>\n",
       "<span style=white-space:pre-wrap>    no.. = FALSE) </span>\n",
       "NULL</code></pre>"
      ],
      "text/latex": [
       "\\begin{minted}{r}\n",
       "function (path = \".\", pattern = NULL, all.files = FALSE, full.names = FALSE, \n",
       "    recursive = FALSE, ignore.case = FALSE, include.dirs = FALSE, \n",
       "    no.. = FALSE) \n",
       "NULL\n",
       "\\end{minted}"
      ],
      "text/markdown": [
       "```r\n",
       "function (path = \".\", pattern = NULL, all.files = FALSE, full.names = FALSE, \n",
       "    recursive = FALSE, ignore.case = FALSE, include.dirs = FALSE, \n",
       "    no.. = FALSE) \n",
       "NULL\n",
       "```"
      ],
      "text/plain": [
       "function (path = \".\", pattern = NULL, all.files = FALSE, full.names = FALSE, \n",
       "    recursive = FALSE, ignore.case = FALSE, include.dirs = FALSE, \n",
       "    no.. = FALSE) \n",
       "NULL"
      ]
     },
     "metadata": {},
     "output_type": "display_data"
    }
   ],
   "source": [
    "args(list.files)"
   ]
  },
  {
   "attachments": {},
   "cell_type": "markdown",
   "metadata": {},
   "source": [
    "Assign the value of the current working directory to a variable called \"old.dir\"."
   ]
  },
  {
   "cell_type": "code",
   "execution_count": 8,
   "metadata": {
    "vscode": {
     "languageId": "r"
    }
   },
   "outputs": [],
   "source": [
    "old.dir <- getwd()"
   ]
  },
  {
   "attachments": {},
   "cell_type": "markdown",
   "metadata": {},
   "source": [
    "We will use old.dir at the end of this lesson to move back to the place that we started. A lot of query functions like getwd() have the useful property that they return the answer to the question as a result of the function.\n",
    "\n",
    "Use dir.create() to create a directory in the current working directory called \"testdir\"."
   ]
  },
  {
   "cell_type": "code",
   "execution_count": 9,
   "metadata": {
    "vscode": {
     "languageId": "r"
    }
   },
   "outputs": [],
   "source": [
    "dir.create(\"testdir\")"
   ]
  },
  {
   "attachments": {},
   "cell_type": "markdown",
   "metadata": {},
   "source": [
    "We will do all our work in this new directory and then delete it after we are done. This is the R analog to \"Take only pictures, leave only footprints.\"\n",
    "\n",
    "Set your working directory to \"testdir\" with the setwd() command."
   ]
  },
  {
   "cell_type": "code",
   "execution_count": 10,
   "metadata": {
    "vscode": {
     "languageId": "r"
    }
   },
   "outputs": [],
   "source": [
    "setwd(\"testdir\")"
   ]
  },
  {
   "attachments": {},
   "cell_type": "markdown",
   "metadata": {},
   "source": [
    "In general, you will want your working directory to be someplace sensible, perhaps created for the specific project that you are working on. In fact, organizing your work in R packages using RStudio is an excellent option. Check out RStudio at http://www.rstudio.com/\n",
    "\n",
    "Create a file in your working directory called \"mytest.R\" using the file.create() function."
   ]
  },
  {
   "cell_type": "code",
   "execution_count": 11,
   "metadata": {
    "vscode": {
     "languageId": "r"
    }
   },
   "outputs": [
    {
     "data": {
      "text/html": [
       "TRUE"
      ],
      "text/latex": [
       "TRUE"
      ],
      "text/markdown": [
       "TRUE"
      ],
      "text/plain": [
       "[1] TRUE"
      ]
     },
     "metadata": {},
     "output_type": "display_data"
    }
   ],
   "source": [
    "file.create(\"mytest.R\")"
   ]
  },
  {
   "attachments": {},
   "cell_type": "markdown",
   "metadata": {},
   "source": [
    "This should be the only file in this newly created directory. Let's check this by listing all the files in the current directory."
   ]
  },
  {
   "cell_type": "code",
   "execution_count": 12,
   "metadata": {
    "vscode": {
     "languageId": "r"
    }
   },
   "outputs": [
    {
     "data": {
      "text/html": [
       "'mytest.R'"
      ],
      "text/latex": [
       "'mytest.R'"
      ],
      "text/markdown": [
       "'mytest.R'"
      ],
      "text/plain": [
       "[1] \"mytest.R\""
      ]
     },
     "metadata": {},
     "output_type": "display_data"
    }
   ],
   "source": [
    "list.files()"
   ]
  },
  {
   "attachments": {},
   "cell_type": "markdown",
   "metadata": {},
   "source": [
    "Check to see if \"mytest.R\" exists in the working directory using the file.exists() function."
   ]
  },
  {
   "cell_type": "code",
   "execution_count": 13,
   "metadata": {
    "vscode": {
     "languageId": "r"
    }
   },
   "outputs": [
    {
     "data": {
      "text/html": [
       "TRUE"
      ],
      "text/latex": [
       "TRUE"
      ],
      "text/markdown": [
       "TRUE"
      ],
      "text/plain": [
       "[1] TRUE"
      ]
     },
     "metadata": {},
     "output_type": "display_data"
    }
   ],
   "source": [
    "file.exists(\"mytest.R\")"
   ]
  },
  {
   "attachments": {},
   "cell_type": "markdown",
   "metadata": {},
   "source": [
    "These sorts of functions are excessive for interactive use. But, if you are running a program that loops through a series of files and does some processing on each one, you will want to check to see that each exists before you try to process it.\n",
    "\n",
    "Access information about the file \"mytest.R\" by using file.info()."
   ]
  },
  {
   "cell_type": "code",
   "execution_count": 14,
   "metadata": {
    "vscode": {
     "languageId": "r"
    }
   },
   "outputs": [
    {
     "data": {
      "text/html": [
       "<table class=\"dataframe\">\n",
       "<caption>A data.frame: 1 × 10</caption>\n",
       "<thead>\n",
       "\t<tr><th></th><th scope=col>size</th><th scope=col>isdir</th><th scope=col>mode</th><th scope=col>mtime</th><th scope=col>ctime</th><th scope=col>atime</th><th scope=col>uid</th><th scope=col>gid</th><th scope=col>uname</th><th scope=col>grname</th></tr>\n",
       "\t<tr><th></th><th scope=col>&lt;dbl&gt;</th><th scope=col>&lt;lgl&gt;</th><th scope=col>&lt;octmode&gt;</th><th scope=col>&lt;dttm&gt;</th><th scope=col>&lt;dttm&gt;</th><th scope=col>&lt;dttm&gt;</th><th scope=col>&lt;int&gt;</th><th scope=col>&lt;int&gt;</th><th scope=col>&lt;chr&gt;</th><th scope=col>&lt;chr&gt;</th></tr>\n",
       "</thead>\n",
       "<tbody>\n",
       "\t<tr><th scope=row>mytest.R</th><td>0</td><td>FALSE</td><td>664</td><td>2023-04-14 20:36:10</td><td>2023-04-14 20:36:10</td><td>2023-04-14 20:36:10</td><td>1000</td><td>1000</td><td>luis-mendoza</td><td>luis-mendoza</td></tr>\n",
       "</tbody>\n",
       "</table>\n"
      ],
      "text/latex": [
       "A data.frame: 1 × 10\n",
       "\\begin{tabular}{r|llllllllll}\n",
       "  & size & isdir & mode & mtime & ctime & atime & uid & gid & uname & grname\\\\\n",
       "  & <dbl> & <lgl> & <octmode> & <dttm> & <dttm> & <dttm> & <int> & <int> & <chr> & <chr>\\\\\n",
       "\\hline\n",
       "\tmytest.R & 0 & FALSE & 664 & 2023-04-14 20:36:10 & 2023-04-14 20:36:10 & 2023-04-14 20:36:10 & 1000 & 1000 & luis-mendoza & luis-mendoza\\\\\n",
       "\\end{tabular}\n"
      ],
      "text/markdown": [
       "\n",
       "A data.frame: 1 × 10\n",
       "\n",
       "| <!--/--> | size &lt;dbl&gt; | isdir &lt;lgl&gt; | mode &lt;octmode&gt; | mtime &lt;dttm&gt; | ctime &lt;dttm&gt; | atime &lt;dttm&gt; | uid &lt;int&gt; | gid &lt;int&gt; | uname &lt;chr&gt; | grname &lt;chr&gt; |\n",
       "|---|---|---|---|---|---|---|---|---|---|---|\n",
       "| mytest.R | 0 | FALSE | 664 | 2023-04-14 20:36:10 | 2023-04-14 20:36:10 | 2023-04-14 20:36:10 | 1000 | 1000 | luis-mendoza | luis-mendoza |\n",
       "\n"
      ],
      "text/plain": [
       "         size isdir mode mtime               ctime              \n",
       "mytest.R 0    FALSE 664  2023-04-14 20:36:10 2023-04-14 20:36:10\n",
       "         atime               uid  gid  uname        grname      \n",
       "mytest.R 2023-04-14 20:36:10 1000 1000 luis-mendoza luis-mendoza"
      ]
     },
     "metadata": {},
     "output_type": "display_data"
    }
   ],
   "source": [
    "file.info(\"mytest.R\")"
   ]
  },
  {
   "attachments": {},
   "cell_type": "markdown",
   "metadata": {},
   "source": [
    "You can use the $ operator --- e.g., file.info(\"mytest.R\")$mode --- to grab specific items.\n",
    "\n",
    "Change the name of the file \"mytest.R\" to \"mytest2.R\" by using file.rename()."
   ]
  },
  {
   "cell_type": "code",
   "execution_count": 15,
   "metadata": {
    "vscode": {
     "languageId": "r"
    }
   },
   "outputs": [
    {
     "data": {
      "text/html": [
       "TRUE"
      ],
      "text/latex": [
       "TRUE"
      ],
      "text/markdown": [
       "TRUE"
      ],
      "text/plain": [
       "[1] TRUE"
      ]
     },
     "metadata": {},
     "output_type": "display_data"
    }
   ],
   "source": [
    "file.rename(\"mytest.R\", \"mytest2.R\")"
   ]
  },
  {
   "attachments": {},
   "cell_type": "markdown",
   "metadata": {},
   "source": [
    "Your operating system will provide simpler tools for these sorts of tasks, but having the ability to manipulate files programatically is useful. You might now try to delete mytest.R using file.remove('mytest.R'), but that won't work since mytest.R no longer exists. You have already renamed it.\n",
    "\n",
    "Make a copy of \"mytest2.R\" called \"mytest3.R\" using file.copy()."
   ]
  },
  {
   "cell_type": "code",
   "execution_count": 16,
   "metadata": {
    "vscode": {
     "languageId": "r"
    }
   },
   "outputs": [
    {
     "data": {
      "text/html": [
       "TRUE"
      ],
      "text/latex": [
       "TRUE"
      ],
      "text/markdown": [
       "TRUE"
      ],
      "text/plain": [
       "[1] TRUE"
      ]
     },
     "metadata": {},
     "output_type": "display_data"
    }
   ],
   "source": [
    "file.copy(\"mytest2.R\", \"mytest3.R\")"
   ]
  },
  {
   "attachments": {},
   "cell_type": "markdown",
   "metadata": {},
   "source": [
    "You now have two files in the current directory. That may not seem very interesting. But what if you were working with dozens, or millions, of individual files? In that case, being able to programatically act on many files would be absolutely necessary.\n",
    "\n",
    "Provide the relative path to the file \"mytest3.R\" by using file.path()."
   ]
  },
  {
   "cell_type": "code",
   "execution_count": 17,
   "metadata": {
    "vscode": {
     "languageId": "r"
    }
   },
   "outputs": [
    {
     "data": {
      "text/html": [
       "'mytest3.R'"
      ],
      "text/latex": [
       "'mytest3.R'"
      ],
      "text/markdown": [
       "'mytest3.R'"
      ],
      "text/plain": [
       "[1] \"mytest3.R\""
      ]
     },
     "metadata": {},
     "output_type": "display_data"
    }
   ],
   "source": [
    "file.path(\"mytest3.R\")"
   ]
  },
  {
   "attachments": {},
   "cell_type": "markdown",
   "metadata": {},
   "source": [
    "You can use file.path to construct file and directory paths that are independent of the operating system your R code is running on. Pass 'folder1' and 'folder2' as arguments to file.path to make a platform-independent pathname."
   ]
  },
  {
   "cell_type": "code",
   "execution_count": 18,
   "metadata": {
    "vscode": {
     "languageId": "r"
    }
   },
   "outputs": [
    {
     "data": {
      "text/html": [
       "'folder1/folder2'"
      ],
      "text/latex": [
       "'folder1/folder2'"
      ],
      "text/markdown": [
       "'folder1/folder2'"
      ],
      "text/plain": [
       "[1] \"folder1/folder2\""
      ]
     },
     "metadata": {},
     "output_type": "display_data"
    }
   ],
   "source": [
    "file.path(\"folder1\", \"folder2\")"
   ]
  },
  {
   "attachments": {},
   "cell_type": "markdown",
   "metadata": {},
   "source": [
    "Take a look at the documentation for dir.create by entering ?dir.create . Notice the 'recursive' argument. In order to create nested directories, 'recursive' must be set to TRUE."
   ]
  },
  {
   "cell_type": "code",
   "execution_count": 19,
   "metadata": {
    "vscode": {
     "languageId": "r"
    }
   },
   "outputs": [
    {
     "name": "stdout",
     "output_type": "stream",
     "text": [
      "files2                  package:base                   R Documentation\n",
      "\n",
      "_\bM_\ba_\bn_\bi_\bp_\bu_\bl_\ba_\bt_\bi_\bo_\bn _\bo_\bf _\bD_\bi_\br_\be_\bc_\bt_\bo_\br_\bi_\be_\bs _\ba_\bn_\bd _\bF_\bi_\bl_\be _\bP_\be_\br_\bm_\bi_\bs_\bs_\bi_\bo_\bn_\bs\n",
      "\n",
      "_\bD_\be_\bs_\bc_\br_\bi_\bp_\bt_\bi_\bo_\bn:\n",
      "\n",
      "     These functions provide a low-level interface to the computer's\n",
      "     file system.\n",
      "\n",
      "_\bU_\bs_\ba_\bg_\be:\n",
      "\n",
      "     dir.exists(paths)\n",
      "     dir.create(path, showWarnings = TRUE, recursive = FALSE, mode = \"0777\")\n",
      "     Sys.chmod(paths, mode = \"0777\", use_umask = TRUE)\n",
      "     Sys.umask(mode = NA)\n",
      "     \n",
      "_\bA_\br_\bg_\bu_\bm_\be_\bn_\bt_\bs:\n",
      "\n",
      "    path: a character vector containing a single path name.  Tilde\n",
      "          expansion (see ‘path.expand’) is done.\n",
      "\n",
      "   paths: character vectors containing file or directory paths.  Tilde\n",
      "          expansion (see ‘path.expand’) is done.\n",
      "\n",
      "showWarnings: logical; should the warnings on failure be shown?\n",
      "\n",
      "recursive: logical. Should elements of the path other than the last be\n",
      "          created?  If true, like the Unix command ‘mkdir -p’.\n",
      "\n",
      "    mode: the mode to be used on Unix-alikes: it will be coerced by\n",
      "          ‘as.octmode’.  For ‘Sys.chmod’ it is recycled along ‘paths’.\n",
      "\n",
      "use_umask: logical: should the mode be restricted by the ‘umask’\n",
      "          setting?\n",
      "\n",
      "_\bD_\be_\bt_\ba_\bi_\bl_\bs:\n",
      "\n",
      "     ‘dir.exists’ checks that the paths exist (in the same sense as\n",
      "     ‘file.exists’) and are directories.\n",
      "\n",
      "     ‘dir.create’ creates the last element of the path, unless\n",
      "     ‘recursive = TRUE’.  Trailing path separators are discarded.  The\n",
      "     mode will be modified by the ‘umask’ setting in the same way as\n",
      "     for the system function ‘mkdir’.  What modes can be set is\n",
      "     OS-dependent, and it is unsafe to assume that more than three\n",
      "     octal digits will be used.  For more details see your OS's\n",
      "     documentation on the system call ‘mkdir’, e.g. ‘man 2 mkdir’ (and\n",
      "     not that on the command-line utility of that name).\n",
      "\n",
      "     One of the idiosyncrasies of Windows is that directory creation\n",
      "     may report success but create a directory with a different name,\n",
      "     for example ‘dir.create(\"G.S.\")’ creates ‘\"G.S\"’.  This is\n",
      "     undocumented, and what are the precise circumstances is unknown\n",
      "     (and might depend on the version of Windows).  Also avoid\n",
      "     directory names with a trailing space.\n",
      "\n",
      "     ‘Sys.chmod’ sets the file permissions of one or more files.  It\n",
      "     may not be supported on a system (when a warning is issued).  See\n",
      "     the comments for ‘dir.create’ for how modes are interpreted.\n",
      "     Changing mode on a symbolic link is unlikely to work (nor be\n",
      "     necessary).  For more details see your OS's documentation on the\n",
      "     system call ‘chmod’, e.g. ‘man 2 chmod’ (and not that on the\n",
      "     command-line utility of that name).  Whether this changes the\n",
      "     permission of a symbolic link or its target is OS-dependent\n",
      "     (although to change the target is more common, and POSIX does not\n",
      "     support modes for symbolic links: BSD-based Unixes do, though).\n",
      "\n",
      "     ‘Sys.umask’ sets the ‘umask’ and returns the previous value: as a\n",
      "     special case ‘mode = NA’ just returns the current value.  It may\n",
      "     not be supported (when a warning is issued and ‘\"0\"’ is returned).\n",
      "     For more details see your OS's documentation on the system call\n",
      "     ‘umask’, e.g. ‘man 2 umask’.\n",
      "\n",
      "     How modes are handled depends on the file system, even on\n",
      "     Unix-alikes (although their documentation is often written\n",
      "     assuming a POSIX file system).  So treat documentation cautiously\n",
      "     if you are using, say, a FAT/FAT32 or network-mounted file system.\n",
      "\n",
      "     See files for how file paths with marked encodings are\n",
      "     interpreted.\n",
      "\n",
      "_\bV_\ba_\bl_\bu_\be:\n",
      "\n",
      "     ‘dir.exists’ returns a logical vector of ‘TRUE’ or ‘FALSE’ values\n",
      "     (without names).\n",
      "\n",
      "     ‘dir.create’ and ‘Sys.chmod’ return invisibly a logical vector\n",
      "     indicating if the operation succeeded for each of the files\n",
      "     attempted.  Using a missing value for a path name will always be\n",
      "     regarded as a failure.  ‘dir.create’ indicates failure if the\n",
      "     directory already exists.  If ‘showWarnings = TRUE’, ‘dir.create’\n",
      "     will give a warning for an unexpected failure (e.g., not for a\n",
      "     missing value nor for an already existing component for ‘recursive\n",
      "     = TRUE’).\n",
      "\n",
      "     ‘Sys.umask’ returns the previous value of the ‘umask’, as a\n",
      "     length-one object of class ‘\"octmode\"’: the visibility flag is off\n",
      "     unless ‘mode’ is ‘NA’.\n",
      "\n",
      "     See also the section in the help for ‘file.exists’ on\n",
      "     case-insensitive file systems for the interpretation of ‘path’ and\n",
      "     ‘paths’.\n",
      "\n",
      "_\bA_\bu_\bt_\bh_\bo_\br(_\bs):\n",
      "\n",
      "     Ross Ihaka, Brian Ripley\n",
      "\n",
      "_\bS_\be_\be _\bA_\bl_\bs_\bo:\n",
      "\n",
      "     ‘file.info’, ‘file.exists’, ‘file.path’, ‘list.files’, ‘unlink’,\n",
      "     ‘basename’, ‘path.expand’.\n",
      "\n",
      "_\bE_\bx_\ba_\bm_\bp_\bl_\be_\bs:\n",
      "\n",
      "     ## Not run:\n",
      "     \n",
      "     ## Fix up maximal allowed permissions in a file tree\n",
      "     Sys.chmod(list.dirs(\".\"), \"777\")\n",
      "     f <- list.files(\".\", all.files = TRUE, full.names = TRUE, recursive = TRUE)\n",
      "     Sys.chmod(f, (file.info(f)$mode | \"664\"))\n",
      "     ## End(Not run)\n",
      "     "
     ]
    }
   ],
   "source": [
    "?dir.create"
   ]
  },
  {
   "attachments": {},
   "cell_type": "markdown",
   "metadata": {},
   "source": [
    "Create a directory in the current working directory called \"testdir2\" and a subdirectory for it called \"testdir3\", all in one command by using dir.create() and file.path()."
   ]
  },
  {
   "cell_type": "code",
   "execution_count": 20,
   "metadata": {
    "vscode": {
     "languageId": "r"
    }
   },
   "outputs": [],
   "source": [
    "dir.create(file.path('testdir2', 'testdir3'), recursive=TRUE)"
   ]
  },
  {
   "attachments": {},
   "cell_type": "markdown",
   "metadata": {},
   "source": [
    "Go back to your original working directory using setwd(). (Recall that we created the variable old.dir with the full path for the orginal working directory at the start of these questions.)"
   ]
  },
  {
   "cell_type": "code",
   "execution_count": 21,
   "metadata": {
    "vscode": {
     "languageId": "r"
    }
   },
   "outputs": [],
   "source": [
    "setwd(old.dir)"
   ]
  },
  {
   "attachments": {},
   "cell_type": "markdown",
   "metadata": {},
   "source": [
    "It is often helpful to save the settings that you had before you began an analysis and then go back to them at the end. This trick is often used within functions; you save, say, the par() settings that you started with, mess around a bunch, and then set them back to the original values at the end. This isn't the same as what we have done here, but it seems similar enough to mention.\n",
    "\n",
    "After you finish this lesson delete the 'testdir' directory that you just left (and everything in it)\n",
    "\n",
    "In this lesson, you learned how to examine your R workspace and work with the file system of your machine from within R."
   ]
  }
 ],
 "metadata": {
  "kernelspec": {
   "display_name": "R",
   "language": "R",
   "name": "ir"
  },
  "language_info": {
   "codemirror_mode": "r",
   "file_extension": ".r",
   "mimetype": "text/x-r-source",
   "name": "R",
   "pygments_lexer": "r",
   "version": "4.1.2"
  },
  "orig_nbformat": 4
 },
 "nbformat": 4,
 "nbformat_minor": 2
}
