{
 "cells": [
  {
   "attachments": {},
   "cell_type": "markdown",
   "metadata": {},
   "source": [
    "# Practical R Exercises in swirl Part 1"
   ]
  },
  {
   "attachments": {},
   "cell_type": "markdown",
   "metadata": {},
   "source": [
    "During this course we'll be using the [swirl](http://swirlstats.com/) software package for R in order to illustrate some key concepts. The swirl package turns the R console into an interactive learning environment. Using swirl will also give you the opportunity to be completely immersed in an authentic R programming environment. In this programming assignment, you'll have the opportunity to practice some key concepts from this course.\n",
    "\n",
    "0. Install R\n",
    "- swirl requires R 3.0.2 or later. If you have an older version of R, please update before going any further. If you're not sure what version of R you have, type R.version.string at the R prompt. You can download the latest version of R from https://www.r-project.org/.\n",
    "\n",
    "- Optional but highly recommended: Install RStudio. You can download the latest version of RStudio at https://www.rstudio.com/products/rstudio/.\n",
    "\n",
    "1. Install swirl\n",
    "Since swirl is an R package, you can easily install it by entering a single command from the R console:\n",
    "\n",
    "```R\n",
    "install.packages(\"swirl\")\n",
    "```\n",
    "\n",
    "If you've installed swirl in the past make sure you have version 2.2.21 or later. You can check this with:\n",
    "\n",
    "```R\n",
    "packageVersion(\"swirl\")\n",
    "```\n",
    "\n",
    "2. Load swirl\n",
    "Every time you want to use swirl, you need to first load the package. From the R console:\n",
    "\n",
    "```R\n",
    "library(swirl)\n",
    "```\n",
    "\n",
    "3. Install the R Progroamming course\n",
    "swirl offers a variety of interactive courses, but for our purposes, you want the one called R Programming. Type the following from the R prompt to install this course:\n",
    "\n",
    "```R\n",
    "install_from_swirl(\"R Programming\")\n",
    "```\n",
    "\n",
    "4. Start swirl and complete the lessons\n",
    "Type the following from the R console to start swirl:\n",
    "\n",
    "```R\n",
    "swirl()\n",
    "```\n",
    "\n",
    "Then, follow the menus and select the R Programming course when given the option. For the first part of this course you should complete the following lessons:\n",
    "\n",
    "1. Basic Building Blocks\n",
    "2. Workspace and Files\n",
    "3. Sequences of Numbers\n",
    "4. Vectors\n",
    "5. Missing Values\n",
    "6. Subsetting Vectors\n",
    "7. Matrices and Data Frames\n",
    "\n",
    "**If you need help...**\n",
    "\n",
    "Visit the [Frequently Asked Questions (FAQ)](https://github.com/swirldev/swirl/wiki/Coursera-FAQ) page to see if you can answer your own question immediately.\n",
    "\n",
    "Search the Discussion Forums this course.\n",
    "\n",
    "If you still can't find an answer to your question, then create a new thread under the swirl Programming Assignment sub-forum and provide the following information:\n",
    "\n",
    "- A descriptive title\n",
    "- Any input/output from the console (copy & paste) or a screenshot\n",
    "- The output from sessionInfo()\n",
    "\n",
    "Good luck and have fun!\n",
    "\n",
    "For more information on swirl, visit [swirlstats.com](http://swirlstats.com/)"
   ]
  }
 ],
 "metadata": {
  "kernelspec": {
   "display_name": "R",
   "language": "R",
   "name": "ir"
  },
  "language_info": {
   "name": "R"
  },
  "orig_nbformat": 4
 },
 "nbformat": 4,
 "nbformat_minor": 2
}
