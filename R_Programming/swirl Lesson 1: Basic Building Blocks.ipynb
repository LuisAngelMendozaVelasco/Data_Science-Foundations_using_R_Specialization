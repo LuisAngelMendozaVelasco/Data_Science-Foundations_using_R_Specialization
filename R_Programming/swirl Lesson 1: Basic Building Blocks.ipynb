{
 "cells": [
  {
   "attachments": {},
   "cell_type": "markdown",
   "metadata": {},
   "source": [
    "# Practice Programming Assignment: swirl Lesson 1: Basic Building Blocks"
   ]
  },
  {
   "attachments": {},
   "cell_type": "markdown",
   "metadata": {},
   "source": [
    "In this lesson, we will explore some basic building blocks of the R programming language.\n",
    "\n",
    "In its simplest form, R can be used as an interactive calculator. Type 5 + 7 and press Enter."
   ]
  },
  {
   "cell_type": "code",
   "execution_count": 1,
   "metadata": {
    "vscode": {
     "languageId": "r"
    }
   },
   "outputs": [
    {
     "data": {
      "text/html": [
       "12"
      ],
      "text/latex": [
       "12"
      ],
      "text/markdown": [
       "12"
      ],
      "text/plain": [
       "[1] 12"
      ]
     },
     "metadata": {},
     "output_type": "display_data"
    }
   ],
   "source": [
    "5 + 7"
   ]
  },
  {
   "attachments": {},
   "cell_type": "markdown",
   "metadata": {},
   "source": [
    "R simply prints the result of 12 by default. However, R is a programming language and often the reason we use a programming language as opposed to a calculator is to automate some process or avoid unnecessary repetition.\n",
    "\n",
    "In this case, we may want to use our result from above in a second calculation. Instead of retyping 5 + 7 every time we need it, we can just create a new variable that stores the result.\n",
    "\n",
    "The way you assign a value to a variable in R is by using the assignment operator, which is just a 'less than' symbol followed by a 'minus' sign. It looks like this: <-\n",
    "\n",
    "Think of the assignment operator as an arrow. You are assigning the value on the right side of the arrow to the variable name on the left side of the arrow.\n",
    "\n",
    "To assign the result of 5 + 7 to a new variable called x, you type x <- 5 + 7. This can be read as 'x gets 5 plus 7'. Give it a try now."
   ]
  },
  {
   "cell_type": "code",
   "execution_count": 2,
   "metadata": {
    "vscode": {
     "languageId": "r"
    }
   },
   "outputs": [],
   "source": [
    "x <- 5 + 7"
   ]
  },
  {
   "attachments": {},
   "cell_type": "markdown",
   "metadata": {},
   "source": [
    "You'll notice that R did not print the result of 12 this time. When you use the assignment operator, R assumes that you don't want to see the result immediately, but rather that you intend to use the result for something else later on.\n",
    "\n",
    "To view the contents of the variable x, just type x and press Enter. Try it now."
   ]
  },
  {
   "cell_type": "code",
   "execution_count": 3,
   "metadata": {
    "vscode": {
     "languageId": "r"
    }
   },
   "outputs": [
    {
     "data": {
      "text/html": [
       "12"
      ],
      "text/latex": [
       "12"
      ],
      "text/markdown": [
       "12"
      ],
      "text/plain": [
       "[1] 12"
      ]
     },
     "metadata": {},
     "output_type": "display_data"
    }
   ],
   "source": [
    "x"
   ]
  },
  {
   "attachments": {},
   "cell_type": "markdown",
   "metadata": {},
   "source": [
    "Now, store the result of x - 3 in a new variable called y."
   ]
  },
  {
   "cell_type": "code",
   "execution_count": 4,
   "metadata": {
    "vscode": {
     "languageId": "r"
    }
   },
   "outputs": [],
   "source": [
    "y <- x - 3"
   ]
  },
  {
   "attachments": {},
   "cell_type": "markdown",
   "metadata": {},
   "source": [
    "What is the value of y? Type y to find out."
   ]
  },
  {
   "cell_type": "code",
   "execution_count": 5,
   "metadata": {
    "vscode": {
     "languageId": "r"
    }
   },
   "outputs": [
    {
     "data": {
      "text/html": [
       "9"
      ],
      "text/latex": [
       "9"
      ],
      "text/markdown": [
       "9"
      ],
      "text/plain": [
       "[1] 9"
      ]
     },
     "metadata": {},
     "output_type": "display_data"
    }
   ],
   "source": [
    "y"
   ]
  },
  {
   "attachments": {},
   "cell_type": "markdown",
   "metadata": {},
   "source": [
    "Now, let's create a small collection of numbers called a vector. Any object that contains data is called a data structure and numeric vectors are the simplest type of data structure in R. In fact, even a single number is considered a vector of length one.\n",
    "\n",
    "The easiest way to create a vector is with the c() function, which stands for 'concatenate' or 'combine'. To create a vector containing the numbers 1.1, 9, and 3.14, type c(1.1, 9, 3.14). Try it now and store the result in a variable called z."
   ]
  },
  {
   "cell_type": "code",
   "execution_count": 6,
   "metadata": {
    "vscode": {
     "languageId": "r"
    }
   },
   "outputs": [],
   "source": [
    "z <- c(1.1, 9, 3.14)"
   ]
  },
  {
   "attachments": {},
   "cell_type": "markdown",
   "metadata": {},
   "source": [
    "Anytime you have questions about a particular function, you can access R's built-in help files via the `?` command. For example, if you want more information on the c() function, type ?c without the parentheses that normally follow a function name. Give it a try."
   ]
  },
  {
   "cell_type": "code",
   "execution_count": 7,
   "metadata": {
    "vscode": {
     "languageId": "r"
    }
   },
   "outputs": [
    {
     "name": "stdout",
     "output_type": "stream",
     "text": [
      "c                     package:base                     R Documentation\n",
      "\n",
      "_\bC_\bo_\bm_\bb_\bi_\bn_\be _\bV_\ba_\bl_\bu_\be_\bs _\bi_\bn_\bt_\bo _\ba _\bV_\be_\bc_\bt_\bo_\br _\bo_\br _\bL_\bi_\bs_\bt\n",
      "\n",
      "_\bD_\be_\bs_\bc_\br_\bi_\bp_\bt_\bi_\bo_\bn:\n",
      "\n",
      "     This is a generic function which combines its arguments.\n",
      "\n",
      "     The default method combines its arguments to form a vector.  All\n",
      "     arguments are coerced to a common type which is the type of the\n",
      "     returned value, and all attributes except names are removed.\n",
      "\n",
      "_\bU_\bs_\ba_\bg_\be:\n",
      "\n",
      "     ## S3 Generic function\n",
      "     c(...)\n",
      "     \n",
      "     ## Default S3 method:\n",
      "     c(..., recursive = FALSE, use.names = TRUE)\n",
      "     \n",
      "_\bA_\br_\bg_\bu_\bm_\be_\bn_\bt_\bs:\n",
      "\n",
      "     ...: objects to be concatenated.  All ‘NULL’ entries are dropped\n",
      "          before method dispatch unless at the very beginning of the\n",
      "          argument list.\n",
      "\n",
      "recursive: logical.  If ‘recursive = TRUE’, the function recursively\n",
      "          descends through lists (and pairlists) combining all their\n",
      "          elements into a vector.\n",
      "\n",
      "use.names: logical indicating if ‘names’ should be preserved.\n",
      "\n",
      "_\bD_\be_\bt_\ba_\bi_\bl_\bs:\n",
      "\n",
      "     The output type is determined from the highest type of the\n",
      "     components in the hierarchy NULL < raw < logical < integer <\n",
      "     double < complex < character < list < expression.  Pairlists are\n",
      "     treated as lists, whereas non-vector components (such as ‘name’s /\n",
      "     ‘symbol’s and ‘call’s) are treated as one-element ‘list’s which\n",
      "     cannot be unlisted even if ‘recursive = TRUE’.\n",
      "\n",
      "     Note that in R < 4.1.0, ‘factor’s were treated only via their\n",
      "     internal ‘integer’ codes: now there is ‘c.factor’ method which\n",
      "     combines factors into a factor.\n",
      "\n",
      "     ‘c’ is sometimes used for its side effect of removing attributes\n",
      "     except names, for example to turn an ‘array’ into a vector.\n",
      "     ‘as.vector’ is a more intuitive way to do this, but also drops\n",
      "     names.  Note that methods other than the default are not required\n",
      "     to do this (and they will almost certainly preserve a class\n",
      "     attribute).\n",
      "\n",
      "     This is a primitive function.\n",
      "\n",
      "_\bV_\ba_\bl_\bu_\be:\n",
      "\n",
      "     ‘NULL’ or an expression or a vector of an appropriate mode.  (With\n",
      "     no arguments the value is ‘NULL’.)\n",
      "\n",
      "_\bS_\b4 _\bm_\be_\bt_\bh_\bo_\bd_\bs:\n",
      "\n",
      "     This function is S4 generic, but with argument list ‘(x, ...)’.\n",
      "\n",
      "_\bR_\be_\bf_\be_\br_\be_\bn_\bc_\be_\bs:\n",
      "\n",
      "     Becker, R. A., Chambers, J. M. and Wilks, A. R. (1988) _The New S\n",
      "     Language_.  Wadsworth & Brooks/Cole.\n",
      "\n",
      "_\bS_\be_\be _\bA_\bl_\bs_\bo:\n",
      "\n",
      "     ‘unlist’ and ‘as.vector’ to produce attribute-free vectors.\n",
      "\n",
      "_\bE_\bx_\ba_\bm_\bp_\bl_\be_\bs:\n",
      "\n",
      "     c(1,7:9)\n",
      "     c(1:5, 10.5, \"next\")\n",
      "     \n",
      "     ## uses with a single argument to drop attributes\n",
      "     x <- 1:4\n",
      "     names(x) <- letters[1:4]\n",
      "     x\n",
      "     c(x)          # has names\n",
      "     as.vector(x)  # no names\n",
      "     dim(x) <- c(2,2)\n",
      "     x\n",
      "     c(x)\n",
      "     as.vector(x)\n",
      "     \n",
      "     ## append to a list:\n",
      "     ll <- list(A = 1, c = \"C\")\n",
      "     ## do *not* use\n",
      "     c(ll, d = 1:3) # which is == c(ll, as.list(c(d = 1:3)))\n",
      "     ## but rather\n",
      "     c(ll, d = list(1:3))  # c() combining two lists\n",
      "     \n",
      "     c(list(A = c(B = 1)), recursive = TRUE)\n",
      "     \n",
      "     c(options(), recursive = TRUE)\n",
      "     c(list(A = c(B = 1, C = 2), B = c(E = 7)), recursive = TRUE)\n",
      "     "
     ]
    }
   ],
   "source": [
    "?c"
   ]
  },
  {
   "attachments": {},
   "cell_type": "markdown",
   "metadata": {},
   "source": [
    "Type z to view its contents. Notice that there are no commas separating the values in the output."
   ]
  },
  {
   "cell_type": "code",
   "execution_count": 8,
   "metadata": {
    "vscode": {
     "languageId": "r"
    }
   },
   "outputs": [
    {
     "data": {
      "text/html": [
       "<style>\n",
       ".list-inline {list-style: none; margin:0; padding: 0}\n",
       ".list-inline>li {display: inline-block}\n",
       ".list-inline>li:not(:last-child)::after {content: \"\\00b7\"; padding: 0 .5ex}\n",
       "</style>\n",
       "<ol class=list-inline><li>1.1</li><li>9</li><li>3.14</li></ol>\n"
      ],
      "text/latex": [
       "\\begin{enumerate*}\n",
       "\\item 1.1\n",
       "\\item 9\n",
       "\\item 3.14\n",
       "\\end{enumerate*}\n"
      ],
      "text/markdown": [
       "1. 1.1\n",
       "2. 9\n",
       "3. 3.14\n",
       "\n",
       "\n"
      ],
      "text/plain": [
       "[1] 1.10 9.00 3.14"
      ]
     },
     "metadata": {},
     "output_type": "display_data"
    }
   ],
   "source": [
    "z"
   ]
  },
  {
   "attachments": {},
   "cell_type": "markdown",
   "metadata": {},
   "source": [
    "You can combine vectors to make a new vector. Create a new vector that contains z, 555, then z again in that order. Don't assign this vector to a new variable, so that we can just see the result immediately."
   ]
  },
  {
   "cell_type": "code",
   "execution_count": 9,
   "metadata": {
    "vscode": {
     "languageId": "r"
    }
   },
   "outputs": [
    {
     "data": {
      "text/html": [
       "<style>\n",
       ".list-inline {list-style: none; margin:0; padding: 0}\n",
       ".list-inline>li {display: inline-block}\n",
       ".list-inline>li:not(:last-child)::after {content: \"\\00b7\"; padding: 0 .5ex}\n",
       "</style>\n",
       "<ol class=list-inline><li>1.1</li><li>9</li><li>3.14</li><li>555</li><li>1.1</li><li>9</li><li>3.14</li></ol>\n"
      ],
      "text/latex": [
       "\\begin{enumerate*}\n",
       "\\item 1.1\n",
       "\\item 9\n",
       "\\item 3.14\n",
       "\\item 555\n",
       "\\item 1.1\n",
       "\\item 9\n",
       "\\item 3.14\n",
       "\\end{enumerate*}\n"
      ],
      "text/markdown": [
       "1. 1.1\n",
       "2. 9\n",
       "3. 3.14\n",
       "4. 555\n",
       "5. 1.1\n",
       "6. 9\n",
       "7. 3.14\n",
       "\n",
       "\n"
      ],
      "text/plain": [
       "[1]   1.10   9.00   3.14 555.00   1.10   9.00   3.14"
      ]
     },
     "metadata": {},
     "output_type": "display_data"
    }
   ],
   "source": [
    "c(z, 555, z)"
   ]
  },
  {
   "attachments": {},
   "cell_type": "markdown",
   "metadata": {},
   "source": [
    "Numeric vectors can be used in arithmetic expressions. Type the following to see what happens: z * 2 + 100."
   ]
  },
  {
   "cell_type": "code",
   "execution_count": 10,
   "metadata": {
    "vscode": {
     "languageId": "r"
    }
   },
   "outputs": [
    {
     "data": {
      "text/html": [
       "<style>\n",
       ".list-inline {list-style: none; margin:0; padding: 0}\n",
       ".list-inline>li {display: inline-block}\n",
       ".list-inline>li:not(:last-child)::after {content: \"\\00b7\"; padding: 0 .5ex}\n",
       "</style>\n",
       "<ol class=list-inline><li>102.2</li><li>118</li><li>106.28</li></ol>\n"
      ],
      "text/latex": [
       "\\begin{enumerate*}\n",
       "\\item 102.2\n",
       "\\item 118\n",
       "\\item 106.28\n",
       "\\end{enumerate*}\n"
      ],
      "text/markdown": [
       "1. 102.2\n",
       "2. 118\n",
       "3. 106.28\n",
       "\n",
       "\n"
      ],
      "text/plain": [
       "[1] 102.20 118.00 106.28"
      ]
     },
     "metadata": {},
     "output_type": "display_data"
    }
   ],
   "source": [
    "z * 2 + 100"
   ]
  },
  {
   "attachments": {},
   "cell_type": "markdown",
   "metadata": {},
   "source": [
    "First, R multiplied each of the three elements in z by 2. Then it added 100 to each element to get the result you see above.\n",
    "\n",
    "Other common arithmetic operators are `+`, `-`, `/`, and `^` (where x^2 means 'x squared'). To take the square root, use the sqrt() function and to take the absolute value, use the abs() function.\n",
    "\n",
    "Take the square root of z - 1 and assign it to a new variable called my_sqrt."
   ]
  },
  {
   "cell_type": "code",
   "execution_count": 11,
   "metadata": {
    "vscode": {
     "languageId": "r"
    }
   },
   "outputs": [],
   "source": [
    "my_sqrt <- sqrt(z -1)"
   ]
  },
  {
   "attachments": {},
   "cell_type": "markdown",
   "metadata": {},
   "source": [
    "Print the contents of my_sqrt."
   ]
  },
  {
   "cell_type": "code",
   "execution_count": 12,
   "metadata": {
    "vscode": {
     "languageId": "r"
    }
   },
   "outputs": [
    {
     "data": {
      "text/html": [
       "<style>\n",
       ".list-inline {list-style: none; margin:0; padding: 0}\n",
       ".list-inline>li {display: inline-block}\n",
       ".list-inline>li:not(:last-child)::after {content: \"\\00b7\"; padding: 0 .5ex}\n",
       "</style>\n",
       "<ol class=list-inline><li>0.316227766016838</li><li>2.82842712474619</li><li>1.46287388383278</li></ol>\n"
      ],
      "text/latex": [
       "\\begin{enumerate*}\n",
       "\\item 0.316227766016838\n",
       "\\item 2.82842712474619\n",
       "\\item 1.46287388383278\n",
       "\\end{enumerate*}\n"
      ],
      "text/markdown": [
       "1. 0.316227766016838\n",
       "2. 2.82842712474619\n",
       "3. 1.46287388383278\n",
       "\n",
       "\n"
      ],
      "text/plain": [
       "[1] 0.3162278 2.8284271 1.4628739"
      ]
     },
     "metadata": {},
     "output_type": "display_data"
    }
   ],
   "source": [
    "my_sqrt"
   ]
  },
  {
   "attachments": {},
   "cell_type": "markdown",
   "metadata": {},
   "source": [
    "As you may have guessed, R first subtracted 1 from each element of z, then took the square root of each element. This leaves you with a vector of the same length as the original vector z.\n",
    "\n",
    "Now, create a new variable called my_div that gets the value of z divided by my_sqrt."
   ]
  },
  {
   "cell_type": "code",
   "execution_count": 13,
   "metadata": {
    "vscode": {
     "languageId": "r"
    }
   },
   "outputs": [],
   "source": [
    "my_div <- z / my_sqrt"
   ]
  },
  {
   "attachments": {},
   "cell_type": "markdown",
   "metadata": {},
   "source": [
    "Go ahead and print the contents of my_div."
   ]
  },
  {
   "cell_type": "code",
   "execution_count": 14,
   "metadata": {
    "vscode": {
     "languageId": "r"
    }
   },
   "outputs": [
    {
     "data": {
      "text/html": [
       "<style>\n",
       ".list-inline {list-style: none; margin:0; padding: 0}\n",
       ".list-inline>li {display: inline-block}\n",
       ".list-inline>li:not(:last-child)::after {content: \"\\00b7\"; padding: 0 .5ex}\n",
       "</style>\n",
       "<ol class=list-inline><li>3.47850542618522</li><li>3.18198051533946</li><li>2.14645981085744</li></ol>\n"
      ],
      "text/latex": [
       "\\begin{enumerate*}\n",
       "\\item 3.47850542618522\n",
       "\\item 3.18198051533946\n",
       "\\item 2.14645981085744\n",
       "\\end{enumerate*}\n"
      ],
      "text/markdown": [
       "1. 3.47850542618522\n",
       "2. 3.18198051533946\n",
       "3. 2.14645981085744\n",
       "\n",
       "\n"
      ],
      "text/plain": [
       "[1] 3.478505 3.181981 2.146460"
      ]
     },
     "metadata": {},
     "output_type": "display_data"
    }
   ],
   "source": [
    "my_div"
   ]
  },
  {
   "attachments": {},
   "cell_type": "markdown",
   "metadata": {},
   "source": [
    "When given two vectors of the same length, R simply performs the specified arithmetic operation (`+`, `-`, `*`, etc.) element-by-element. If the vectors are of different lengths, R 'recycles' the shorter vector until it is the same length as the longer vector.\n",
    "\n",
    "When we did z * 2 + 100 in our earlier example, z was a vector of length 3, but technically 2 and 100 are each vectors of length 1.\n",
    "\n",
    "Behind the scenes, R is 'recycling' the 2 to make a vector of 2s and the 100 to make a vector of 100s. In other words, when you ask R to compute z * 2 + 100, what it really computes is this: z * c(2, 2, 2) + c(100, 100, 100).\n",
    "\n",
    "To see another example of how this vector 'recycling' works, try adding c(1, 2, 3, 4) and c(0, 10). Don't worry about saving the result in a new variable."
   ]
  },
  {
   "cell_type": "code",
   "execution_count": 15,
   "metadata": {
    "vscode": {
     "languageId": "r"
    }
   },
   "outputs": [
    {
     "data": {
      "text/html": [
       "<style>\n",
       ".list-inline {list-style: none; margin:0; padding: 0}\n",
       ".list-inline>li {display: inline-block}\n",
       ".list-inline>li:not(:last-child)::after {content: \"\\00b7\"; padding: 0 .5ex}\n",
       "</style>\n",
       "<ol class=list-inline><li>1</li><li>12</li><li>3</li><li>14</li></ol>\n"
      ],
      "text/latex": [
       "\\begin{enumerate*}\n",
       "\\item 1\n",
       "\\item 12\n",
       "\\item 3\n",
       "\\item 14\n",
       "\\end{enumerate*}\n"
      ],
      "text/markdown": [
       "1. 1\n",
       "2. 12\n",
       "3. 3\n",
       "4. 14\n",
       "\n",
       "\n"
      ],
      "text/plain": [
       "[1]  1 12  3 14"
      ]
     },
     "metadata": {},
     "output_type": "display_data"
    }
   ],
   "source": [
    "c(1, 2, 3, 4) + c(0, 10)"
   ]
  },
  {
   "attachments": {},
   "cell_type": "markdown",
   "metadata": {},
   "source": [
    "If the length of the shorter vector does not divide evenly into the length of the longer vector, R will still apply the 'recycling' method, but will throw a warning to let you know something fishy might be going on.\n",
    "\n",
    "Try c(1, 2, 3, 4) + c(0, 10, 100) for an example."
   ]
  },
  {
   "cell_type": "code",
   "execution_count": 16,
   "metadata": {
    "vscode": {
     "languageId": "r"
    }
   },
   "outputs": [
    {
     "name": "stderr",
     "output_type": "stream",
     "text": [
      "Warning message in c(1, 2, 3, 4) + c(0, 10, 100):\n",
      "“longer object length is not a multiple of shorter object length”\n"
     ]
    },
    {
     "data": {
      "text/html": [
       "<style>\n",
       ".list-inline {list-style: none; margin:0; padding: 0}\n",
       ".list-inline>li {display: inline-block}\n",
       ".list-inline>li:not(:last-child)::after {content: \"\\00b7\"; padding: 0 .5ex}\n",
       "</style>\n",
       "<ol class=list-inline><li>1</li><li>12</li><li>103</li><li>4</li></ol>\n"
      ],
      "text/latex": [
       "\\begin{enumerate*}\n",
       "\\item 1\n",
       "\\item 12\n",
       "\\item 103\n",
       "\\item 4\n",
       "\\end{enumerate*}\n"
      ],
      "text/markdown": [
       "1. 1\n",
       "2. 12\n",
       "3. 103\n",
       "4. 4\n",
       "\n",
       "\n"
      ],
      "text/plain": [
       "[1]   1  12 103   4"
      ]
     },
     "metadata": {},
     "output_type": "display_data"
    }
   ],
   "source": [
    "c(1, 2, 3, 4) + c(0, 10, 100)"
   ]
  },
  {
   "attachments": {},
   "cell_type": "markdown",
   "metadata": {},
   "source": [
    "Before concluding this lesson, let's see a couple of time-saving tricks.\n",
    "\n",
    "Earlier in the lesson, you computed z * 2 + 100. Let's pretend that you made a mistake and that you meant to add 1000 instead of 100. You could either re-type the expression, or...\n",
    "\n",
    "In many programming environments, the up arrow will cycle through previous commands. Try hitting the up arrow on your keyboard until you get to this command (z * 2 + 100), then change 100 to 1000 and hit Enter. If the up arrow doesn't work for you, just type the corrected command."
   ]
  },
  {
   "cell_type": "code",
   "execution_count": 17,
   "metadata": {
    "vscode": {
     "languageId": "r"
    }
   },
   "outputs": [
    {
     "data": {
      "text/html": [
       "<style>\n",
       ".list-inline {list-style: none; margin:0; padding: 0}\n",
       ".list-inline>li {display: inline-block}\n",
       ".list-inline>li:not(:last-child)::after {content: \"\\00b7\"; padding: 0 .5ex}\n",
       "</style>\n",
       "<ol class=list-inline><li>1002.2</li><li>1018</li><li>1006.28</li></ol>\n"
      ],
      "text/latex": [
       "\\begin{enumerate*}\n",
       "\\item 1002.2\n",
       "\\item 1018\n",
       "\\item 1006.28\n",
       "\\end{enumerate*}\n"
      ],
      "text/markdown": [
       "1. 1002.2\n",
       "2. 1018\n",
       "3. 1006.28\n",
       "\n",
       "\n"
      ],
      "text/plain": [
       "[1] 1002.20 1018.00 1006.28"
      ]
     },
     "metadata": {},
     "output_type": "display_data"
    }
   ],
   "source": [
    "z * 2 + 1000"
   ]
  },
  {
   "attachments": {},
   "cell_type": "markdown",
   "metadata": {},
   "source": [
    "Finally, let's pretend you'd like to view the contents of a variable that you created earlier, but you can't seem to remember if you named it my_div or myDiv. You could try both and see what works, or...\n",
    "\n",
    "You can type the first two letters of the variable name, then hit the Tab key (possibly more than once). Most programming environments will provide a list of variables that you've created that begin with 'my'. This is called auto-completion and can be quite handy when you have many variables in your workspace. Give it a try. (If auto-completion doesn't work for you, just type my_div and press Enter.)"
   ]
  },
  {
   "cell_type": "code",
   "execution_count": 18,
   "metadata": {
    "vscode": {
     "languageId": "r"
    }
   },
   "outputs": [
    {
     "data": {
      "text/html": [
       "<style>\n",
       ".list-inline {list-style: none; margin:0; padding: 0}\n",
       ".list-inline>li {display: inline-block}\n",
       ".list-inline>li:not(:last-child)::after {content: \"\\00b7\"; padding: 0 .5ex}\n",
       "</style>\n",
       "<ol class=list-inline><li>3.47850542618522</li><li>3.18198051533946</li><li>2.14645981085744</li></ol>\n"
      ],
      "text/latex": [
       "\\begin{enumerate*}\n",
       "\\item 3.47850542618522\n",
       "\\item 3.18198051533946\n",
       "\\item 2.14645981085744\n",
       "\\end{enumerate*}\n"
      ],
      "text/markdown": [
       "1. 3.47850542618522\n",
       "2. 3.18198051533946\n",
       "3. 2.14645981085744\n",
       "\n",
       "\n"
      ],
      "text/plain": [
       "[1] 3.478505 3.181981 2.146460"
      ]
     },
     "metadata": {},
     "output_type": "display_data"
    }
   ],
   "source": [
    "my_div"
   ]
  }
 ],
 "metadata": {
  "kernelspec": {
   "display_name": "R",
   "language": "R",
   "name": "ir"
  },
  "language_info": {
   "codemirror_mode": "r",
   "file_extension": ".r",
   "mimetype": "text/x-r-source",
   "name": "R",
   "pygments_lexer": "r",
   "version": "4.1.2"
  },
  "orig_nbformat": 4
 },
 "nbformat": 4,
 "nbformat_minor": 2
}
