{
 "cells": [
  {
   "cell_type": "markdown",
   "metadata": {},
   "source": [
    "# Practice Programming Assignment: swrl Lesson 2: Simulation"
   ]
  },
  {
   "attachments": {},
   "cell_type": "markdown",
   "metadata": {},
   "source": [
    "One of the great advantages of using a statistical programming language like R is its vast collection of tools for simulating random numbers.\n",
    "\n",
    "This lesson assumes familiarity with a few common probability distributions, but these topics will only be discussed with respect to random number generation. Even if you have no prior experience with these concepts, you should be able to complete the lesson and understand the main ideas.\n",
    "\n",
    "The first function we'll use to generate random numbers is sample(). Use ?sample to pull up the documentation."
   ]
  },
  {
   "cell_type": "code",
   "execution_count": 1,
   "metadata": {
    "vscode": {
     "languageId": "r"
    }
   },
   "outputs": [
    {
     "name": "stdout",
     "output_type": "stream",
     "text": [
      "sample                  package:base                   R Documentation\n",
      "\n",
      "_\bR_\ba_\bn_\bd_\bo_\bm _\bS_\ba_\bm_\bp_\bl_\be_\bs _\ba_\bn_\bd _\bP_\be_\br_\bm_\bu_\bt_\ba_\bt_\bi_\bo_\bn_\bs\n",
      "\n",
      "_\bD_\be_\bs_\bc_\br_\bi_\bp_\bt_\bi_\bo_\bn:\n",
      "\n",
      "     ‘sample’ takes a sample of the specified size from the elements of\n",
      "     ‘x’ using either with or without replacement.\n",
      "\n",
      "_\bU_\bs_\ba_\bg_\be:\n",
      "\n",
      "     sample(x, size, replace = FALSE, prob = NULL)\n",
      "     \n",
      "     sample.int(n, size = n, replace = FALSE, prob = NULL,\n",
      "                useHash = (n > 1e+07 && !replace && is.null(prob) && size <= n/2))\n",
      "     \n",
      "_\bA_\br_\bg_\bu_\bm_\be_\bn_\bt_\bs:\n",
      "\n",
      "       x: either a vector of one or more elements from which to choose,\n",
      "          or a positive integer.  See ‘Details.’\n",
      "\n",
      "       n: a positive number, the number of items to choose from.  See\n",
      "          ‘Details.’\n",
      "\n",
      "    size: a non-negative integer giving the number of items to choose.\n",
      "\n",
      " replace: should sampling be with replacement?\n",
      "\n",
      "    prob: a vector of probability weights for obtaining the elements of\n",
      "          the vector being sampled.\n",
      "\n",
      " useHash: ‘logical’ indicating if the hash-version of the algorithm\n",
      "          should be used.  Can only be used for ‘replace = FALSE’,\n",
      "          ‘prob = NULL’, and ‘size <= n/2’, and really should be used\n",
      "          for large ‘n’, as ‘useHash=FALSE’ will use memory\n",
      "          proportional to ‘n’.\n",
      "\n",
      "_\bD_\be_\bt_\ba_\bi_\bl_\bs:\n",
      "\n",
      "     If ‘x’ has length 1, is numeric (in the sense of ‘is.numeric’) and\n",
      "     ‘x >= 1’, sampling _via_ ‘sample’ takes place from ‘1:x’.  _Note_\n",
      "     that this convenience feature may lead to undesired behaviour when\n",
      "     ‘x’ is of varying length in calls such as ‘sample(x)’.  See the\n",
      "     examples.\n",
      "\n",
      "     Otherwise ‘x’ can be any R object for which ‘length’ and\n",
      "     subsetting by integers make sense: S3 or S4 methods for these\n",
      "     operations will be dispatched as appropriate.\n",
      "\n",
      "     For ‘sample’ the default for ‘size’ is the number of items\n",
      "     inferred from the first argument, so that ‘sample(x)’ generates a\n",
      "     random permutation of the elements of ‘x’ (or ‘1:x’).\n",
      "\n",
      "     It is allowed to ask for ‘size = 0’ samples with ‘n = 0’ or a\n",
      "     length-zero ‘x’, but otherwise ‘n > 0’ or positive ‘length(x)’ is\n",
      "     required.\n",
      "\n",
      "     Non-integer positive numerical values of ‘n’ or ‘x’ will be\n",
      "     truncated to the next smallest integer, which has to be no larger\n",
      "     than ‘.Machine$integer.max’.\n",
      "\n",
      "     The optional ‘prob’ argument can be used to give a vector of\n",
      "     weights for obtaining the elements of the vector being sampled.\n",
      "     They need not sum to one, but they should be non-negative and not\n",
      "     all zero.  If ‘replace’ is true, Walker's alias method (Ripley,\n",
      "     1987) is used when there are more than 200 reasonably probable\n",
      "     values: this gives results incompatible with those from R < 2.2.0.\n",
      "\n",
      "     If ‘replace’ is false, these probabilities are applied\n",
      "     sequentially, that is the probability of choosing the next item is\n",
      "     proportional to the weights amongst the remaining items.  The\n",
      "     number of nonzero weights must be at least ‘size’ in this case.\n",
      "\n",
      "     ‘sample.int’ is a bare interface in which both ‘n’ and ‘size’ must\n",
      "     be supplied as integers.\n",
      "\n",
      "     Argument ‘n’ can be larger than the largest integer of type\n",
      "     ‘integer’, up to the largest representable integer in type\n",
      "     ‘double’.  Only uniform sampling is supported.  Two random numbers\n",
      "     are used to ensure uniform sampling of large integers.\n",
      "\n",
      "_\bV_\ba_\bl_\bu_\be:\n",
      "\n",
      "     For ‘sample’ a vector of length ‘size’ with elements drawn from\n",
      "     either ‘x’ or from the integers ‘1:x’.\n",
      "\n",
      "     For ‘sample.int’, an integer vector of length ‘size’ with elements\n",
      "     from ‘1:n’, or a double vector if n >= 2^31.\n",
      "\n",
      "_\bR_\be_\bf_\be_\br_\be_\bn_\bc_\be_\bs:\n",
      "\n",
      "     Becker, R. A., Chambers, J. M. and Wilks, A. R. (1988) _The New S\n",
      "     Language_.  Wadsworth & Brooks/Cole.\n",
      "\n",
      "     Ripley, B. D. (1987) _Stochastic Simulation_. Wiley.\n",
      "\n",
      "_\bS_\be_\be _\bA_\bl_\bs_\bo:\n",
      "\n",
      "     ‘RNGkind(sample.kind = ..)’ about random number generation,\n",
      "     notably the change of ‘sample()’ results with R version 3.6.0.\n",
      "\n",
      "     CRAN package ‘sampling’ for other methods of weighted sampling\n",
      "     without replacement.\n",
      "\n",
      "_\bE_\bx_\ba_\bm_\bp_\bl_\be_\bs:\n",
      "\n",
      "     x <- 1:12\n",
      "     # a random permutation\n",
      "     sample(x)\n",
      "     # bootstrap resampling -- only if length(x) > 1 !\n",
      "     sample(x, replace = TRUE)\n",
      "     \n",
      "     # 100 Bernoulli trials\n",
      "     sample(c(0,1), 100, replace = TRUE)\n",
      "     \n",
      "     ## More careful bootstrapping --  Consider this when using sample()\n",
      "     ## programmatically (i.e., in your function or simulation)!\n",
      "     \n",
      "     # sample()'s surprise -- example\n",
      "     x <- 1:10\n",
      "         sample(x[x >  8]) # length 2\n",
      "         sample(x[x >  9]) # oops -- length 10!\n",
      "         sample(x[x > 10]) # length 0\n",
      "     \n",
      "     ## safer version:\n",
      "     resample <- function(x, ...) x[sample.int(length(x), ...)]\n",
      "     resample(x[x >  8]) # length 2\n",
      "     resample(x[x >  9]) # length 1\n",
      "     resample(x[x > 10]) # length 0\n",
      "     \n",
      "     ## R 3.0.0 and later\n",
      "     sample.int(1e10, 12, replace = TRUE)\n",
      "     sample.int(1e10, 12) # not that there is much chance of duplicates\n",
      "     "
     ]
    }
   ],
   "source": [
    "?sample"
   ]
  },
  {
   "attachments": {},
   "cell_type": "markdown",
   "metadata": {},
   "source": [
    "Let's simulate rolling four six-sided dice: sample(1:6, 4, replace = TRUE)."
   ]
  },
  {
   "cell_type": "code",
   "execution_count": 2,
   "metadata": {
    "vscode": {
     "languageId": "r"
    }
   },
   "outputs": [
    {
     "data": {
      "text/html": [
       "<style>\n",
       ".list-inline {list-style: none; margin:0; padding: 0}\n",
       ".list-inline>li {display: inline-block}\n",
       ".list-inline>li:not(:last-child)::after {content: \"\\00b7\"; padding: 0 .5ex}\n",
       "</style>\n",
       "<ol class=list-inline><li>6</li><li>1</li><li>1</li><li>6</li></ol>\n"
      ],
      "text/latex": [
       "\\begin{enumerate*}\n",
       "\\item 6\n",
       "\\item 1\n",
       "\\item 1\n",
       "\\item 6\n",
       "\\end{enumerate*}\n"
      ],
      "text/markdown": [
       "1. 6\n",
       "2. 1\n",
       "3. 1\n",
       "4. 6\n",
       "\n",
       "\n"
      ],
      "text/plain": [
       "[1] 6 1 1 6"
      ]
     },
     "metadata": {},
     "output_type": "display_data"
    }
   ],
   "source": [
    "sample(1:6, 4, replace=TRUE)"
   ]
  },
  {
   "attachments": {},
   "cell_type": "markdown",
   "metadata": {},
   "source": [
    "Now repeat the command to see how your result differs. (The probability of rolling the exact same result is (1/6)^4 = 0.00077, which is pretty small!)"
   ]
  },
  {
   "cell_type": "code",
   "execution_count": 3,
   "metadata": {
    "vscode": {
     "languageId": "r"
    }
   },
   "outputs": [
    {
     "data": {
      "text/html": [
       "<style>\n",
       ".list-inline {list-style: none; margin:0; padding: 0}\n",
       ".list-inline>li {display: inline-block}\n",
       ".list-inline>li:not(:last-child)::after {content: \"\\00b7\"; padding: 0 .5ex}\n",
       "</style>\n",
       "<ol class=list-inline><li>1</li><li>3</li><li>4</li><li>2</li></ol>\n"
      ],
      "text/latex": [
       "\\begin{enumerate*}\n",
       "\\item 1\n",
       "\\item 3\n",
       "\\item 4\n",
       "\\item 2\n",
       "\\end{enumerate*}\n"
      ],
      "text/markdown": [
       "1. 1\n",
       "2. 3\n",
       "3. 4\n",
       "4. 2\n",
       "\n",
       "\n"
      ],
      "text/plain": [
       "[1] 1 3 4 2"
      ]
     },
     "metadata": {},
     "output_type": "display_data"
    }
   ],
   "source": [
    "sample(1:6, 4, replace=TRUE)"
   ]
  },
  {
   "attachments": {},
   "cell_type": "markdown",
   "metadata": {},
   "source": [
    "sample(1:6, 4, replace = TRUE) instructs R to randomly select four numbers between 1 and 6, WITH replacement. Sampling with replacement simply means that each number is \"replaced\" after it is selected, so that the same number can show up more than once. This is what we want here, since what you roll on one die shouldn't affect what you roll on any of the others.\n",
    "\n",
    "Now sample 10 numbers between 1 and 20, WITHOUT replacement. To sample without replacement, simply leave off the 'replace' argument."
   ]
  },
  {
   "cell_type": "code",
   "execution_count": 4,
   "metadata": {
    "vscode": {
     "languageId": "r"
    }
   },
   "outputs": [
    {
     "data": {
      "text/html": [
       "<style>\n",
       ".list-inline {list-style: none; margin:0; padding: 0}\n",
       ".list-inline>li {display: inline-block}\n",
       ".list-inline>li:not(:last-child)::after {content: \"\\00b7\"; padding: 0 .5ex}\n",
       "</style>\n",
       "<ol class=list-inline><li>7</li><li>18</li><li>19</li><li>2</li><li>4</li><li>8</li><li>17</li><li>16</li><li>12</li><li>1</li></ol>\n"
      ],
      "text/latex": [
       "\\begin{enumerate*}\n",
       "\\item 7\n",
       "\\item 18\n",
       "\\item 19\n",
       "\\item 2\n",
       "\\item 4\n",
       "\\item 8\n",
       "\\item 17\n",
       "\\item 16\n",
       "\\item 12\n",
       "\\item 1\n",
       "\\end{enumerate*}\n"
      ],
      "text/markdown": [
       "1. 7\n",
       "2. 18\n",
       "3. 19\n",
       "4. 2\n",
       "5. 4\n",
       "6. 8\n",
       "7. 17\n",
       "8. 16\n",
       "9. 12\n",
       "10. 1\n",
       "\n",
       "\n"
      ],
      "text/plain": [
       " [1]  7 18 19  2  4  8 17 16 12  1"
      ]
     },
     "metadata": {},
     "output_type": "display_data"
    }
   ],
   "source": [
    "sample(1:20, 10)"
   ]
  },
  {
   "attachments": {},
   "cell_type": "markdown",
   "metadata": {},
   "source": [
    "Since the last command sampled without replacement, no number appears more than once in the output.\n",
    "\n",
    "LETTERS is a predefined variable in R containing a vector of all 26 letters of the English alphabet. Take a look at it now."
   ]
  },
  {
   "cell_type": "code",
   "execution_count": 5,
   "metadata": {
    "vscode": {
     "languageId": "r"
    }
   },
   "outputs": [
    {
     "data": {
      "text/html": [
       "<style>\n",
       ".list-inline {list-style: none; margin:0; padding: 0}\n",
       ".list-inline>li {display: inline-block}\n",
       ".list-inline>li:not(:last-child)::after {content: \"\\00b7\"; padding: 0 .5ex}\n",
       "</style>\n",
       "<ol class=list-inline><li>'A'</li><li>'B'</li><li>'C'</li><li>'D'</li><li>'E'</li><li>'F'</li><li>'G'</li><li>'H'</li><li>'I'</li><li>'J'</li><li>'K'</li><li>'L'</li><li>'M'</li><li>'N'</li><li>'O'</li><li>'P'</li><li>'Q'</li><li>'R'</li><li>'S'</li><li>'T'</li><li>'U'</li><li>'V'</li><li>'W'</li><li>'X'</li><li>'Y'</li><li>'Z'</li></ol>\n"
      ],
      "text/latex": [
       "\\begin{enumerate*}\n",
       "\\item 'A'\n",
       "\\item 'B'\n",
       "\\item 'C'\n",
       "\\item 'D'\n",
       "\\item 'E'\n",
       "\\item 'F'\n",
       "\\item 'G'\n",
       "\\item 'H'\n",
       "\\item 'I'\n",
       "\\item 'J'\n",
       "\\item 'K'\n",
       "\\item 'L'\n",
       "\\item 'M'\n",
       "\\item 'N'\n",
       "\\item 'O'\n",
       "\\item 'P'\n",
       "\\item 'Q'\n",
       "\\item 'R'\n",
       "\\item 'S'\n",
       "\\item 'T'\n",
       "\\item 'U'\n",
       "\\item 'V'\n",
       "\\item 'W'\n",
       "\\item 'X'\n",
       "\\item 'Y'\n",
       "\\item 'Z'\n",
       "\\end{enumerate*}\n"
      ],
      "text/markdown": [
       "1. 'A'\n",
       "2. 'B'\n",
       "3. 'C'\n",
       "4. 'D'\n",
       "5. 'E'\n",
       "6. 'F'\n",
       "7. 'G'\n",
       "8. 'H'\n",
       "9. 'I'\n",
       "10. 'J'\n",
       "11. 'K'\n",
       "12. 'L'\n",
       "13. 'M'\n",
       "14. 'N'\n",
       "15. 'O'\n",
       "16. 'P'\n",
       "17. 'Q'\n",
       "18. 'R'\n",
       "19. 'S'\n",
       "20. 'T'\n",
       "21. 'U'\n",
       "22. 'V'\n",
       "23. 'W'\n",
       "24. 'X'\n",
       "25. 'Y'\n",
       "26. 'Z'\n",
       "\n",
       "\n"
      ],
      "text/plain": [
       " [1] \"A\" \"B\" \"C\" \"D\" \"E\" \"F\" \"G\" \"H\" \"I\" \"J\" \"K\" \"L\" \"M\" \"N\" \"O\" \"P\" \"Q\" \"R\" \"S\"\n",
       "[20] \"T\" \"U\" \"V\" \"W\" \"X\" \"Y\" \"Z\""
      ]
     },
     "metadata": {},
     "output_type": "display_data"
    }
   ],
   "source": [
    "LETTERS"
   ]
  },
  {
   "attachments": {},
   "cell_type": "markdown",
   "metadata": {},
   "source": [
    "The sample() function can also be used to permute, or rearrange, the elements of a vector. For example, try sample(LETTERS) to permute all 26 letters of the English alphabet."
   ]
  },
  {
   "cell_type": "code",
   "execution_count": 6,
   "metadata": {
    "vscode": {
     "languageId": "r"
    }
   },
   "outputs": [
    {
     "data": {
      "text/html": [
       "<style>\n",
       ".list-inline {list-style: none; margin:0; padding: 0}\n",
       ".list-inline>li {display: inline-block}\n",
       ".list-inline>li:not(:last-child)::after {content: \"\\00b7\"; padding: 0 .5ex}\n",
       "</style>\n",
       "<ol class=list-inline><li>'Y'</li><li>'I'</li><li>'L'</li><li>'O'</li><li>'S'</li><li>'U'</li><li>'B'</li><li>'N'</li><li>'D'</li><li>'Z'</li><li>'A'</li><li>'R'</li><li>'Q'</li><li>'H'</li><li>'C'</li><li>'G'</li><li>'P'</li><li>'M'</li><li>'K'</li><li>'V'</li><li>'F'</li><li>'T'</li><li>'J'</li><li>'E'</li><li>'X'</li><li>'W'</li></ol>\n"
      ],
      "text/latex": [
       "\\begin{enumerate*}\n",
       "\\item 'Y'\n",
       "\\item 'I'\n",
       "\\item 'L'\n",
       "\\item 'O'\n",
       "\\item 'S'\n",
       "\\item 'U'\n",
       "\\item 'B'\n",
       "\\item 'N'\n",
       "\\item 'D'\n",
       "\\item 'Z'\n",
       "\\item 'A'\n",
       "\\item 'R'\n",
       "\\item 'Q'\n",
       "\\item 'H'\n",
       "\\item 'C'\n",
       "\\item 'G'\n",
       "\\item 'P'\n",
       "\\item 'M'\n",
       "\\item 'K'\n",
       "\\item 'V'\n",
       "\\item 'F'\n",
       "\\item 'T'\n",
       "\\item 'J'\n",
       "\\item 'E'\n",
       "\\item 'X'\n",
       "\\item 'W'\n",
       "\\end{enumerate*}\n"
      ],
      "text/markdown": [
       "1. 'Y'\n",
       "2. 'I'\n",
       "3. 'L'\n",
       "4. 'O'\n",
       "5. 'S'\n",
       "6. 'U'\n",
       "7. 'B'\n",
       "8. 'N'\n",
       "9. 'D'\n",
       "10. 'Z'\n",
       "11. 'A'\n",
       "12. 'R'\n",
       "13. 'Q'\n",
       "14. 'H'\n",
       "15. 'C'\n",
       "16. 'G'\n",
       "17. 'P'\n",
       "18. 'M'\n",
       "19. 'K'\n",
       "20. 'V'\n",
       "21. 'F'\n",
       "22. 'T'\n",
       "23. 'J'\n",
       "24. 'E'\n",
       "25. 'X'\n",
       "26. 'W'\n",
       "\n",
       "\n"
      ],
      "text/plain": [
       " [1] \"Y\" \"I\" \"L\" \"O\" \"S\" \"U\" \"B\" \"N\" \"D\" \"Z\" \"A\" \"R\" \"Q\" \"H\" \"C\" \"G\" \"P\" \"M\" \"K\"\n",
       "[20] \"V\" \"F\" \"T\" \"J\" \"E\" \"X\" \"W\""
      ]
     },
     "metadata": {},
     "output_type": "display_data"
    }
   ],
   "source": [
    "sample(LETTERS)"
   ]
  },
  {
   "attachments": {},
   "cell_type": "markdown",
   "metadata": {},
   "source": [
    "This is identical to taking a sample of size 26 from LETTERS, without replacement. When the 'size' argument to sample() is not specified, R takes a sample equal in size to the vector from which you are sampling.\n",
    "\n",
    "Now, suppose we want to simulate 100 flips of an unfair two-sided coin. This particular coin has a 0.3 probability of landing 'tails' and a 0.7 probability of landing 'heads'.\n",
    "\n",
    "Let the value 0 represent tails and the value 1 represent heads. Use sample() to draw a sample of size 100 from the vector c(0,1), with replacement. Since the coin is unfair, we must attach specific probabilities to the values 0 (tails) and 1 (heads) with a fourth argument, prob = c(0.3, 0.7). Assign the result to a new variable called flips."
   ]
  },
  {
   "cell_type": "code",
   "execution_count": 7,
   "metadata": {
    "vscode": {
     "languageId": "r"
    }
   },
   "outputs": [],
   "source": [
    "flips <-sample(x=c(0, 1), size=100, replace=TRUE, prob=c(0.3, 0.7))"
   ]
  },
  {
   "attachments": {},
   "cell_type": "markdown",
   "metadata": {},
   "source": [
    "View the contents of the flips variable."
   ]
  },
  {
   "cell_type": "code",
   "execution_count": 8,
   "metadata": {
    "vscode": {
     "languageId": "r"
    }
   },
   "outputs": [
    {
     "data": {
      "text/html": [
       "<style>\n",
       ".list-inline {list-style: none; margin:0; padding: 0}\n",
       ".list-inline>li {display: inline-block}\n",
       ".list-inline>li:not(:last-child)::after {content: \"\\00b7\"; padding: 0 .5ex}\n",
       "</style>\n",
       "<ol class=list-inline><li>0</li><li>1</li><li>1</li><li>1</li><li>1</li><li>1</li><li>0</li><li>1</li><li>1</li><li>1</li><li>1</li><li>1</li><li>1</li><li>1</li><li>1</li><li>1</li><li>1</li><li>1</li><li>1</li><li>1</li><li>0</li><li>1</li><li>1</li><li>1</li><li>1</li><li>1</li><li>0</li><li>0</li><li>1</li><li>1</li><li>1</li><li>1</li><li>1</li><li>0</li><li>1</li><li>1</li><li>1</li><li>1</li><li>0</li><li>1</li><li>0</li><li>1</li><li>1</li><li>1</li><li>1</li><li>1</li><li>0</li><li>0</li><li>1</li><li>1</li><li>1</li><li>1</li><li>1</li><li>1</li><li>0</li><li>0</li><li>1</li><li>1</li><li>1</li><li>1</li><li>0</li><li>0</li><li>1</li><li>1</li><li>1</li><li>1</li><li>1</li><li>0</li><li>1</li><li>1</li><li>1</li><li>1</li><li>1</li><li>0</li><li>1</li><li>1</li><li>1</li><li>1</li><li>1</li><li>1</li><li>0</li><li>1</li><li>1</li><li>1</li><li>1</li><li>1</li><li>0</li><li>1</li><li>1</li><li>0</li><li>1</li><li>1</li><li>0</li><li>0</li><li>1</li><li>1</li><li>1</li><li>1</li><li>0</li><li>1</li></ol>\n"
      ],
      "text/latex": [
       "\\begin{enumerate*}\n",
       "\\item 0\n",
       "\\item 1\n",
       "\\item 1\n",
       "\\item 1\n",
       "\\item 1\n",
       "\\item 1\n",
       "\\item 0\n",
       "\\item 1\n",
       "\\item 1\n",
       "\\item 1\n",
       "\\item 1\n",
       "\\item 1\n",
       "\\item 1\n",
       "\\item 1\n",
       "\\item 1\n",
       "\\item 1\n",
       "\\item 1\n",
       "\\item 1\n",
       "\\item 1\n",
       "\\item 1\n",
       "\\item 0\n",
       "\\item 1\n",
       "\\item 1\n",
       "\\item 1\n",
       "\\item 1\n",
       "\\item 1\n",
       "\\item 0\n",
       "\\item 0\n",
       "\\item 1\n",
       "\\item 1\n",
       "\\item 1\n",
       "\\item 1\n",
       "\\item 1\n",
       "\\item 0\n",
       "\\item 1\n",
       "\\item 1\n",
       "\\item 1\n",
       "\\item 1\n",
       "\\item 0\n",
       "\\item 1\n",
       "\\item 0\n",
       "\\item 1\n",
       "\\item 1\n",
       "\\item 1\n",
       "\\item 1\n",
       "\\item 1\n",
       "\\item 0\n",
       "\\item 0\n",
       "\\item 1\n",
       "\\item 1\n",
       "\\item 1\n",
       "\\item 1\n",
       "\\item 1\n",
       "\\item 1\n",
       "\\item 0\n",
       "\\item 0\n",
       "\\item 1\n",
       "\\item 1\n",
       "\\item 1\n",
       "\\item 1\n",
       "\\item 0\n",
       "\\item 0\n",
       "\\item 1\n",
       "\\item 1\n",
       "\\item 1\n",
       "\\item 1\n",
       "\\item 1\n",
       "\\item 0\n",
       "\\item 1\n",
       "\\item 1\n",
       "\\item 1\n",
       "\\item 1\n",
       "\\item 1\n",
       "\\item 0\n",
       "\\item 1\n",
       "\\item 1\n",
       "\\item 1\n",
       "\\item 1\n",
       "\\item 1\n",
       "\\item 1\n",
       "\\item 0\n",
       "\\item 1\n",
       "\\item 1\n",
       "\\item 1\n",
       "\\item 1\n",
       "\\item 1\n",
       "\\item 0\n",
       "\\item 1\n",
       "\\item 1\n",
       "\\item 0\n",
       "\\item 1\n",
       "\\item 1\n",
       "\\item 0\n",
       "\\item 0\n",
       "\\item 1\n",
       "\\item 1\n",
       "\\item 1\n",
       "\\item 1\n",
       "\\item 0\n",
       "\\item 1\n",
       "\\end{enumerate*}\n"
      ],
      "text/markdown": [
       "1. 0\n",
       "2. 1\n",
       "3. 1\n",
       "4. 1\n",
       "5. 1\n",
       "6. 1\n",
       "7. 0\n",
       "8. 1\n",
       "9. 1\n",
       "10. 1\n",
       "11. 1\n",
       "12. 1\n",
       "13. 1\n",
       "14. 1\n",
       "15. 1\n",
       "16. 1\n",
       "17. 1\n",
       "18. 1\n",
       "19. 1\n",
       "20. 1\n",
       "21. 0\n",
       "22. 1\n",
       "23. 1\n",
       "24. 1\n",
       "25. 1\n",
       "26. 1\n",
       "27. 0\n",
       "28. 0\n",
       "29. 1\n",
       "30. 1\n",
       "31. 1\n",
       "32. 1\n",
       "33. 1\n",
       "34. 0\n",
       "35. 1\n",
       "36. 1\n",
       "37. 1\n",
       "38. 1\n",
       "39. 0\n",
       "40. 1\n",
       "41. 0\n",
       "42. 1\n",
       "43. 1\n",
       "44. 1\n",
       "45. 1\n",
       "46. 1\n",
       "47. 0\n",
       "48. 0\n",
       "49. 1\n",
       "50. 1\n",
       "51. 1\n",
       "52. 1\n",
       "53. 1\n",
       "54. 1\n",
       "55. 0\n",
       "56. 0\n",
       "57. 1\n",
       "58. 1\n",
       "59. 1\n",
       "60. 1\n",
       "61. 0\n",
       "62. 0\n",
       "63. 1\n",
       "64. 1\n",
       "65. 1\n",
       "66. 1\n",
       "67. 1\n",
       "68. 0\n",
       "69. 1\n",
       "70. 1\n",
       "71. 1\n",
       "72. 1\n",
       "73. 1\n",
       "74. 0\n",
       "75. 1\n",
       "76. 1\n",
       "77. 1\n",
       "78. 1\n",
       "79. 1\n",
       "80. 1\n",
       "81. 0\n",
       "82. 1\n",
       "83. 1\n",
       "84. 1\n",
       "85. 1\n",
       "86. 1\n",
       "87. 0\n",
       "88. 1\n",
       "89. 1\n",
       "90. 0\n",
       "91. 1\n",
       "92. 1\n",
       "93. 0\n",
       "94. 0\n",
       "95. 1\n",
       "96. 1\n",
       "97. 1\n",
       "98. 1\n",
       "99. 0\n",
       "100. 1\n",
       "\n",
       "\n"
      ],
      "text/plain": [
       "  [1] 0 1 1 1 1 1 0 1 1 1 1 1 1 1 1 1 1 1 1 1 0 1 1 1 1 1 0 0 1 1 1 1 1 0 1 1 1\n",
       " [38] 1 0 1 0 1 1 1 1 1 0 0 1 1 1 1 1 1 0 0 1 1 1 1 0 0 1 1 1 1 1 0 1 1 1 1 1 0\n",
       " [75] 1 1 1 1 1 1 0 1 1 1 1 1 0 1 1 0 1 1 0 0 1 1 1 1 0 1"
      ]
     },
     "metadata": {},
     "output_type": "display_data"
    }
   ],
   "source": [
    "flips"
   ]
  },
  {
   "attachments": {},
   "cell_type": "markdown",
   "metadata": {},
   "source": [
    "Since we set the probability of landing heads on any given flip to be 0.7, we'd expect approximately 70 of our coin flips to have the value 1. Count the actual number of 1s contained in flips using the sum() function."
   ]
  },
  {
   "cell_type": "code",
   "execution_count": 9,
   "metadata": {
    "vscode": {
     "languageId": "r"
    }
   },
   "outputs": [
    {
     "data": {
      "text/html": [
       "78"
      ],
      "text/latex": [
       "78"
      ],
      "text/markdown": [
       "78"
      ],
      "text/plain": [
       "[1] 78"
      ]
     },
     "metadata": {},
     "output_type": "display_data"
    }
   ],
   "source": [
    "sum(flips)"
   ]
  },
  {
   "attachments": {},
   "cell_type": "markdown",
   "metadata": {},
   "source": [
    "A coin flip is a binary outcome (0 or 1) and we are performing 100 independent trials (coin flips), so we can use rbinom() to simulate a binomial random variable. Pull up the documentation for rbinom() using ?rbinom."
   ]
  },
  {
   "cell_type": "code",
   "execution_count": 10,
   "metadata": {
    "vscode": {
     "languageId": "r"
    }
   },
   "outputs": [
    {
     "name": "stdout",
     "output_type": "stream",
     "text": [
      "Binomial                 package:stats                 R Documentation\n",
      "\n",
      "_\bT_\bh_\be _\bB_\bi_\bn_\bo_\bm_\bi_\ba_\bl _\bD_\bi_\bs_\bt_\br_\bi_\bb_\bu_\bt_\bi_\bo_\bn\n",
      "\n",
      "_\bD_\be_\bs_\bc_\br_\bi_\bp_\bt_\bi_\bo_\bn:\n",
      "\n",
      "     Density, distribution function, quantile function and random\n",
      "     generation for the binomial distribution with parameters ‘size’\n",
      "     and ‘prob’.\n",
      "\n",
      "     This is conventionally interpreted as the number of ‘successes’ in\n",
      "     ‘size’ trials.\n",
      "\n",
      "_\bU_\bs_\ba_\bg_\be:\n",
      "\n",
      "     dbinom(x, size, prob, log = FALSE)\n",
      "     pbinom(q, size, prob, lower.tail = TRUE, log.p = FALSE)\n",
      "     qbinom(p, size, prob, lower.tail = TRUE, log.p = FALSE)\n",
      "     rbinom(n, size, prob)\n",
      "     \n",
      "_\bA_\br_\bg_\bu_\bm_\be_\bn_\bt_\bs:\n",
      "\n",
      "    x, q: vector of quantiles.\n",
      "\n",
      "       p: vector of probabilities.\n",
      "\n",
      "       n: number of observations. If ‘length(n) > 1’, the length is\n",
      "          taken to be the number required.\n",
      "\n",
      "    size: number of trials (zero or more).\n",
      "\n",
      "    prob: probability of success on each trial.\n",
      "\n",
      "log, log.p: logical; if TRUE, probabilities p are given as log(p).\n",
      "\n",
      "lower.tail: logical; if TRUE (default), probabilities are P[X <= x],\n",
      "          otherwise, P[X > x].\n",
      "\n",
      "_\bD_\be_\bt_\ba_\bi_\bl_\bs:\n",
      "\n",
      "     The binomial distribution with ‘size’ = n and ‘prob’ = p has\n",
      "     density\n",
      "\n",
      "                       p(x) = choose(n, x) p^x (1-p)^(n-x)              \n",
      "     \n",
      "     for x = 0, ..., n.  Note that binomial _coefficients_ can be\n",
      "     computed by ‘choose’ in R.\n",
      "\n",
      "     If an element of ‘x’ is not integer, the result of ‘dbinom’ is\n",
      "     zero, with a warning.\n",
      "\n",
      "     p(x) is computed using Loader's algorithm, see the reference\n",
      "     below.\n",
      "\n",
      "     The quantile is defined as the smallest value x such that F(x) >=\n",
      "     p, where F is the distribution function.\n",
      "\n",
      "_\bV_\ba_\bl_\bu_\be:\n",
      "\n",
      "     ‘dbinom’ gives the density, ‘pbinom’ gives the distribution\n",
      "     function, ‘qbinom’ gives the quantile function and ‘rbinom’\n",
      "     generates random deviates.\n",
      "\n",
      "     If ‘size’ is not an integer, ‘NaN’ is returned.\n",
      "\n",
      "     The length of the result is determined by ‘n’ for ‘rbinom’, and is\n",
      "     the maximum of the lengths of the numerical arguments for the\n",
      "     other functions.\n",
      "\n",
      "     The numerical arguments other than ‘n’ are recycled to the length\n",
      "     of the result.  Only the first elements of the logical arguments\n",
      "     are used.\n",
      "\n",
      "_\bS_\bo_\bu_\br_\bc_\be:\n",
      "\n",
      "     For ‘dbinom’ a saddle-point expansion is used: see\n",
      "\n",
      "     Catherine Loader (2000). _Fast and Accurate Computation of\n",
      "     Binomial Probabilities_; available as\n",
      "     <https://www.r-project.org/doc/reports/CLoader-dbinom-2002.pdf>\n",
      "\n",
      "     ‘pbinom’ uses ‘pbeta’.\n",
      "\n",
      "     ‘qbinom’ uses the Cornish-Fisher Expansion to include a skewness\n",
      "     correction to a normal approximation, followed by a search.\n",
      "\n",
      "     ‘rbinom’ (for ‘size < .Machine$integer.max’) is based on\n",
      "\n",
      "     Kachitvichyanukul, V. and Schmeiser, B. W. (1988) Binomial random\n",
      "     variate generation.  _Communications of the ACM_, *31*, 216-222.\n",
      "\n",
      "     For larger values it uses inversion.\n",
      "\n",
      "_\bS_\be_\be _\bA_\bl_\bs_\bo:\n",
      "\n",
      "     Distributions for other standard distributions, including\n",
      "     ‘dnbinom’ for the negative binomial, and ‘dpois’ for the Poisson\n",
      "     distribution.\n",
      "\n",
      "_\bE_\bx_\ba_\bm_\bp_\bl_\be_\bs:\n",
      "\n",
      "     require(graphics)\n",
      "     # Compute P(45 < X < 55) for X Binomial(100,0.5)\n",
      "     sum(dbinom(46:54, 100, 0.5))\n",
      "     \n",
      "     ## Using \"log = TRUE\" for an extended range :\n",
      "     n <- 2000\n",
      "     k <- seq(0, n, by = 20)\n",
      "     plot (k, dbinom(k, n, pi/10, log = TRUE), type = \"l\", ylab = \"log density\",\n",
      "           main = \"dbinom(*, log=TRUE) is better than  log(dbinom(*))\")\n",
      "     lines(k, log(dbinom(k, n, pi/10)), col = \"red\", lwd = 2)\n",
      "     ## extreme points are omitted since dbinom gives 0.\n",
      "     mtext(\"dbinom(k, log=TRUE)\", adj = 0)\n",
      "     mtext(\"extended range\", adj = 0, line = -1, font = 4)\n",
      "     mtext(\"log(dbinom(k))\", col = \"red\", adj = 1)\n",
      "     "
     ]
    }
   ],
   "source": [
    "?rbinom"
   ]
  },
  {
   "attachments": {},
   "cell_type": "markdown",
   "metadata": {},
   "source": [
    "Each probability distribution in R has an r*** function (for \"random\"), a d*** function (for \"density\"), a p*** (for \"probability\"), and q*** (for \"quantile\"). We are most interested in the r*** functions in this lesson, but I encourage you to explore the others on your own.\n",
    "\n",
    "A binomial random variable represents the number of 'successes' (heads) in a given number of independent 'trials' (coin flips). Therefore, we can generate a single random variable that represents the number of heads in 100 flips of our unfair coin using rbinom(1, size = 100, prob = 0.7). Note that you only specify the probability of 'success' (heads) and NOT the probability of 'failure' (tails). Try it now."
   ]
  },
  {
   "cell_type": "code",
   "execution_count": 11,
   "metadata": {
    "vscode": {
     "languageId": "r"
    }
   },
   "outputs": [
    {
     "data": {
      "text/html": [
       "70"
      ],
      "text/latex": [
       "70"
      ],
      "text/markdown": [
       "70"
      ],
      "text/plain": [
       "[1] 70"
      ]
     },
     "metadata": {},
     "output_type": "display_data"
    }
   ],
   "source": [
    "rbinom(1, size=100, prob=0.7)"
   ]
  },
  {
   "attachments": {},
   "cell_type": "markdown",
   "metadata": {},
   "source": [
    "Equivalently, if we want to see all of the 0s and 1s, we can request 100 observations, each of size 1, with success probability of 0.7. Give it a try, assigning the result to a new variable called flips2."
   ]
  },
  {
   "cell_type": "code",
   "execution_count": 12,
   "metadata": {
    "vscode": {
     "languageId": "r"
    }
   },
   "outputs": [],
   "source": [
    "flips2 <- rbinom(n=100, size=1, prob=0.7)"
   ]
  },
  {
   "attachments": {},
   "cell_type": "markdown",
   "metadata": {},
   "source": [
    "View the contents of flips2."
   ]
  },
  {
   "cell_type": "code",
   "execution_count": 13,
   "metadata": {
    "vscode": {
     "languageId": "r"
    }
   },
   "outputs": [
    {
     "data": {
      "text/html": [
       "<style>\n",
       ".list-inline {list-style: none; margin:0; padding: 0}\n",
       ".list-inline>li {display: inline-block}\n",
       ".list-inline>li:not(:last-child)::after {content: \"\\00b7\"; padding: 0 .5ex}\n",
       "</style>\n",
       "<ol class=list-inline><li>1</li><li>1</li><li>0</li><li>1</li><li>1</li><li>1</li><li>1</li><li>1</li><li>1</li><li>0</li><li>1</li><li>1</li><li>1</li><li>1</li><li>0</li><li>1</li><li>1</li><li>0</li><li>1</li><li>1</li><li>1</li><li>0</li><li>1</li><li>1</li><li>1</li><li>1</li><li>1</li><li>1</li><li>0</li><li>1</li><li>1</li><li>0</li><li>1</li><li>1</li><li>0</li><li>0</li><li>1</li><li>0</li><li>1</li><li>1</li><li>1</li><li>1</li><li>0</li><li>1</li><li>0</li><li>1</li><li>0</li><li>1</li><li>0</li><li>1</li><li>1</li><li>1</li><li>1</li><li>1</li><li>1</li><li>0</li><li>0</li><li>1</li><li>1</li><li>1</li><li>0</li><li>1</li><li>1</li><li>1</li><li>1</li><li>0</li><li>1</li><li>1</li><li>1</li><li>1</li><li>1</li><li>0</li><li>1</li><li>0</li><li>1</li><li>1</li><li>0</li><li>1</li><li>1</li><li>1</li><li>1</li><li>1</li><li>1</li><li>0</li><li>1</li><li>1</li><li>0</li><li>1</li><li>0</li><li>1</li><li>1</li><li>1</li><li>0</li><li>1</li><li>1</li><li>1</li><li>1</li><li>1</li><li>1</li><li>1</li></ol>\n"
      ],
      "text/latex": [
       "\\begin{enumerate*}\n",
       "\\item 1\n",
       "\\item 1\n",
       "\\item 0\n",
       "\\item 1\n",
       "\\item 1\n",
       "\\item 1\n",
       "\\item 1\n",
       "\\item 1\n",
       "\\item 1\n",
       "\\item 0\n",
       "\\item 1\n",
       "\\item 1\n",
       "\\item 1\n",
       "\\item 1\n",
       "\\item 0\n",
       "\\item 1\n",
       "\\item 1\n",
       "\\item 0\n",
       "\\item 1\n",
       "\\item 1\n",
       "\\item 1\n",
       "\\item 0\n",
       "\\item 1\n",
       "\\item 1\n",
       "\\item 1\n",
       "\\item 1\n",
       "\\item 1\n",
       "\\item 1\n",
       "\\item 0\n",
       "\\item 1\n",
       "\\item 1\n",
       "\\item 0\n",
       "\\item 1\n",
       "\\item 1\n",
       "\\item 0\n",
       "\\item 0\n",
       "\\item 1\n",
       "\\item 0\n",
       "\\item 1\n",
       "\\item 1\n",
       "\\item 1\n",
       "\\item 1\n",
       "\\item 0\n",
       "\\item 1\n",
       "\\item 0\n",
       "\\item 1\n",
       "\\item 0\n",
       "\\item 1\n",
       "\\item 0\n",
       "\\item 1\n",
       "\\item 1\n",
       "\\item 1\n",
       "\\item 1\n",
       "\\item 1\n",
       "\\item 1\n",
       "\\item 0\n",
       "\\item 0\n",
       "\\item 1\n",
       "\\item 1\n",
       "\\item 1\n",
       "\\item 0\n",
       "\\item 1\n",
       "\\item 1\n",
       "\\item 1\n",
       "\\item 1\n",
       "\\item 0\n",
       "\\item 1\n",
       "\\item 1\n",
       "\\item 1\n",
       "\\item 1\n",
       "\\item 1\n",
       "\\item 0\n",
       "\\item 1\n",
       "\\item 0\n",
       "\\item 1\n",
       "\\item 1\n",
       "\\item 0\n",
       "\\item 1\n",
       "\\item 1\n",
       "\\item 1\n",
       "\\item 1\n",
       "\\item 1\n",
       "\\item 1\n",
       "\\item 0\n",
       "\\item 1\n",
       "\\item 1\n",
       "\\item 0\n",
       "\\item 1\n",
       "\\item 0\n",
       "\\item 1\n",
       "\\item 1\n",
       "\\item 1\n",
       "\\item 0\n",
       "\\item 1\n",
       "\\item 1\n",
       "\\item 1\n",
       "\\item 1\n",
       "\\item 1\n",
       "\\item 1\n",
       "\\item 1\n",
       "\\end{enumerate*}\n"
      ],
      "text/markdown": [
       "1. 1\n",
       "2. 1\n",
       "3. 0\n",
       "4. 1\n",
       "5. 1\n",
       "6. 1\n",
       "7. 1\n",
       "8. 1\n",
       "9. 1\n",
       "10. 0\n",
       "11. 1\n",
       "12. 1\n",
       "13. 1\n",
       "14. 1\n",
       "15. 0\n",
       "16. 1\n",
       "17. 1\n",
       "18. 0\n",
       "19. 1\n",
       "20. 1\n",
       "21. 1\n",
       "22. 0\n",
       "23. 1\n",
       "24. 1\n",
       "25. 1\n",
       "26. 1\n",
       "27. 1\n",
       "28. 1\n",
       "29. 0\n",
       "30. 1\n",
       "31. 1\n",
       "32. 0\n",
       "33. 1\n",
       "34. 1\n",
       "35. 0\n",
       "36. 0\n",
       "37. 1\n",
       "38. 0\n",
       "39. 1\n",
       "40. 1\n",
       "41. 1\n",
       "42. 1\n",
       "43. 0\n",
       "44. 1\n",
       "45. 0\n",
       "46. 1\n",
       "47. 0\n",
       "48. 1\n",
       "49. 0\n",
       "50. 1\n",
       "51. 1\n",
       "52. 1\n",
       "53. 1\n",
       "54. 1\n",
       "55. 1\n",
       "56. 0\n",
       "57. 0\n",
       "58. 1\n",
       "59. 1\n",
       "60. 1\n",
       "61. 0\n",
       "62. 1\n",
       "63. 1\n",
       "64. 1\n",
       "65. 1\n",
       "66. 0\n",
       "67. 1\n",
       "68. 1\n",
       "69. 1\n",
       "70. 1\n",
       "71. 1\n",
       "72. 0\n",
       "73. 1\n",
       "74. 0\n",
       "75. 1\n",
       "76. 1\n",
       "77. 0\n",
       "78. 1\n",
       "79. 1\n",
       "80. 1\n",
       "81. 1\n",
       "82. 1\n",
       "83. 1\n",
       "84. 0\n",
       "85. 1\n",
       "86. 1\n",
       "87. 0\n",
       "88. 1\n",
       "89. 0\n",
       "90. 1\n",
       "91. 1\n",
       "92. 1\n",
       "93. 0\n",
       "94. 1\n",
       "95. 1\n",
       "96. 1\n",
       "97. 1\n",
       "98. 1\n",
       "99. 1\n",
       "100. 1\n",
       "\n",
       "\n"
      ],
      "text/plain": [
       "  [1] 1 1 0 1 1 1 1 1 1 0 1 1 1 1 0 1 1 0 1 1 1 0 1 1 1 1 1 1 0 1 1 0 1 1 0 0 1\n",
       " [38] 0 1 1 1 1 0 1 0 1 0 1 0 1 1 1 1 1 1 0 0 1 1 1 0 1 1 1 1 0 1 1 1 1 1 0 1 0\n",
       " [75] 1 1 0 1 1 1 1 1 1 0 1 1 0 1 0 1 1 1 0 1 1 1 1 1 1 1"
      ]
     },
     "metadata": {},
     "output_type": "display_data"
    }
   ],
   "source": [
    "flips2"
   ]
  },
  {
   "attachments": {},
   "cell_type": "markdown",
   "metadata": {},
   "source": [
    "Now use sum() to count the number of 1s (heads) in flips2. It should be close to 70!"
   ]
  },
  {
   "cell_type": "code",
   "execution_count": 14,
   "metadata": {
    "vscode": {
     "languageId": "r"
    }
   },
   "outputs": [
    {
     "data": {
      "text/html": [
       "75"
      ],
      "text/latex": [
       "75"
      ],
      "text/markdown": [
       "75"
      ],
      "text/plain": [
       "[1] 75"
      ]
     },
     "metadata": {},
     "output_type": "display_data"
    }
   ],
   "source": [
    "sum(flips2)"
   ]
  },
  {
   "attachments": {},
   "cell_type": "markdown",
   "metadata": {},
   "source": [
    "Similar to rbinom(), we can use R to simulate random numbers from many other probability distributions. Pull up the documentation for rnorm() now."
   ]
  },
  {
   "cell_type": "code",
   "execution_count": 15,
   "metadata": {
    "vscode": {
     "languageId": "r"
    }
   },
   "outputs": [
    {
     "name": "stdout",
     "output_type": "stream",
     "text": [
      "Normal                  package:stats                  R Documentation\n",
      "\n",
      "_\bT_\bh_\be _\bN_\bo_\br_\bm_\ba_\bl _\bD_\bi_\bs_\bt_\br_\bi_\bb_\bu_\bt_\bi_\bo_\bn\n",
      "\n",
      "_\bD_\be_\bs_\bc_\br_\bi_\bp_\bt_\bi_\bo_\bn:\n",
      "\n",
      "     Density, distribution function, quantile function and random\n",
      "     generation for the normal distribution with mean equal to ‘mean’\n",
      "     and standard deviation equal to ‘sd’.\n",
      "\n",
      "_\bU_\bs_\ba_\bg_\be:\n",
      "\n",
      "     dnorm(x, mean = 0, sd = 1, log = FALSE)\n",
      "     pnorm(q, mean = 0, sd = 1, lower.tail = TRUE, log.p = FALSE)\n",
      "     qnorm(p, mean = 0, sd = 1, lower.tail = TRUE, log.p = FALSE)\n",
      "     rnorm(n, mean = 0, sd = 1)\n",
      "     \n",
      "_\bA_\br_\bg_\bu_\bm_\be_\bn_\bt_\bs:\n",
      "\n",
      "    x, q: vector of quantiles.\n",
      "\n",
      "       p: vector of probabilities.\n",
      "\n",
      "       n: number of observations. If ‘length(n) > 1’, the length is\n",
      "          taken to be the number required.\n",
      "\n",
      "    mean: vector of means.\n",
      "\n",
      "      sd: vector of standard deviations.\n",
      "\n",
      "log, log.p: logical; if TRUE, probabilities p are given as log(p).\n",
      "\n",
      "lower.tail: logical; if TRUE (default), probabilities are P[X <= x]\n",
      "          otherwise, P[X > x].\n",
      "\n",
      "_\bD_\be_\bt_\ba_\bi_\bl_\bs:\n",
      "\n",
      "     If ‘mean’ or ‘sd’ are not specified they assume the default values\n",
      "     of ‘0’ and ‘1’, respectively.\n",
      "\n",
      "     The normal distribution has density\n",
      "\n",
      "            f(x) = 1/(sqrt(2 pi) sigma) e^-((x - mu)^2/(2 sigma^2))     \n",
      "     \n",
      "     where mu is the mean of the distribution and sigma the standard\n",
      "     deviation.\n",
      "\n",
      "_\bV_\ba_\bl_\bu_\be:\n",
      "\n",
      "     ‘dnorm’ gives the density, ‘pnorm’ gives the distribution\n",
      "     function, ‘qnorm’ gives the quantile function, and ‘rnorm’\n",
      "     generates random deviates.\n",
      "\n",
      "     The length of the result is determined by ‘n’ for ‘rnorm’, and is\n",
      "     the maximum of the lengths of the numerical arguments for the\n",
      "     other functions.\n",
      "\n",
      "     The numerical arguments other than ‘n’ are recycled to the length\n",
      "     of the result.  Only the first elements of the logical arguments\n",
      "     are used.\n",
      "\n",
      "     For ‘sd = 0’ this gives the limit as ‘sd’ decreases to 0, a point\n",
      "     mass at ‘mu’.  ‘sd < 0’ is an error and returns ‘NaN’.\n",
      "\n",
      "_\bS_\bo_\bu_\br_\bc_\be:\n",
      "\n",
      "     For ‘pnorm’, based on\n",
      "\n",
      "     Cody, W. D. (1993) Algorithm 715: SPECFUN - A portable FORTRAN\n",
      "     package of special function routines and test drivers.  _ACM\n",
      "     Transactions on Mathematical Software_ *19*, 22-32.\n",
      "\n",
      "     For ‘qnorm’, the code is a C translation of\n",
      "\n",
      "     Wichura, M. J. (1988) Algorithm AS 241: The percentage points of\n",
      "     the normal distribution.  _Applied Statistics_, *37*, 477-484.\n",
      "\n",
      "     which provides precise results up to about 16 digits.\n",
      "\n",
      "     For ‘rnorm’, see RNG for how to select the algorithm and for\n",
      "     references to the supplied methods.\n",
      "\n",
      "_\bR_\be_\bf_\be_\br_\be_\bn_\bc_\be_\bs:\n",
      "\n",
      "     Becker, R. A., Chambers, J. M. and Wilks, A. R. (1988) _The New S\n",
      "     Language_.  Wadsworth & Brooks/Cole.\n",
      "\n",
      "     Johnson, N. L., Kotz, S. and Balakrishnan, N. (1995) _Continuous\n",
      "     Univariate Distributions_, volume 1, chapter 13.  Wiley, New York.\n",
      "\n",
      "_\bS_\be_\be _\bA_\bl_\bs_\bo:\n",
      "\n",
      "     Distributions for other standard distributions, including ‘dlnorm’\n",
      "     for the _Log_normal distribution.\n",
      "\n",
      "_\bE_\bx_\ba_\bm_\bp_\bl_\be_\bs:\n",
      "\n",
      "     require(graphics)\n",
      "     \n",
      "     dnorm(0) == 1/sqrt(2*pi)\n",
      "     dnorm(1) == exp(-1/2)/sqrt(2*pi)\n",
      "     dnorm(1) == 1/sqrt(2*pi*exp(1))\n",
      "     \n",
      "     ## Using \"log = TRUE\" for an extended range :\n",
      "     par(mfrow = c(2,1))\n",
      "     plot(function(x) dnorm(x, log = TRUE), -60, 50,\n",
      "          main = \"log { Normal density }\")\n",
      "     curve(log(dnorm(x)), add = TRUE, col = \"red\", lwd = 2)\n",
      "     mtext(\"dnorm(x, log=TRUE)\", adj = 0)\n",
      "     mtext(\"log(dnorm(x))\", col = \"red\", adj = 1)\n",
      "     \n",
      "     plot(function(x) pnorm(x, log.p = TRUE), -50, 10,\n",
      "          main = \"log { Normal Cumulative }\")\n",
      "     curve(log(pnorm(x)), add = TRUE, col = \"red\", lwd = 2)\n",
      "     mtext(\"pnorm(x, log=TRUE)\", adj = 0)\n",
      "     mtext(\"log(pnorm(x))\", col = \"red\", adj = 1)\n",
      "     \n",
      "     ## if you want the so-called 'error function'\n",
      "     erf <- function(x) 2 * pnorm(x * sqrt(2)) - 1\n",
      "     ## (see Abramowitz and Stegun 29.2.29)\n",
      "     ## and the so-called 'complementary error function'\n",
      "     erfc <- function(x) 2 * pnorm(x * sqrt(2), lower = FALSE)\n",
      "     ## and the inverses\n",
      "     erfinv <- function (x) qnorm((1 + x)/2)/sqrt(2)\n",
      "     erfcinv <- function (x) qnorm(x/2, lower = FALSE)/sqrt(2)\n",
      "     "
     ]
    }
   ],
   "source": [
    "?rnorm"
   ]
  },
  {
   "attachments": {},
   "cell_type": "markdown",
   "metadata": {},
   "source": [
    "The standard normal distribution has mean 0 and standard deviation 1. As you can see under the 'Usage' section in the documentation, the default values for the 'mean' and 'sd' arguments to rnorm() are 0 and 1, respectively. Thus, rnorm(10) will generate 10 random numbers from a standard normal distribution. Give it a try."
   ]
  },
  {
   "cell_type": "code",
   "execution_count": 16,
   "metadata": {
    "vscode": {
     "languageId": "r"
    }
   },
   "outputs": [
    {
     "data": {
      "text/html": [
       "<style>\n",
       ".list-inline {list-style: none; margin:0; padding: 0}\n",
       ".list-inline>li {display: inline-block}\n",
       ".list-inline>li:not(:last-child)::after {content: \"\\00b7\"; padding: 0 .5ex}\n",
       "</style>\n",
       "<ol class=list-inline><li>-0.397421451370653</li><li>-0.613201504885505</li><li>0.96590807773701</li><li>0.0570969430818347</li><li>-0.0740261474973916</li><li>-0.527084006769809</li><li>1.2769950102488</li><li>0.000420172282350634</li><li>0.770541640725499</li><li>-1.50253060687901</li></ol>\n"
      ],
      "text/latex": [
       "\\begin{enumerate*}\n",
       "\\item -0.397421451370653\n",
       "\\item -0.613201504885505\n",
       "\\item 0.96590807773701\n",
       "\\item 0.0570969430818347\n",
       "\\item -0.0740261474973916\n",
       "\\item -0.527084006769809\n",
       "\\item 1.2769950102488\n",
       "\\item 0.000420172282350634\n",
       "\\item 0.770541640725499\n",
       "\\item -1.50253060687901\n",
       "\\end{enumerate*}\n"
      ],
      "text/markdown": [
       "1. -0.397421451370653\n",
       "2. -0.613201504885505\n",
       "3. 0.96590807773701\n",
       "4. 0.0570969430818347\n",
       "5. -0.0740261474973916\n",
       "6. -0.527084006769809\n",
       "7. 1.2769950102488\n",
       "8. 0.000420172282350634\n",
       "9. 0.770541640725499\n",
       "10. -1.50253060687901\n",
       "\n",
       "\n"
      ],
      "text/plain": [
       " [1] -0.3974214514 -0.6132015049  0.9659080777  0.0570969431 -0.0740261475\n",
       " [6] -0.5270840068  1.2769950102  0.0004201723  0.7705416407 -1.5025306069"
      ]
     },
     "metadata": {},
     "output_type": "display_data"
    }
   ],
   "source": [
    "rnorm(10)"
   ]
  },
  {
   "attachments": {},
   "cell_type": "markdown",
   "metadata": {},
   "source": [
    "Now do the same, except with a mean of 100 and a standard deviation of 25."
   ]
  },
  {
   "cell_type": "code",
   "execution_count": 17,
   "metadata": {
    "vscode": {
     "languageId": "r"
    }
   },
   "outputs": [
    {
     "data": {
      "text/html": [
       "<style>\n",
       ".list-inline {list-style: none; margin:0; padding: 0}\n",
       ".list-inline>li {display: inline-block}\n",
       ".list-inline>li:not(:last-child)::after {content: \"\\00b7\"; padding: 0 .5ex}\n",
       "</style>\n",
       "<ol class=list-inline><li>75.0416290974683</li><li>77.124557726177</li><li>81.9657106063854</li><li>73.0345234899841</li><li>144.581975448064</li><li>83.7189546997088</li><li>136.631855975429</li><li>136.138394773548</li><li>119.80037819892</li><li>106.123198097729</li></ol>\n"
      ],
      "text/latex": [
       "\\begin{enumerate*}\n",
       "\\item 75.0416290974683\n",
       "\\item 77.124557726177\n",
       "\\item 81.9657106063854\n",
       "\\item 73.0345234899841\n",
       "\\item 144.581975448064\n",
       "\\item 83.7189546997088\n",
       "\\item 136.631855975429\n",
       "\\item 136.138394773548\n",
       "\\item 119.80037819892\n",
       "\\item 106.123198097729\n",
       "\\end{enumerate*}\n"
      ],
      "text/markdown": [
       "1. 75.0416290974683\n",
       "2. 77.124557726177\n",
       "3. 81.9657106063854\n",
       "4. 73.0345234899841\n",
       "5. 144.581975448064\n",
       "6. 83.7189546997088\n",
       "7. 136.631855975429\n",
       "8. 136.138394773548\n",
       "9. 119.80037819892\n",
       "10. 106.123198097729\n",
       "\n",
       "\n"
      ],
      "text/plain": [
       " [1]  75.04163  77.12456  81.96571  73.03452 144.58198  83.71895 136.63186\n",
       " [8] 136.13839 119.80038 106.12320"
      ]
     },
     "metadata": {},
     "output_type": "display_data"
    }
   ],
   "source": [
    "rnorm(n=10, mean=100, sd=25)"
   ]
  },
  {
   "attachments": {},
   "cell_type": "markdown",
   "metadata": {},
   "source": [
    "Finally, what if we want to simulate 100 *groups* of random numbers, each containing 5 values generated from a Poisson distribution with mean 10? Let's start with one group of 5 numbers, then I'll show you how to repeat the operation 100 times in a convenient and compact way.\n",
    "\n",
    "Generate 5 random values from a Poisson distribution with mean 10. Check out the documentation for rpois() if you need help."
   ]
  },
  {
   "cell_type": "code",
   "execution_count": 18,
   "metadata": {
    "vscode": {
     "languageId": "r"
    }
   },
   "outputs": [
    {
     "data": {
      "text/html": [
       "<style>\n",
       ".list-inline {list-style: none; margin:0; padding: 0}\n",
       ".list-inline>li {display: inline-block}\n",
       ".list-inline>li:not(:last-child)::after {content: \"\\00b7\"; padding: 0 .5ex}\n",
       "</style>\n",
       "<ol class=list-inline><li>11</li><li>7</li><li>8</li><li>10</li><li>10</li></ol>\n"
      ],
      "text/latex": [
       "\\begin{enumerate*}\n",
       "\\item 11\n",
       "\\item 7\n",
       "\\item 8\n",
       "\\item 10\n",
       "\\item 10\n",
       "\\end{enumerate*}\n"
      ],
      "text/markdown": [
       "1. 11\n",
       "2. 7\n",
       "3. 8\n",
       "4. 10\n",
       "5. 10\n",
       "\n",
       "\n"
      ],
      "text/plain": [
       "[1] 11  7  8 10 10"
      ]
     },
     "metadata": {},
     "output_type": "display_data"
    }
   ],
   "source": [
    "rpois(n=5, lambda=10)"
   ]
  },
  {
   "attachments": {},
   "cell_type": "markdown",
   "metadata": {},
   "source": [
    "Now use replicate(100, rpois(5, 10)) to perform this operation 100 times. Store the result in a new variable called my_pois."
   ]
  },
  {
   "cell_type": "code",
   "execution_count": 19,
   "metadata": {
    "vscode": {
     "languageId": "r"
    }
   },
   "outputs": [],
   "source": [
    "my_pois <- replicate(100, rpois(5, 10))"
   ]
  },
  {
   "attachments": {},
   "cell_type": "markdown",
   "metadata": {},
   "source": [
    "Take a look at the contents of my_pois."
   ]
  },
  {
   "cell_type": "code",
   "execution_count": 20,
   "metadata": {
    "vscode": {
     "languageId": "r"
    }
   },
   "outputs": [
    {
     "data": {
      "text/html": [
       "<table class=\"dataframe\">\n",
       "<caption>A matrix: 5 × 100 of type int</caption>\n",
       "<tbody>\n",
       "\t<tr><td>15</td><td> 6</td><td> 8</td><td> 8</td><td> 6</td><td> 9</td><td> 4</td><td> 7</td><td> 8</td><td> 8</td><td>⋯</td><td> 4</td><td> 9</td><td>13</td><td> 9</td><td> 9</td><td> 8</td><td>10</td><td>15</td><td>11</td><td> 8</td></tr>\n",
       "\t<tr><td>10</td><td> 8</td><td>16</td><td> 9</td><td> 9</td><td> 9</td><td> 6</td><td>12</td><td>15</td><td>12</td><td>⋯</td><td>18</td><td>10</td><td> 6</td><td>16</td><td> 5</td><td> 9</td><td>10</td><td>15</td><td> 9</td><td>14</td></tr>\n",
       "\t<tr><td> 8</td><td>13</td><td>10</td><td> 4</td><td>12</td><td> 7</td><td> 7</td><td> 5</td><td>13</td><td>10</td><td>⋯</td><td> 8</td><td> 8</td><td>13</td><td>10</td><td>13</td><td>14</td><td> 8</td><td>12</td><td>13</td><td>12</td></tr>\n",
       "\t<tr><td>10</td><td>10</td><td>15</td><td> 9</td><td>11</td><td>10</td><td>11</td><td>10</td><td>10</td><td>14</td><td>⋯</td><td>14</td><td> 7</td><td>11</td><td> 8</td><td>14</td><td>18</td><td>12</td><td>18</td><td>11</td><td> 7</td></tr>\n",
       "\t<tr><td> 8</td><td> 5</td><td>14</td><td>13</td><td>15</td><td>10</td><td>13</td><td>15</td><td> 7</td><td>17</td><td>⋯</td><td>10</td><td>15</td><td> 8</td><td> 6</td><td>11</td><td>14</td><td> 7</td><td> 9</td><td>10</td><td> 8</td></tr>\n",
       "</tbody>\n",
       "</table>\n"
      ],
      "text/latex": [
       "A matrix: 5 × 100 of type int\n",
       "\\begin{tabular}{lllllllllllllllllllll}\n",
       "\t 15 &  6 &  8 &  8 &  6 &  9 &  4 &  7 &  8 &  8 & ⋯ &  4 &  9 & 13 &  9 &  9 &  8 & 10 & 15 & 11 &  8\\\\\n",
       "\t 10 &  8 & 16 &  9 &  9 &  9 &  6 & 12 & 15 & 12 & ⋯ & 18 & 10 &  6 & 16 &  5 &  9 & 10 & 15 &  9 & 14\\\\\n",
       "\t  8 & 13 & 10 &  4 & 12 &  7 &  7 &  5 & 13 & 10 & ⋯ &  8 &  8 & 13 & 10 & 13 & 14 &  8 & 12 & 13 & 12\\\\\n",
       "\t 10 & 10 & 15 &  9 & 11 & 10 & 11 & 10 & 10 & 14 & ⋯ & 14 &  7 & 11 &  8 & 14 & 18 & 12 & 18 & 11 &  7\\\\\n",
       "\t  8 &  5 & 14 & 13 & 15 & 10 & 13 & 15 &  7 & 17 & ⋯ & 10 & 15 &  8 &  6 & 11 & 14 &  7 &  9 & 10 &  8\\\\\n",
       "\\end{tabular}\n"
      ],
      "text/markdown": [
       "\n",
       "A matrix: 5 × 100 of type int\n",
       "\n",
       "| 15 |  6 |  8 |  8 |  6 |  9 |  4 |  7 |  8 |  8 | ⋯ |  4 |  9 | 13 |  9 |  9 |  8 | 10 | 15 | 11 |  8 |\n",
       "| 10 |  8 | 16 |  9 |  9 |  9 |  6 | 12 | 15 | 12 | ⋯ | 18 | 10 |  6 | 16 |  5 |  9 | 10 | 15 |  9 | 14 |\n",
       "|  8 | 13 | 10 |  4 | 12 |  7 |  7 |  5 | 13 | 10 | ⋯ |  8 |  8 | 13 | 10 | 13 | 14 |  8 | 12 | 13 | 12 |\n",
       "| 10 | 10 | 15 |  9 | 11 | 10 | 11 | 10 | 10 | 14 | ⋯ | 14 |  7 | 11 |  8 | 14 | 18 | 12 | 18 | 11 |  7 |\n",
       "|  8 |  5 | 14 | 13 | 15 | 10 | 13 | 15 |  7 | 17 | ⋯ | 10 | 15 |  8 |  6 | 11 | 14 |  7 |  9 | 10 |  8 |\n",
       "\n"
      ],
      "text/plain": [
       "     [,1] [,2] [,3] [,4] [,5] [,6] [,7] [,8] [,9] [,10] [,11] [,12] [,13] [,14]\n",
       "[1,] 15    6    8    8    6    9    4    7    8    8    ⋯      4     9    13   \n",
       "[2,] 10    8   16    9    9    9    6   12   15   12    ⋯     18    10     6   \n",
       "[3,]  8   13   10    4   12    7    7    5   13   10    ⋯      8     8    13   \n",
       "[4,] 10   10   15    9   11   10   11   10   10   14    ⋯     14     7    11   \n",
       "[5,]  8    5   14   13   15   10   13   15    7   17    ⋯     10    15     8   \n",
       "     [,15] [,16] [,17] [,18] [,19] [,20] [,21]\n",
       "[1,]  9     9     8    10    15    11     8   \n",
       "[2,] 16     5     9    10    15     9    14   \n",
       "[3,] 10    13    14     8    12    13    12   \n",
       "[4,]  8    14    18    12    18    11     7   \n",
       "[5,]  6    11    14     7     9    10     8   "
      ]
     },
     "metadata": {},
     "output_type": "display_data"
    }
   ],
   "source": [
    "my_pois"
   ]
  },
  {
   "attachments": {},
   "cell_type": "markdown",
   "metadata": {},
   "source": [
    "replicate() created a matrix, each column of which contains 5 random numbers generated from a Poisson distribution with mean 10. Now we can find the mean of each column in my_pois using the colMeans() function. Store the result in a variable called cm."
   ]
  },
  {
   "cell_type": "code",
   "execution_count": 21,
   "metadata": {
    "vscode": {
     "languageId": "r"
    }
   },
   "outputs": [],
   "source": [
    "cm <- colMeans(my_pois)"
   ]
  },
  {
   "attachments": {},
   "cell_type": "markdown",
   "metadata": {},
   "source": [
    "And let's take a look at the distribution of our column means by plotting a histogram with hist(cm)."
   ]
  },
  {
   "cell_type": "code",
   "execution_count": 22,
   "metadata": {
    "vscode": {
     "languageId": "r"
    }
   },
   "outputs": [
    {
     "data": {
      "image/png": "[encoded data removed]",
      "text/plain": [
       "Plot with title “Histogram of cm”"
      ]
     },
     "metadata": {
      "image/png": {
       "height": 420,
       "width": 420
      }
     },
     "output_type": "display_data"
    }
   ],
   "source": [
    "hist(cm)"
   ]
  },
  {
   "attachments": {},
   "cell_type": "markdown",
   "metadata": {},
   "source": [
    "Looks like our column means are almost normally distributed, right? That's the Central Limit Theorem at work, but that's a lesson for another day!\n",
    "\n",
    "All of the standard probability distributions are built into R, including exponential (rexp()), chi-squared (rchisq()), gamma (rgamma()), .... Well, you see the pattern.\n",
    "\n",
    "Simulation is practically a field of its own and we've only skimmed the surface of what's possible. I encourage you to explore these and other functions further on your own."
   ]
  }
 ],
 "metadata": {
  "kernelspec": {
   "display_name": "R",
   "language": "R",
   "name": "ir"
  },
  "language_info": {
   "codemirror_mode": "r",
   "file_extension": ".r",
   "mimetype": "text/x-r-source",
   "name": "R",
   "pygments_lexer": "r",
   "version": "4.2.3"
  },
  "orig_nbformat": 4
 },
 "nbformat": 4,
 "nbformat_minor": 2
}
