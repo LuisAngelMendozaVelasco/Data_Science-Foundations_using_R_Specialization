{
 "cells": [
  {
   "attachments": {},
   "cell_type": "markdown",
   "metadata": {},
   "source": [
    "# Practice Programming Assignment: swirl Lesson 4: Vectors"
   ]
  },
  {
   "attachments": {},
   "cell_type": "markdown",
   "metadata": {},
   "source": [
    "The simplest and most common data structure in R is the vector.\n",
    "\n",
    "Vectors come in two different flavors: atomic vectors and lists. An atomic vector contains exactly one data type, whereas a list may contain multiple data types. We'll explore atomic vectors further before we get to lists.\n",
    "\n",
    "In previous lessons, we dealt entirely with numeric vectors, which are one type of atomic vector. Other types of atomic vectors include logical, character, integer, and complex. In this lesson, we'll take a closer look at logical and character vectors.\n",
    "\n",
    "Logical vectors can contain the values TRUE, FALSE, and NA (for 'not available'). These values are generated as the result of logical 'conditions'. Let's experiment with some simple conditions.\n",
    "\n",
    "First, create a numeric vector num_vect that contains the values 0.5, 55, -10, and 6."
   ]
  },
  {
   "cell_type": "code",
   "execution_count": 1,
   "metadata": {
    "vscode": {
     "languageId": "r"
    }
   },
   "outputs": [],
   "source": [
    "num_vect <- c(0.5, 55, -10, 6)"
   ]
  },
  {
   "attachments": {},
   "cell_type": "markdown",
   "metadata": {},
   "source": [
    "Now, create a variable called tf that gets the result of num_vect < 1, which is read as 'num_vect is less than 1'."
   ]
  },
  {
   "cell_type": "code",
   "execution_count": 2,
   "metadata": {
    "vscode": {
     "languageId": "r"
    }
   },
   "outputs": [],
   "source": [
    "tf <- num_vect < 1"
   ]
  },
  {
   "attachments": {},
   "cell_type": "markdown",
   "metadata": {},
   "source": [
    "Print the contents of tf now."
   ]
  },
  {
   "cell_type": "code",
   "execution_count": 3,
   "metadata": {
    "vscode": {
     "languageId": "r"
    }
   },
   "outputs": [
    {
     "data": {
      "text/html": [
       "<style>\n",
       ".list-inline {list-style: none; margin:0; padding: 0}\n",
       ".list-inline>li {display: inline-block}\n",
       ".list-inline>li:not(:last-child)::after {content: \"\\00b7\"; padding: 0 .5ex}\n",
       "</style>\n",
       "<ol class=list-inline><li>TRUE</li><li>FALSE</li><li>TRUE</li><li>FALSE</li></ol>\n"
      ],
      "text/latex": [
       "\\begin{enumerate*}\n",
       "\\item TRUE\n",
       "\\item FALSE\n",
       "\\item TRUE\n",
       "\\item FALSE\n",
       "\\end{enumerate*}\n"
      ],
      "text/markdown": [
       "1. TRUE\n",
       "2. FALSE\n",
       "3. TRUE\n",
       "4. FALSE\n",
       "\n",
       "\n"
      ],
      "text/plain": [
       "[1]  TRUE FALSE  TRUE FALSE"
      ]
     },
     "metadata": {},
     "output_type": "display_data"
    }
   ],
   "source": [
    "tf"
   ]
  },
  {
   "attachments": {},
   "cell_type": "markdown",
   "metadata": {},
   "source": [
    "The statement num_vect < 1 is a condition and tf tells us whether each corresponding element of our numeric vector num_vect satisfies this condition.\n",
    "\n",
    "The first element of num_vect is 0.5, which is less than 1 and therefore the statement 0.5 < 1 is TRUE. The second element of num_vect is 55, which is greater than 1, so the statement 55 < 1 is FALSE. The same logic applies for the third and fourth elements.\n",
    "\n",
    "Let's try another. Type num_vect >= 6 without assigning the result to a new variable."
   ]
  },
  {
   "cell_type": "code",
   "execution_count": 4,
   "metadata": {
    "vscode": {
     "languageId": "r"
    }
   },
   "outputs": [
    {
     "data": {
      "text/html": [
       "<style>\n",
       ".list-inline {list-style: none; margin:0; padding: 0}\n",
       ".list-inline>li {display: inline-block}\n",
       ".list-inline>li:not(:last-child)::after {content: \"\\00b7\"; padding: 0 .5ex}\n",
       "</style>\n",
       "<ol class=list-inline><li>FALSE</li><li>TRUE</li><li>FALSE</li><li>TRUE</li></ol>\n"
      ],
      "text/latex": [
       "\\begin{enumerate*}\n",
       "\\item FALSE\n",
       "\\item TRUE\n",
       "\\item FALSE\n",
       "\\item TRUE\n",
       "\\end{enumerate*}\n"
      ],
      "text/markdown": [
       "1. FALSE\n",
       "2. TRUE\n",
       "3. FALSE\n",
       "4. TRUE\n",
       "\n",
       "\n"
      ],
      "text/plain": [
       "[1] FALSE  TRUE FALSE  TRUE"
      ]
     },
     "metadata": {},
     "output_type": "display_data"
    }
   ],
   "source": [
    "num_vect >= 6"
   ]
  },
  {
   "attachments": {},
   "cell_type": "markdown",
   "metadata": {},
   "source": [
    "This time, we are asking whether each individual element of num_vect is greater than OR equal to 6. Since only 55 and 6 are greater than or equal to 6, the second and fourth elements of the result are TRUE and the first and third elements are FALSE.\n",
    "\n",
    "The `<` and `>=` symbols in these examples are called 'logical operators'. Other logical operators include `>`, `<=`, `==` for exact equality, and `!=` for inequality.\n",
    "\n",
    "If we have two logical expressions, A and B, we can ask whether at least one is TRUE with A B (logical 'or' a.k.a. 'union') or whether they are both TRUE with A & B (logical 'and' a.k.a. 'intersection'). Lastly, !A is the negation of A and is TRUE when A is FALSE and vice versa.\n",
    "\n",
    "It's a good idea to spend some time playing around with various combinations of these logical operators until you get comfortable with their use. We'll do a few examples here to get you started.\n",
    "\n",
    "Try your best to predict the result of each of the following statements. You can use pencil and paper to work them out if it's helpful. If you get stuck, just guess and you've got a 50% chance of getting the right answer!"
   ]
  },
  {
   "cell_type": "code",
   "execution_count": 5,
   "metadata": {
    "vscode": {
     "languageId": "r"
    }
   },
   "outputs": [
    {
     "data": {
      "text/html": [
       "FALSE"
      ],
      "text/latex": [
       "FALSE"
      ],
      "text/markdown": [
       "FALSE"
      ],
      "text/plain": [
       "[1] FALSE"
      ]
     },
     "metadata": {},
     "output_type": "display_data"
    },
    {
     "data": {
      "text/html": [
       "TRUE"
      ],
      "text/latex": [
       "TRUE"
      ],
      "text/markdown": [
       "TRUE"
      ],
      "text/plain": [
       "[1] TRUE"
      ]
     },
     "metadata": {},
     "output_type": "display_data"
    },
    {
     "data": {
      "text/html": [
       "TRUE"
      ],
      "text/latex": [
       "TRUE"
      ],
      "text/markdown": [
       "TRUE"
      ],
      "text/plain": [
       "[1] TRUE"
      ]
     },
     "metadata": {},
     "output_type": "display_data"
    }
   ],
   "source": [
    "(3 > 5) & (4 == 4)\n",
    "(TRUE == TRUE) | (TRUE == FALSE)\n",
    "((111 >= 111) | !(TRUE)) & ((4 + 1) == 5)"
   ]
  },
  {
   "attachments": {},
   "cell_type": "markdown",
   "metadata": {},
   "source": [
    "Don't worry if you found these to be tricky. They're supposed to be. Working with logical statements in R takes practice, but your efforts will be rewarded in future lessons (e.g. subsetting and control structures).\n",
    "\n",
    "Character vectors are also very common in R. Double quotes are used to distinguish character objects, as in the following example.\n",
    "\n",
    "Create a character vector that contains the following words: \"My\", \"name\", \"is\". Remember to enclose each word in its own set of double quotes, so that R knows they are character strings. Store the vector in a variable called my_char."
   ]
  },
  {
   "cell_type": "code",
   "execution_count": 6,
   "metadata": {
    "vscode": {
     "languageId": "r"
    }
   },
   "outputs": [],
   "source": [
    "my_char <- c(\"My\", \"name\", \"is\")"
   ]
  },
  {
   "attachments": {},
   "cell_type": "markdown",
   "metadata": {},
   "source": [
    "Print the contents of my_char to see what it looks like."
   ]
  },
  {
   "cell_type": "code",
   "execution_count": 7,
   "metadata": {
    "vscode": {
     "languageId": "r"
    }
   },
   "outputs": [
    {
     "data": {
      "text/html": [
       "<style>\n",
       ".list-inline {list-style: none; margin:0; padding: 0}\n",
       ".list-inline>li {display: inline-block}\n",
       ".list-inline>li:not(:last-child)::after {content: \"\\00b7\"; padding: 0 .5ex}\n",
       "</style>\n",
       "<ol class=list-inline><li>'My'</li><li>'name'</li><li>'is'</li></ol>\n"
      ],
      "text/latex": [
       "\\begin{enumerate*}\n",
       "\\item 'My'\n",
       "\\item 'name'\n",
       "\\item 'is'\n",
       "\\end{enumerate*}\n"
      ],
      "text/markdown": [
       "1. 'My'\n",
       "2. 'name'\n",
       "3. 'is'\n",
       "\n",
       "\n"
      ],
      "text/plain": [
       "[1] \"My\"   \"name\" \"is\"  "
      ]
     },
     "metadata": {},
     "output_type": "display_data"
    }
   ],
   "source": [
    "my_char"
   ]
  },
  {
   "attachments": {},
   "cell_type": "markdown",
   "metadata": {},
   "source": [
    "Right now, my_char is a character vector of length 3. Let's say we want to join the elements of my_char together into one continuous character string (i.e. a character vector of length 1). We can do this using the paste() function.\n",
    "\n",
    "Type paste(my_char, collapse = \" \") now. Make sure there's a space between the double quotes in the `collapse` argument. You'll see why in a second."
   ]
  },
  {
   "cell_type": "code",
   "execution_count": 8,
   "metadata": {
    "vscode": {
     "languageId": "r"
    }
   },
   "outputs": [
    {
     "data": {
      "text/html": [
       "'My name is'"
      ],
      "text/latex": [
       "'My name is'"
      ],
      "text/markdown": [
       "'My name is'"
      ],
      "text/plain": [
       "[1] \"My name is\""
      ]
     },
     "metadata": {},
     "output_type": "display_data"
    }
   ],
   "source": [
    "paste(my_char, collapse = \" \")"
   ]
  },
  {
   "attachments": {},
   "cell_type": "markdown",
   "metadata": {},
   "source": [
    "The `collapse` argument to the paste() function tells R that when we join together the elements of the my_char character vector, we'd like to separate them with single spaces.\n",
    "\n",
    "It seems that we're missing something.... Ah, yes! Your name!\n",
    "\n",
    "To add (or 'concatenate') your name to the end of my_char, use the c() function like this: c(my_char, \"your_name_here\"). Place your name in double quotes where I've put \"your_name_here\". Try it now, storing the result in a new variable called my_name."
   ]
  },
  {
   "cell_type": "code",
   "execution_count": 9,
   "metadata": {
    "vscode": {
     "languageId": "r"
    }
   },
   "outputs": [],
   "source": [
    "my_name <- c(my_char, \"Luis\")"
   ]
  },
  {
   "attachments": {},
   "cell_type": "markdown",
   "metadata": {},
   "source": [
    "Take a look at the contents of my_name."
   ]
  },
  {
   "cell_type": "code",
   "execution_count": 10,
   "metadata": {
    "vscode": {
     "languageId": "r"
    }
   },
   "outputs": [
    {
     "data": {
      "text/html": [
       "<style>\n",
       ".list-inline {list-style: none; margin:0; padding: 0}\n",
       ".list-inline>li {display: inline-block}\n",
       ".list-inline>li:not(:last-child)::after {content: \"\\00b7\"; padding: 0 .5ex}\n",
       "</style>\n",
       "<ol class=list-inline><li>'My'</li><li>'name'</li><li>'is'</li><li>'Luis'</li></ol>\n"
      ],
      "text/latex": [
       "\\begin{enumerate*}\n",
       "\\item 'My'\n",
       "\\item 'name'\n",
       "\\item 'is'\n",
       "\\item 'Luis'\n",
       "\\end{enumerate*}\n"
      ],
      "text/markdown": [
       "1. 'My'\n",
       "2. 'name'\n",
       "3. 'is'\n",
       "4. 'Luis'\n",
       "\n",
       "\n"
      ],
      "text/plain": [
       "[1] \"My\"   \"name\" \"is\"   \"Luis\""
      ]
     },
     "metadata": {},
     "output_type": "display_data"
    }
   ],
   "source": [
    "my_name"
   ]
  },
  {
   "attachments": {},
   "cell_type": "markdown",
   "metadata": {},
   "source": [
    "Now, use the paste() function once more to join the words in my_name together into a single character string. Don't forget to say collapse = \" \"!"
   ]
  },
  {
   "cell_type": "code",
   "execution_count": 11,
   "metadata": {
    "vscode": {
     "languageId": "r"
    }
   },
   "outputs": [
    {
     "data": {
      "text/html": [
       "'My name is Luis'"
      ],
      "text/latex": [
       "'My name is Luis'"
      ],
      "text/markdown": [
       "'My name is Luis'"
      ],
      "text/plain": [
       "[1] \"My name is Luis\""
      ]
     },
     "metadata": {},
     "output_type": "display_data"
    }
   ],
   "source": [
    "paste(my_name, collapse = \" \")"
   ]
  },
  {
   "attachments": {},
   "cell_type": "markdown",
   "metadata": {},
   "source": [
    "In this example, we used the paste() function to collapse the elements of a single character vector. paste() can also be used to join the elements of multiple character vectors.\n",
    "\n",
    "In the simplest case, we can join two character vectors that are each of length 1 (i.e. join two words). Try paste(\"Hello\", \"world!\", sep = \" \"), where the `sep` argument tells R that we want to separate the joined elements with a single space."
   ]
  },
  {
   "cell_type": "code",
   "execution_count": 12,
   "metadata": {
    "vscode": {
     "languageId": "r"
    }
   },
   "outputs": [
    {
     "data": {
      "text/html": [
       "'Hello world!'"
      ],
      "text/latex": [
       "'Hello world!'"
      ],
      "text/markdown": [
       "'Hello world!'"
      ],
      "text/plain": [
       "[1] \"Hello world!\""
      ]
     },
     "metadata": {},
     "output_type": "display_data"
    }
   ],
   "source": [
    "paste(\"Hello\", \"world!\", sep = \" \")"
   ]
  },
  {
   "attachments": {},
   "cell_type": "markdown",
   "metadata": {},
   "source": [
    "For a slightly more complicated example, we can join two vectors, each of length 3. Use paste() to join the integer vector 1:3 with the character vector c(\"X\", \"Y\", \"Z\"). This time, use sep = \"\" to leave no space between the joined elements."
   ]
  },
  {
   "cell_type": "code",
   "execution_count": 13,
   "metadata": {
    "vscode": {
     "languageId": "r"
    }
   },
   "outputs": [
    {
     "data": {
      "text/html": [
       "<style>\n",
       ".list-inline {list-style: none; margin:0; padding: 0}\n",
       ".list-inline>li {display: inline-block}\n",
       ".list-inline>li:not(:last-child)::after {content: \"\\00b7\"; padding: 0 .5ex}\n",
       "</style>\n",
       "<ol class=list-inline><li>'1X'</li><li>'2Y'</li><li>'3Z'</li></ol>\n"
      ],
      "text/latex": [
       "\\begin{enumerate*}\n",
       "\\item '1X'\n",
       "\\item '2Y'\n",
       "\\item '3Z'\n",
       "\\end{enumerate*}\n"
      ],
      "text/markdown": [
       "1. '1X'\n",
       "2. '2Y'\n",
       "3. '3Z'\n",
       "\n",
       "\n"
      ],
      "text/plain": [
       "[1] \"1X\" \"2Y\" \"3Z\""
      ]
     },
     "metadata": {},
     "output_type": "display_data"
    }
   ],
   "source": [
    "paste(1:3, c(\"X\", \"Y\", \"Z\"), sep = \"\")"
   ]
  },
  {
   "attachments": {},
   "cell_type": "markdown",
   "metadata": {},
   "source": [
    "What do you think will happen if our vectors are of different length? (Hint: we talked about this in a previous lesson.)\n",
    "\n",
    "Vector recycling! Try paste(LETTERS, 1:4, sep = \"-\"), where LETTERS is a predefined variable in R containing a character vector of all 26 letters in the English alphabet."
   ]
  },
  {
   "cell_type": "code",
   "execution_count": 14,
   "metadata": {
    "vscode": {
     "languageId": "r"
    }
   },
   "outputs": [
    {
     "data": {
      "text/html": [
       "<style>\n",
       ".list-inline {list-style: none; margin:0; padding: 0}\n",
       ".list-inline>li {display: inline-block}\n",
       ".list-inline>li:not(:last-child)::after {content: \"\\00b7\"; padding: 0 .5ex}\n",
       "</style>\n",
       "<ol class=list-inline><li>'A-1'</li><li>'B-2'</li><li>'C-3'</li><li>'D-4'</li><li>'E-1'</li><li>'F-2'</li><li>'G-3'</li><li>'H-4'</li><li>'I-1'</li><li>'J-2'</li><li>'K-3'</li><li>'L-4'</li><li>'M-1'</li><li>'N-2'</li><li>'O-3'</li><li>'P-4'</li><li>'Q-1'</li><li>'R-2'</li><li>'S-3'</li><li>'T-4'</li><li>'U-1'</li><li>'V-2'</li><li>'W-3'</li><li>'X-4'</li><li>'Y-1'</li><li>'Z-2'</li></ol>\n"
      ],
      "text/latex": [
       "\\begin{enumerate*}\n",
       "\\item 'A-1'\n",
       "\\item 'B-2'\n",
       "\\item 'C-3'\n",
       "\\item 'D-4'\n",
       "\\item 'E-1'\n",
       "\\item 'F-2'\n",
       "\\item 'G-3'\n",
       "\\item 'H-4'\n",
       "\\item 'I-1'\n",
       "\\item 'J-2'\n",
       "\\item 'K-3'\n",
       "\\item 'L-4'\n",
       "\\item 'M-1'\n",
       "\\item 'N-2'\n",
       "\\item 'O-3'\n",
       "\\item 'P-4'\n",
       "\\item 'Q-1'\n",
       "\\item 'R-2'\n",
       "\\item 'S-3'\n",
       "\\item 'T-4'\n",
       "\\item 'U-1'\n",
       "\\item 'V-2'\n",
       "\\item 'W-3'\n",
       "\\item 'X-4'\n",
       "\\item 'Y-1'\n",
       "\\item 'Z-2'\n",
       "\\end{enumerate*}\n"
      ],
      "text/markdown": [
       "1. 'A-1'\n",
       "2. 'B-2'\n",
       "3. 'C-3'\n",
       "4. 'D-4'\n",
       "5. 'E-1'\n",
       "6. 'F-2'\n",
       "7. 'G-3'\n",
       "8. 'H-4'\n",
       "9. 'I-1'\n",
       "10. 'J-2'\n",
       "11. 'K-3'\n",
       "12. 'L-4'\n",
       "13. 'M-1'\n",
       "14. 'N-2'\n",
       "15. 'O-3'\n",
       "16. 'P-4'\n",
       "17. 'Q-1'\n",
       "18. 'R-2'\n",
       "19. 'S-3'\n",
       "20. 'T-4'\n",
       "21. 'U-1'\n",
       "22. 'V-2'\n",
       "23. 'W-3'\n",
       "24. 'X-4'\n",
       "25. 'Y-1'\n",
       "26. 'Z-2'\n",
       "\n",
       "\n"
      ],
      "text/plain": [
       " [1] \"A-1\" \"B-2\" \"C-3\" \"D-4\" \"E-1\" \"F-2\" \"G-3\" \"H-4\" \"I-1\" \"J-2\" \"K-3\" \"L-4\"\n",
       "[13] \"M-1\" \"N-2\" \"O-3\" \"P-4\" \"Q-1\" \"R-2\" \"S-3\" \"T-4\" \"U-1\" \"V-2\" \"W-3\" \"X-4\"\n",
       "[25] \"Y-1\" \"Z-2\""
      ]
     },
     "metadata": {},
     "output_type": "display_data"
    }
   ],
   "source": [
    "paste(LETTERS, 1:4, sep = \"-\")"
   ]
  },
  {
   "attachments": {},
   "cell_type": "markdown",
   "metadata": {},
   "source": [
    "Since the character vector LETTERS is longer than the numeric vector 1:4, R simply recycles, or repeats, 1:4 until it matches the length of LETTERS.\n",
    "\n",
    "Also worth noting is that the numeric vector 1:4 gets 'coerced' into a character vector by the paste() function.\n",
    "\n",
    "We'll discuss coercion in another lesson, but all it really means is that the numbers 1, 2, 3, and 4 in the output above are no longer numbers to R, but rather characters \"1\", \"2\", \"3\", and \"4\"."
   ]
  }
 ],
 "metadata": {
  "kernelspec": {
   "display_name": "R",
   "language": "R",
   "name": "ir"
  },
  "language_info": {
   "codemirror_mode": "r",
   "file_extension": ".r",
   "mimetype": "text/x-r-source",
   "name": "R",
   "pygments_lexer": "r",
   "version": "4.1.2"
  },
  "orig_nbformat": 4
 },
 "nbformat": 4,
 "nbformat_minor": 2
}
