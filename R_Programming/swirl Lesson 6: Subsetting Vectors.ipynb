{
 "cells": [
  {
   "attachments": {},
   "cell_type": "markdown",
   "metadata": {},
   "source": [
    "# Practice Programming Assignment: swirl Lesson 6: Subsetting Vectors"
   ]
  },
  {
   "attachments": {},
   "cell_type": "markdown",
   "metadata": {},
   "source": [
    "In this lesson, we'll see how to extract elements from a vector based on some conditions that we specify.\n",
    "\n",
    "For example, we may only be interested in the first 20 elements of a vector, or only the elements that are not NA, or only those that are positive or correspond to a specific variable of interest. By the end of this lesson, you'll know how to handle each of these scenarios.\n",
    "\n",
    "I've created for you a vector called x that contains a random ordering of 20 numbers (from a standard normal distribution) and 20 NAs. Type x now to see what it looks like."
   ]
  },
  {
   "cell_type": "code",
   "execution_count": 22,
   "metadata": {
    "vscode": {
     "languageId": "r"
    }
   },
   "outputs": [
    {
     "data": {
      "text/html": [
       "<style>\n",
       ".list-inline {list-style: none; margin:0; padding: 0}\n",
       ".list-inline>li {display: inline-block}\n",
       ".list-inline>li:not(:last-child)::after {content: \"\\00b7\"; padding: 0 .5ex}\n",
       "</style>\n",
       "<ol class=list-inline><li>0.96958965302033</li><li>0.245464425432717</li><li>&lt;NA&gt;</li><li>-0.537662468137856</li><li>&lt;NA&gt;</li><li>-1.35859073914682</li><li>-0.729985727680822</li><li>-0.478132225008531</li><li>&lt;NA&gt;</li><li>&lt;NA&gt;</li><li>-1.9338927964717</li><li>&lt;NA&gt;</li><li>0.901813488698284</li><li>0.0732450565610624</li><li>&lt;NA&gt;</li><li>&lt;NA&gt;</li><li>&lt;NA&gt;</li><li>&lt;NA&gt;</li><li>&lt;NA&gt;</li><li>&lt;NA&gt;</li><li>&lt;NA&gt;</li><li>-0.129508806331776</li><li>-0.942266038575301</li><li>&lt;NA&gt;</li><li>&lt;NA&gt;</li><li>&lt;NA&gt;</li><li>-0.163523690733686</li><li>&lt;NA&gt;</li><li>0.497430437178951</li><li>&lt;NA&gt;</li><li>-0.735255284840876</li><li>-0.0183780420461858</li><li>-0.799982920467641</li><li>&lt;NA&gt;</li><li>-0.0777419192321686</li><li>-0.0120403779643895</li><li>1.85221235649995</li><li>&lt;NA&gt;</li><li>-0.247813222383656</li><li>&lt;NA&gt;</li></ol>\n"
      ],
      "text/latex": [
       "\\begin{enumerate*}\n",
       "\\item 0.96958965302033\n",
       "\\item 0.245464425432717\n",
       "\\item <NA>\n",
       "\\item -0.537662468137856\n",
       "\\item <NA>\n",
       "\\item -1.35859073914682\n",
       "\\item -0.729985727680822\n",
       "\\item -0.478132225008531\n",
       "\\item <NA>\n",
       "\\item <NA>\n",
       "\\item -1.9338927964717\n",
       "\\item <NA>\n",
       "\\item 0.901813488698284\n",
       "\\item 0.0732450565610624\n",
       "\\item <NA>\n",
       "\\item <NA>\n",
       "\\item <NA>\n",
       "\\item <NA>\n",
       "\\item <NA>\n",
       "\\item <NA>\n",
       "\\item <NA>\n",
       "\\item -0.129508806331776\n",
       "\\item -0.942266038575301\n",
       "\\item <NA>\n",
       "\\item <NA>\n",
       "\\item <NA>\n",
       "\\item -0.163523690733686\n",
       "\\item <NA>\n",
       "\\item 0.497430437178951\n",
       "\\item <NA>\n",
       "\\item -0.735255284840876\n",
       "\\item -0.0183780420461858\n",
       "\\item -0.799982920467641\n",
       "\\item <NA>\n",
       "\\item -0.0777419192321686\n",
       "\\item -0.0120403779643895\n",
       "\\item 1.85221235649995\n",
       "\\item <NA>\n",
       "\\item -0.247813222383656\n",
       "\\item <NA>\n",
       "\\end{enumerate*}\n"
      ],
      "text/markdown": [
       "1. 0.96958965302033\n",
       "2. 0.245464425432717\n",
       "3. &lt;NA&gt;\n",
       "4. -0.537662468137856\n",
       "5. &lt;NA&gt;\n",
       "6. -1.35859073914682\n",
       "7. -0.729985727680822\n",
       "8. -0.478132225008531\n",
       "9. &lt;NA&gt;\n",
       "10. &lt;NA&gt;\n",
       "11. -1.9338927964717\n",
       "12. &lt;NA&gt;\n",
       "13. 0.901813488698284\n",
       "14. 0.0732450565610624\n",
       "15. &lt;NA&gt;\n",
       "16. &lt;NA&gt;\n",
       "17. &lt;NA&gt;\n",
       "18. &lt;NA&gt;\n",
       "19. &lt;NA&gt;\n",
       "20. &lt;NA&gt;\n",
       "21. &lt;NA&gt;\n",
       "22. -0.129508806331776\n",
       "23. -0.942266038575301\n",
       "24. &lt;NA&gt;\n",
       "25. &lt;NA&gt;\n",
       "26. &lt;NA&gt;\n",
       "27. -0.163523690733686\n",
       "28. &lt;NA&gt;\n",
       "29. 0.497430437178951\n",
       "30. &lt;NA&gt;\n",
       "31. -0.735255284840876\n",
       "32. -0.0183780420461858\n",
       "33. -0.799982920467641\n",
       "34. &lt;NA&gt;\n",
       "35. -0.0777419192321686\n",
       "36. -0.0120403779643895\n",
       "37. 1.85221235649995\n",
       "38. &lt;NA&gt;\n",
       "39. -0.247813222383656\n",
       "40. &lt;NA&gt;\n",
       "\n",
       "\n"
      ],
      "text/plain": [
       " [1]  0.96958965  0.24546443          NA -0.53766247          NA -1.35859074\n",
       " [7] -0.72998573 -0.47813223          NA          NA -1.93389280          NA\n",
       "[13]  0.90181349  0.07324506          NA          NA          NA          NA\n",
       "[19]          NA          NA          NA -0.12950881 -0.94226604          NA\n",
       "[25]          NA          NA -0.16352369          NA  0.49743044          NA\n",
       "[31] -0.73525528 -0.01837804 -0.79998292          NA -0.07774192 -0.01204038\n",
       "[37]  1.85221236          NA -0.24781322          NA"
      ]
     },
     "metadata": {},
     "output_type": "display_data"
    }
   ],
   "source": [
    "x <- sample(c(rnorm(20), rep(NA, 20)), 40)\n",
    "x"
   ]
  },
  {
   "attachments": {},
   "cell_type": "markdown",
   "metadata": {},
   "source": [
    "The way you tell R that you want to select some particular elements (i.e. a 'subset') from a vector is by placing an 'index vector' in square brackets immediately following the name of the vector.\n",
    "\n",
    "For a simple example, try x[1:10] to view the first ten elements of x."
   ]
  },
  {
   "cell_type": "code",
   "execution_count": 23,
   "metadata": {
    "vscode": {
     "languageId": "r"
    }
   },
   "outputs": [
    {
     "data": {
      "text/html": [
       "<style>\n",
       ".list-inline {list-style: none; margin:0; padding: 0}\n",
       ".list-inline>li {display: inline-block}\n",
       ".list-inline>li:not(:last-child)::after {content: \"\\00b7\"; padding: 0 .5ex}\n",
       "</style>\n",
       "<ol class=list-inline><li>0.96958965302033</li><li>0.245464425432717</li><li>&lt;NA&gt;</li><li>-0.537662468137856</li><li>&lt;NA&gt;</li><li>-1.35859073914682</li><li>-0.729985727680822</li><li>-0.478132225008531</li><li>&lt;NA&gt;</li><li>&lt;NA&gt;</li></ol>\n"
      ],
      "text/latex": [
       "\\begin{enumerate*}\n",
       "\\item 0.96958965302033\n",
       "\\item 0.245464425432717\n",
       "\\item <NA>\n",
       "\\item -0.537662468137856\n",
       "\\item <NA>\n",
       "\\item -1.35859073914682\n",
       "\\item -0.729985727680822\n",
       "\\item -0.478132225008531\n",
       "\\item <NA>\n",
       "\\item <NA>\n",
       "\\end{enumerate*}\n"
      ],
      "text/markdown": [
       "1. 0.96958965302033\n",
       "2. 0.245464425432717\n",
       "3. &lt;NA&gt;\n",
       "4. -0.537662468137856\n",
       "5. &lt;NA&gt;\n",
       "6. -1.35859073914682\n",
       "7. -0.729985727680822\n",
       "8. -0.478132225008531\n",
       "9. &lt;NA&gt;\n",
       "10. &lt;NA&gt;\n",
       "\n",
       "\n"
      ],
      "text/plain": [
       " [1]  0.9695897  0.2454644         NA -0.5376625         NA -1.3585907\n",
       " [7] -0.7299857 -0.4781322         NA         NA"
      ]
     },
     "metadata": {},
     "output_type": "display_data"
    }
   ],
   "source": [
    "x[1:10]"
   ]
  },
  {
   "attachments": {},
   "cell_type": "markdown",
   "metadata": {},
   "source": [
    "Index vectors come in four different flavors -- logical vectors, vectors of positive integers, vectors of negative integers, and vectors of character strings -- each of which we'll cover in this lesson.\n",
    "\n",
    "Let's start by indexing with logical vectors. One common scenario when working with real-world data is that we want to extract all elements of a vector that are not NA (i.e. missing data). Recall that is.na(x) yields a vector of logical values the same length as x, with TRUEs corresponding to NA values in x and FALSEs corresponding to non-NA values in x.\n",
    "\n",
    "What do you think x[is.na(x)] will give you? Prove it to yourself by typing x[is.na(x)]."
   ]
  },
  {
   "cell_type": "code",
   "execution_count": 24,
   "metadata": {
    "vscode": {
     "languageId": "r"
    }
   },
   "outputs": [
    {
     "data": {
      "text/html": [
       "<style>\n",
       ".list-inline {list-style: none; margin:0; padding: 0}\n",
       ".list-inline>li {display: inline-block}\n",
       ".list-inline>li:not(:last-child)::after {content: \"\\00b7\"; padding: 0 .5ex}\n",
       "</style>\n",
       "<ol class=list-inline><li>&lt;NA&gt;</li><li>&lt;NA&gt;</li><li>&lt;NA&gt;</li><li>&lt;NA&gt;</li><li>&lt;NA&gt;</li><li>&lt;NA&gt;</li><li>&lt;NA&gt;</li><li>&lt;NA&gt;</li><li>&lt;NA&gt;</li><li>&lt;NA&gt;</li><li>&lt;NA&gt;</li><li>&lt;NA&gt;</li><li>&lt;NA&gt;</li><li>&lt;NA&gt;</li><li>&lt;NA&gt;</li><li>&lt;NA&gt;</li><li>&lt;NA&gt;</li><li>&lt;NA&gt;</li><li>&lt;NA&gt;</li><li>&lt;NA&gt;</li></ol>\n"
      ],
      "text/latex": [
       "\\begin{enumerate*}\n",
       "\\item <NA>\n",
       "\\item <NA>\n",
       "\\item <NA>\n",
       "\\item <NA>\n",
       "\\item <NA>\n",
       "\\item <NA>\n",
       "\\item <NA>\n",
       "\\item <NA>\n",
       "\\item <NA>\n",
       "\\item <NA>\n",
       "\\item <NA>\n",
       "\\item <NA>\n",
       "\\item <NA>\n",
       "\\item <NA>\n",
       "\\item <NA>\n",
       "\\item <NA>\n",
       "\\item <NA>\n",
       "\\item <NA>\n",
       "\\item <NA>\n",
       "\\item <NA>\n",
       "\\end{enumerate*}\n"
      ],
      "text/markdown": [
       "1. &lt;NA&gt;\n",
       "2. &lt;NA&gt;\n",
       "3. &lt;NA&gt;\n",
       "4. &lt;NA&gt;\n",
       "5. &lt;NA&gt;\n",
       "6. &lt;NA&gt;\n",
       "7. &lt;NA&gt;\n",
       "8. &lt;NA&gt;\n",
       "9. &lt;NA&gt;\n",
       "10. &lt;NA&gt;\n",
       "11. &lt;NA&gt;\n",
       "12. &lt;NA&gt;\n",
       "13. &lt;NA&gt;\n",
       "14. &lt;NA&gt;\n",
       "15. &lt;NA&gt;\n",
       "16. &lt;NA&gt;\n",
       "17. &lt;NA&gt;\n",
       "18. &lt;NA&gt;\n",
       "19. &lt;NA&gt;\n",
       "20. &lt;NA&gt;\n",
       "\n",
       "\n"
      ],
      "text/plain": [
       " [1] NA NA NA NA NA NA NA NA NA NA NA NA NA NA NA NA NA NA NA NA"
      ]
     },
     "metadata": {},
     "output_type": "display_data"
    }
   ],
   "source": [
    "x[is.na(x)]"
   ]
  },
  {
   "attachments": {},
   "cell_type": "markdown",
   "metadata": {},
   "source": [
    "Recall that `!` gives us the negation of a logical expression, so !is.na(x) can be read as 'is not NA'. Therefore, if we want to create a vector called y that contains all of the non-NA values from x, we can use y <- x[!is.na(x)]. Give it a try."
   ]
  },
  {
   "cell_type": "code",
   "execution_count": 25,
   "metadata": {
    "vscode": {
     "languageId": "r"
    }
   },
   "outputs": [],
   "source": [
    "y <- x[!is.na(x)]"
   ]
  },
  {
   "cell_type": "markdown",
   "metadata": {},
   "source": [
    "\n",
    "Print y to the console."
   ]
  },
  {
   "cell_type": "code",
   "execution_count": 26,
   "metadata": {
    "vscode": {
     "languageId": "r"
    }
   },
   "outputs": [
    {
     "data": {
      "text/html": [
       "<style>\n",
       ".list-inline {list-style: none; margin:0; padding: 0}\n",
       ".list-inline>li {display: inline-block}\n",
       ".list-inline>li:not(:last-child)::after {content: \"\\00b7\"; padding: 0 .5ex}\n",
       "</style>\n",
       "<ol class=list-inline><li>0.96958965302033</li><li>0.245464425432717</li><li>-0.537662468137856</li><li>-1.35859073914682</li><li>-0.729985727680822</li><li>-0.478132225008531</li><li>-1.9338927964717</li><li>0.901813488698284</li><li>0.0732450565610624</li><li>-0.129508806331776</li><li>-0.942266038575301</li><li>-0.163523690733686</li><li>0.497430437178951</li><li>-0.735255284840876</li><li>-0.0183780420461858</li><li>-0.799982920467641</li><li>-0.0777419192321686</li><li>-0.0120403779643895</li><li>1.85221235649995</li><li>-0.247813222383656</li></ol>\n"
      ],
      "text/latex": [
       "\\begin{enumerate*}\n",
       "\\item 0.96958965302033\n",
       "\\item 0.245464425432717\n",
       "\\item -0.537662468137856\n",
       "\\item -1.35859073914682\n",
       "\\item -0.729985727680822\n",
       "\\item -0.478132225008531\n",
       "\\item -1.9338927964717\n",
       "\\item 0.901813488698284\n",
       "\\item 0.0732450565610624\n",
       "\\item -0.129508806331776\n",
       "\\item -0.942266038575301\n",
       "\\item -0.163523690733686\n",
       "\\item 0.497430437178951\n",
       "\\item -0.735255284840876\n",
       "\\item -0.0183780420461858\n",
       "\\item -0.799982920467641\n",
       "\\item -0.0777419192321686\n",
       "\\item -0.0120403779643895\n",
       "\\item 1.85221235649995\n",
       "\\item -0.247813222383656\n",
       "\\end{enumerate*}\n"
      ],
      "text/markdown": [
       "1. 0.96958965302033\n",
       "2. 0.245464425432717\n",
       "3. -0.537662468137856\n",
       "4. -1.35859073914682\n",
       "5. -0.729985727680822\n",
       "6. -0.478132225008531\n",
       "7. -1.9338927964717\n",
       "8. 0.901813488698284\n",
       "9. 0.0732450565610624\n",
       "10. -0.129508806331776\n",
       "11. -0.942266038575301\n",
       "12. -0.163523690733686\n",
       "13. 0.497430437178951\n",
       "14. -0.735255284840876\n",
       "15. -0.0183780420461858\n",
       "16. -0.799982920467641\n",
       "17. -0.0777419192321686\n",
       "18. -0.0120403779643895\n",
       "19. 1.85221235649995\n",
       "20. -0.247813222383656\n",
       "\n",
       "\n"
      ],
      "text/plain": [
       " [1]  0.96958965  0.24546443 -0.53766247 -1.35859074 -0.72998573 -0.47813223\n",
       " [7] -1.93389280  0.90181349  0.07324506 -0.12950881 -0.94226604 -0.16352369\n",
       "[13]  0.49743044 -0.73525528 -0.01837804 -0.79998292 -0.07774192 -0.01204038\n",
       "[19]  1.85221236 -0.24781322"
      ]
     },
     "metadata": {},
     "output_type": "display_data"
    }
   ],
   "source": [
    "y"
   ]
  },
  {
   "attachments": {},
   "cell_type": "markdown",
   "metadata": {},
   "source": [
    "Now that we've isolated the non-missing values of x and put them in y, we can subset y as we please.\n",
    "\n",
    "Recall that the expression y > 0 will give us a vector of logical values the same length as y, with TRUEs corresponding to values of y that are greater than zero and FALSEs corresponding to values of y that are less than or equal to zero.\n",
    "\n",
    "Type y[y > 0] to see that we get all of the positive elements of y, which are also the positive elements of our original vector x."
   ]
  },
  {
   "cell_type": "code",
   "execution_count": 27,
   "metadata": {
    "vscode": {
     "languageId": "r"
    }
   },
   "outputs": [
    {
     "data": {
      "text/html": [
       "<style>\n",
       ".list-inline {list-style: none; margin:0; padding: 0}\n",
       ".list-inline>li {display: inline-block}\n",
       ".list-inline>li:not(:last-child)::after {content: \"\\00b7\"; padding: 0 .5ex}\n",
       "</style>\n",
       "<ol class=list-inline><li>0.96958965302033</li><li>0.245464425432717</li><li>0.901813488698284</li><li>0.0732450565610624</li><li>0.497430437178951</li><li>1.85221235649995</li></ol>\n"
      ],
      "text/latex": [
       "\\begin{enumerate*}\n",
       "\\item 0.96958965302033\n",
       "\\item 0.245464425432717\n",
       "\\item 0.901813488698284\n",
       "\\item 0.0732450565610624\n",
       "\\item 0.497430437178951\n",
       "\\item 1.85221235649995\n",
       "\\end{enumerate*}\n"
      ],
      "text/markdown": [
       "1. 0.96958965302033\n",
       "2. 0.245464425432717\n",
       "3. 0.901813488698284\n",
       "4. 0.0732450565610624\n",
       "5. 0.497430437178951\n",
       "6. 1.85221235649995\n",
       "\n",
       "\n"
      ],
      "text/plain": [
       "[1] 0.96958965 0.24546443 0.90181349 0.07324506 0.49743044 1.85221236"
      ]
     },
     "metadata": {},
     "output_type": "display_data"
    }
   ],
   "source": [
    "y[y > 0]"
   ]
  },
  {
   "attachments": {},
   "cell_type": "markdown",
   "metadata": {},
   "source": [
    "You might wonder why we didn't just start with x[x > 0] to isolate the positive elements of x. Try that now to see why."
   ]
  },
  {
   "cell_type": "code",
   "execution_count": 28,
   "metadata": {
    "vscode": {
     "languageId": "r"
    }
   },
   "outputs": [
    {
     "data": {
      "text/html": [
       "<style>\n",
       ".list-inline {list-style: none; margin:0; padding: 0}\n",
       ".list-inline>li {display: inline-block}\n",
       ".list-inline>li:not(:last-child)::after {content: \"\\00b7\"; padding: 0 .5ex}\n",
       "</style>\n",
       "<ol class=list-inline><li>0.96958965302033</li><li>0.245464425432717</li><li>&lt;NA&gt;</li><li>&lt;NA&gt;</li><li>&lt;NA&gt;</li><li>&lt;NA&gt;</li><li>&lt;NA&gt;</li><li>0.901813488698284</li><li>0.0732450565610624</li><li>&lt;NA&gt;</li><li>&lt;NA&gt;</li><li>&lt;NA&gt;</li><li>&lt;NA&gt;</li><li>&lt;NA&gt;</li><li>&lt;NA&gt;</li><li>&lt;NA&gt;</li><li>&lt;NA&gt;</li><li>&lt;NA&gt;</li><li>&lt;NA&gt;</li><li>&lt;NA&gt;</li><li>0.497430437178951</li><li>&lt;NA&gt;</li><li>&lt;NA&gt;</li><li>1.85221235649995</li><li>&lt;NA&gt;</li><li>&lt;NA&gt;</li></ol>\n"
      ],
      "text/latex": [
       "\\begin{enumerate*}\n",
       "\\item 0.96958965302033\n",
       "\\item 0.245464425432717\n",
       "\\item <NA>\n",
       "\\item <NA>\n",
       "\\item <NA>\n",
       "\\item <NA>\n",
       "\\item <NA>\n",
       "\\item 0.901813488698284\n",
       "\\item 0.0732450565610624\n",
       "\\item <NA>\n",
       "\\item <NA>\n",
       "\\item <NA>\n",
       "\\item <NA>\n",
       "\\item <NA>\n",
       "\\item <NA>\n",
       "\\item <NA>\n",
       "\\item <NA>\n",
       "\\item <NA>\n",
       "\\item <NA>\n",
       "\\item <NA>\n",
       "\\item 0.497430437178951\n",
       "\\item <NA>\n",
       "\\item <NA>\n",
       "\\item 1.85221235649995\n",
       "\\item <NA>\n",
       "\\item <NA>\n",
       "\\end{enumerate*}\n"
      ],
      "text/markdown": [
       "1. 0.96958965302033\n",
       "2. 0.245464425432717\n",
       "3. &lt;NA&gt;\n",
       "4. &lt;NA&gt;\n",
       "5. &lt;NA&gt;\n",
       "6. &lt;NA&gt;\n",
       "7. &lt;NA&gt;\n",
       "8. 0.901813488698284\n",
       "9. 0.0732450565610624\n",
       "10. &lt;NA&gt;\n",
       "11. &lt;NA&gt;\n",
       "12. &lt;NA&gt;\n",
       "13. &lt;NA&gt;\n",
       "14. &lt;NA&gt;\n",
       "15. &lt;NA&gt;\n",
       "16. &lt;NA&gt;\n",
       "17. &lt;NA&gt;\n",
       "18. &lt;NA&gt;\n",
       "19. &lt;NA&gt;\n",
       "20. &lt;NA&gt;\n",
       "21. 0.497430437178951\n",
       "22. &lt;NA&gt;\n",
       "23. &lt;NA&gt;\n",
       "24. 1.85221235649995\n",
       "25. &lt;NA&gt;\n",
       "26. &lt;NA&gt;\n",
       "\n",
       "\n"
      ],
      "text/plain": [
       " [1] 0.96958965 0.24546443         NA         NA         NA         NA\n",
       " [7]         NA 0.90181349 0.07324506         NA         NA         NA\n",
       "[13]         NA         NA         NA         NA         NA         NA\n",
       "[19]         NA         NA 0.49743044         NA         NA 1.85221236\n",
       "[25]         NA         NA"
      ]
     },
     "metadata": {},
     "output_type": "display_data"
    }
   ],
   "source": [
    "x[x > 0]"
   ]
  },
  {
   "attachments": {},
   "cell_type": "markdown",
   "metadata": {},
   "source": [
    "Since NA is not a value, but rather a placeholder for an unknown quantity, the expression NA > 0 evaluates to NA. Hence we get a bunch of NAs mixed in with our positive numbers when we do this.\n",
    "\n",
    "Combining our knowledge of logical operators with our new knowledge of subsetting, we could do this -- x[!is.na(x) & x > 0]. Try it out."
   ]
  },
  {
   "cell_type": "code",
   "execution_count": 29,
   "metadata": {
    "vscode": {
     "languageId": "r"
    }
   },
   "outputs": [
    {
     "data": {
      "text/html": [
       "<style>\n",
       ".list-inline {list-style: none; margin:0; padding: 0}\n",
       ".list-inline>li {display: inline-block}\n",
       ".list-inline>li:not(:last-child)::after {content: \"\\00b7\"; padding: 0 .5ex}\n",
       "</style>\n",
       "<ol class=list-inline><li>0.96958965302033</li><li>0.245464425432717</li><li>0.901813488698284</li><li>0.0732450565610624</li><li>0.497430437178951</li><li>1.85221235649995</li></ol>\n"
      ],
      "text/latex": [
       "\\begin{enumerate*}\n",
       "\\item 0.96958965302033\n",
       "\\item 0.245464425432717\n",
       "\\item 0.901813488698284\n",
       "\\item 0.0732450565610624\n",
       "\\item 0.497430437178951\n",
       "\\item 1.85221235649995\n",
       "\\end{enumerate*}\n"
      ],
      "text/markdown": [
       "1. 0.96958965302033\n",
       "2. 0.245464425432717\n",
       "3. 0.901813488698284\n",
       "4. 0.0732450565610624\n",
       "5. 0.497430437178951\n",
       "6. 1.85221235649995\n",
       "\n",
       "\n"
      ],
      "text/plain": [
       "[1] 0.96958965 0.24546443 0.90181349 0.07324506 0.49743044 1.85221236"
      ]
     },
     "metadata": {},
     "output_type": "display_data"
    }
   ],
   "source": [
    "x[!is.na(x) & x > 0]"
   ]
  },
  {
   "attachments": {},
   "cell_type": "markdown",
   "metadata": {},
   "source": [
    "In this case, we request only values of x that are both non-missing AND greater than zero.\n",
    "\n",
    "I've already shown you how to subset just the first ten values of x using x[1:10]. In this case, we're providing a vector of positive integers inside of the square brackets, which tells R to return only the elements of x numbered 1 through 10.\n",
    "\n",
    "Many programming languages use what's called 'zero-based indexing', which means that the first element of a vector is considered element 0. R uses 'one-based indexing', which (you guessed it!) means the first element of a vector is considered element 1.\n",
    "\n",
    "Can you figure out how we'd subset the 3rd, 5th, and 7th elements of x? Hint -- Use the c() function to specify the element numbers as a numeric vector."
   ]
  },
  {
   "cell_type": "code",
   "execution_count": 30,
   "metadata": {
    "vscode": {
     "languageId": "r"
    }
   },
   "outputs": [
    {
     "data": {
      "text/html": [
       "<style>\n",
       ".list-inline {list-style: none; margin:0; padding: 0}\n",
       ".list-inline>li {display: inline-block}\n",
       ".list-inline>li:not(:last-child)::after {content: \"\\00b7\"; padding: 0 .5ex}\n",
       "</style>\n",
       "<ol class=list-inline><li>&lt;NA&gt;</li><li>&lt;NA&gt;</li><li>-0.729985727680822</li></ol>\n"
      ],
      "text/latex": [
       "\\begin{enumerate*}\n",
       "\\item <NA>\n",
       "\\item <NA>\n",
       "\\item -0.729985727680822\n",
       "\\end{enumerate*}\n"
      ],
      "text/markdown": [
       "1. &lt;NA&gt;\n",
       "2. &lt;NA&gt;\n",
       "3. -0.729985727680822\n",
       "\n",
       "\n"
      ],
      "text/plain": [
       "[1]         NA         NA -0.7299857"
      ]
     },
     "metadata": {},
     "output_type": "display_data"
    }
   ],
   "source": [
    "x[c(3, 5, 7)]"
   ]
  },
  {
   "attachments": {},
   "cell_type": "markdown",
   "metadata": {},
   "source": [
    "It's important that when using integer vectors to subset our vector x, we stick with the set of indexes {1, 2, ..., 40} since x only has 40 elements. What happens if we ask for the zeroth element of x (i.e. x[0])? Give it a try."
   ]
  },
  {
   "cell_type": "code",
   "execution_count": 31,
   "metadata": {
    "vscode": {
     "languageId": "r"
    }
   },
   "outputs": [
    {
     "data": {
      "text/html": [],
      "text/latex": [],
      "text/markdown": [],
      "text/plain": [
       "numeric(0)"
      ]
     },
     "metadata": {},
     "output_type": "display_data"
    }
   ],
   "source": [
    "x[0]"
   ]
  },
  {
   "attachments": {},
   "cell_type": "markdown",
   "metadata": {},
   "source": [
    "As you might expect, we get nothing useful. Unfortunately, R doesn't prevent us from doing this. What if we ask for the 3000th element of x? Try it out."
   ]
  },
  {
   "cell_type": "code",
   "execution_count": 32,
   "metadata": {
    "vscode": {
     "languageId": "r"
    }
   },
   "outputs": [
    {
     "data": {
      "text/html": [
       "&lt;NA&gt;"
      ],
      "text/latex": [
       "<NA>"
      ],
      "text/markdown": [
       "&lt;NA&gt;"
      ],
      "text/plain": [
       "[1] NA"
      ]
     },
     "metadata": {},
     "output_type": "display_data"
    }
   ],
   "source": [
    "x[3000]"
   ]
  },
  {
   "attachments": {},
   "cell_type": "markdown",
   "metadata": {},
   "source": [
    "Again, nothing useful, but R doesn't prevent us from asking for it. This should be a cautionary tale. You should always make sure that what you are asking for is within the bounds of the vector you're working with.\n",
    "\n",
    "What if we're interested in all elements of x EXCEPT the 2nd and 10th? It would be pretty tedious to construct a vector containing all numbers 1 through 40 EXCEPT 2 and 10.\n",
    "\n",
    "Luckily, R accepts negative integer indexes. Whereas x[c(2, 10)] gives us ONLY the 2nd and 10th elements of x, x[c(-2, -10)] gives us all elements of x EXCEPT for the 2nd and 10 elements.  Try x[c(-2, -10)] now to see this."
   ]
  },
  {
   "cell_type": "code",
   "execution_count": 33,
   "metadata": {
    "vscode": {
     "languageId": "r"
    }
   },
   "outputs": [
    {
     "data": {
      "text/html": [
       "<style>\n",
       ".list-inline {list-style: none; margin:0; padding: 0}\n",
       ".list-inline>li {display: inline-block}\n",
       ".list-inline>li:not(:last-child)::after {content: \"\\00b7\"; padding: 0 .5ex}\n",
       "</style>\n",
       "<ol class=list-inline><li>0.96958965302033</li><li>&lt;NA&gt;</li><li>-0.537662468137856</li><li>&lt;NA&gt;</li><li>-1.35859073914682</li><li>-0.729985727680822</li><li>-0.478132225008531</li><li>&lt;NA&gt;</li><li>-1.9338927964717</li><li>&lt;NA&gt;</li><li>0.901813488698284</li><li>0.0732450565610624</li><li>&lt;NA&gt;</li><li>&lt;NA&gt;</li><li>&lt;NA&gt;</li><li>&lt;NA&gt;</li><li>&lt;NA&gt;</li><li>&lt;NA&gt;</li><li>&lt;NA&gt;</li><li>-0.129508806331776</li><li>-0.942266038575301</li><li>&lt;NA&gt;</li><li>&lt;NA&gt;</li><li>&lt;NA&gt;</li><li>-0.163523690733686</li><li>&lt;NA&gt;</li><li>0.497430437178951</li><li>&lt;NA&gt;</li><li>-0.735255284840876</li><li>-0.0183780420461858</li><li>-0.799982920467641</li><li>&lt;NA&gt;</li><li>-0.0777419192321686</li><li>-0.0120403779643895</li><li>1.85221235649995</li><li>&lt;NA&gt;</li><li>-0.247813222383656</li><li>&lt;NA&gt;</li></ol>\n"
      ],
      "text/latex": [
       "\\begin{enumerate*}\n",
       "\\item 0.96958965302033\n",
       "\\item <NA>\n",
       "\\item -0.537662468137856\n",
       "\\item <NA>\n",
       "\\item -1.35859073914682\n",
       "\\item -0.729985727680822\n",
       "\\item -0.478132225008531\n",
       "\\item <NA>\n",
       "\\item -1.9338927964717\n",
       "\\item <NA>\n",
       "\\item 0.901813488698284\n",
       "\\item 0.0732450565610624\n",
       "\\item <NA>\n",
       "\\item <NA>\n",
       "\\item <NA>\n",
       "\\item <NA>\n",
       "\\item <NA>\n",
       "\\item <NA>\n",
       "\\item <NA>\n",
       "\\item -0.129508806331776\n",
       "\\item -0.942266038575301\n",
       "\\item <NA>\n",
       "\\item <NA>\n",
       "\\item <NA>\n",
       "\\item -0.163523690733686\n",
       "\\item <NA>\n",
       "\\item 0.497430437178951\n",
       "\\item <NA>\n",
       "\\item -0.735255284840876\n",
       "\\item -0.0183780420461858\n",
       "\\item -0.799982920467641\n",
       "\\item <NA>\n",
       "\\item -0.0777419192321686\n",
       "\\item -0.0120403779643895\n",
       "\\item 1.85221235649995\n",
       "\\item <NA>\n",
       "\\item -0.247813222383656\n",
       "\\item <NA>\n",
       "\\end{enumerate*}\n"
      ],
      "text/markdown": [
       "1. 0.96958965302033\n",
       "2. &lt;NA&gt;\n",
       "3. -0.537662468137856\n",
       "4. &lt;NA&gt;\n",
       "5. -1.35859073914682\n",
       "6. -0.729985727680822\n",
       "7. -0.478132225008531\n",
       "8. &lt;NA&gt;\n",
       "9. -1.9338927964717\n",
       "10. &lt;NA&gt;\n",
       "11. 0.901813488698284\n",
       "12. 0.0732450565610624\n",
       "13. &lt;NA&gt;\n",
       "14. &lt;NA&gt;\n",
       "15. &lt;NA&gt;\n",
       "16. &lt;NA&gt;\n",
       "17. &lt;NA&gt;\n",
       "18. &lt;NA&gt;\n",
       "19. &lt;NA&gt;\n",
       "20. -0.129508806331776\n",
       "21. -0.942266038575301\n",
       "22. &lt;NA&gt;\n",
       "23. &lt;NA&gt;\n",
       "24. &lt;NA&gt;\n",
       "25. -0.163523690733686\n",
       "26. &lt;NA&gt;\n",
       "27. 0.497430437178951\n",
       "28. &lt;NA&gt;\n",
       "29. -0.735255284840876\n",
       "30. -0.0183780420461858\n",
       "31. -0.799982920467641\n",
       "32. &lt;NA&gt;\n",
       "33. -0.0777419192321686\n",
       "34. -0.0120403779643895\n",
       "35. 1.85221235649995\n",
       "36. &lt;NA&gt;\n",
       "37. -0.247813222383656\n",
       "38. &lt;NA&gt;\n",
       "\n",
       "\n"
      ],
      "text/plain": [
       " [1]  0.96958965          NA -0.53766247          NA -1.35859074 -0.72998573\n",
       " [7] -0.47813223          NA -1.93389280          NA  0.90181349  0.07324506\n",
       "[13]          NA          NA          NA          NA          NA          NA\n",
       "[19]          NA -0.12950881 -0.94226604          NA          NA          NA\n",
       "[25] -0.16352369          NA  0.49743044          NA -0.73525528 -0.01837804\n",
       "[31] -0.79998292          NA -0.07774192 -0.01204038  1.85221236          NA\n",
       "[37] -0.24781322          NA"
      ]
     },
     "metadata": {},
     "output_type": "display_data"
    }
   ],
   "source": [
    "x[c(-2, -10)]"
   ]
  },
  {
   "attachments": {},
   "cell_type": "markdown",
   "metadata": {},
   "source": [
    "A shorthand way of specifying multiple negative numbers is to put the negative sign out in front of the vector of positive numbers. Type x[-c(2, 10)] to get the exact same result."
   ]
  },
  {
   "cell_type": "code",
   "execution_count": 34,
   "metadata": {
    "vscode": {
     "languageId": "r"
    }
   },
   "outputs": [
    {
     "data": {
      "text/html": [
       "<style>\n",
       ".list-inline {list-style: none; margin:0; padding: 0}\n",
       ".list-inline>li {display: inline-block}\n",
       ".list-inline>li:not(:last-child)::after {content: \"\\00b7\"; padding: 0 .5ex}\n",
       "</style>\n",
       "<ol class=list-inline><li>0.96958965302033</li><li>&lt;NA&gt;</li><li>-0.537662468137856</li><li>&lt;NA&gt;</li><li>-1.35859073914682</li><li>-0.729985727680822</li><li>-0.478132225008531</li><li>&lt;NA&gt;</li><li>-1.9338927964717</li><li>&lt;NA&gt;</li><li>0.901813488698284</li><li>0.0732450565610624</li><li>&lt;NA&gt;</li><li>&lt;NA&gt;</li><li>&lt;NA&gt;</li><li>&lt;NA&gt;</li><li>&lt;NA&gt;</li><li>&lt;NA&gt;</li><li>&lt;NA&gt;</li><li>-0.129508806331776</li><li>-0.942266038575301</li><li>&lt;NA&gt;</li><li>&lt;NA&gt;</li><li>&lt;NA&gt;</li><li>-0.163523690733686</li><li>&lt;NA&gt;</li><li>0.497430437178951</li><li>&lt;NA&gt;</li><li>-0.735255284840876</li><li>-0.0183780420461858</li><li>-0.799982920467641</li><li>&lt;NA&gt;</li><li>-0.0777419192321686</li><li>-0.0120403779643895</li><li>1.85221235649995</li><li>&lt;NA&gt;</li><li>-0.247813222383656</li><li>&lt;NA&gt;</li></ol>\n"
      ],
      "text/latex": [
       "\\begin{enumerate*}\n",
       "\\item 0.96958965302033\n",
       "\\item <NA>\n",
       "\\item -0.537662468137856\n",
       "\\item <NA>\n",
       "\\item -1.35859073914682\n",
       "\\item -0.729985727680822\n",
       "\\item -0.478132225008531\n",
       "\\item <NA>\n",
       "\\item -1.9338927964717\n",
       "\\item <NA>\n",
       "\\item 0.901813488698284\n",
       "\\item 0.0732450565610624\n",
       "\\item <NA>\n",
       "\\item <NA>\n",
       "\\item <NA>\n",
       "\\item <NA>\n",
       "\\item <NA>\n",
       "\\item <NA>\n",
       "\\item <NA>\n",
       "\\item -0.129508806331776\n",
       "\\item -0.942266038575301\n",
       "\\item <NA>\n",
       "\\item <NA>\n",
       "\\item <NA>\n",
       "\\item -0.163523690733686\n",
       "\\item <NA>\n",
       "\\item 0.497430437178951\n",
       "\\item <NA>\n",
       "\\item -0.735255284840876\n",
       "\\item -0.0183780420461858\n",
       "\\item -0.799982920467641\n",
       "\\item <NA>\n",
       "\\item -0.0777419192321686\n",
       "\\item -0.0120403779643895\n",
       "\\item 1.85221235649995\n",
       "\\item <NA>\n",
       "\\item -0.247813222383656\n",
       "\\item <NA>\n",
       "\\end{enumerate*}\n"
      ],
      "text/markdown": [
       "1. 0.96958965302033\n",
       "2. &lt;NA&gt;\n",
       "3. -0.537662468137856\n",
       "4. &lt;NA&gt;\n",
       "5. -1.35859073914682\n",
       "6. -0.729985727680822\n",
       "7. -0.478132225008531\n",
       "8. &lt;NA&gt;\n",
       "9. -1.9338927964717\n",
       "10. &lt;NA&gt;\n",
       "11. 0.901813488698284\n",
       "12. 0.0732450565610624\n",
       "13. &lt;NA&gt;\n",
       "14. &lt;NA&gt;\n",
       "15. &lt;NA&gt;\n",
       "16. &lt;NA&gt;\n",
       "17. &lt;NA&gt;\n",
       "18. &lt;NA&gt;\n",
       "19. &lt;NA&gt;\n",
       "20. -0.129508806331776\n",
       "21. -0.942266038575301\n",
       "22. &lt;NA&gt;\n",
       "23. &lt;NA&gt;\n",
       "24. &lt;NA&gt;\n",
       "25. -0.163523690733686\n",
       "26. &lt;NA&gt;\n",
       "27. 0.497430437178951\n",
       "28. &lt;NA&gt;\n",
       "29. -0.735255284840876\n",
       "30. -0.0183780420461858\n",
       "31. -0.799982920467641\n",
       "32. &lt;NA&gt;\n",
       "33. -0.0777419192321686\n",
       "34. -0.0120403779643895\n",
       "35. 1.85221235649995\n",
       "36. &lt;NA&gt;\n",
       "37. -0.247813222383656\n",
       "38. &lt;NA&gt;\n",
       "\n",
       "\n"
      ],
      "text/plain": [
       " [1]  0.96958965          NA -0.53766247          NA -1.35859074 -0.72998573\n",
       " [7] -0.47813223          NA -1.93389280          NA  0.90181349  0.07324506\n",
       "[13]          NA          NA          NA          NA          NA          NA\n",
       "[19]          NA -0.12950881 -0.94226604          NA          NA          NA\n",
       "[25] -0.16352369          NA  0.49743044          NA -0.73525528 -0.01837804\n",
       "[31] -0.79998292          NA -0.07774192 -0.01204038  1.85221236          NA\n",
       "[37] -0.24781322          NA"
      ]
     },
     "metadata": {},
     "output_type": "display_data"
    }
   ],
   "source": [
    "x[-c(2, 10)]"
   ]
  },
  {
   "attachments": {},
   "cell_type": "markdown",
   "metadata": {},
   "source": [
    "So far, we've covered three types of index vectors -- logical, positive integer, and negative integer. The only remaining type requires us to introduce the concept of 'named' elements.\n",
    "\n",
    "Create a numeric vector with three named elements using vect <- c(foo = 11, bar = 2, norf = NA)."
   ]
  },
  {
   "cell_type": "code",
   "execution_count": 35,
   "metadata": {
    "vscode": {
     "languageId": "r"
    }
   },
   "outputs": [],
   "source": [
    "vect <- c(foo=11, bar=2, norf=NA)"
   ]
  },
  {
   "attachments": {},
   "cell_type": "markdown",
   "metadata": {},
   "source": [
    "When we print vect to the console, you'll see that each element has a name. Try it out."
   ]
  },
  {
   "cell_type": "code",
   "execution_count": 36,
   "metadata": {
    "vscode": {
     "languageId": "r"
    }
   },
   "outputs": [
    {
     "data": {
      "text/html": [
       "<style>\n",
       ".dl-inline {width: auto; margin:0; padding: 0}\n",
       ".dl-inline>dt, .dl-inline>dd {float: none; width: auto; display: inline-block}\n",
       ".dl-inline>dt::after {content: \":\\0020\"; padding-right: .5ex}\n",
       ".dl-inline>dt:not(:first-of-type) {padding-left: .5ex}\n",
       "</style><dl class=dl-inline><dt>foo</dt><dd>11</dd><dt>bar</dt><dd>2</dd><dt>norf</dt><dd>&lt;NA&gt;</dd></dl>\n"
      ],
      "text/latex": [
       "\\begin{description*}\n",
       "\\item[foo] 11\n",
       "\\item[bar] 2\n",
       "\\item[norf] <NA>\n",
       "\\end{description*}\n"
      ],
      "text/markdown": [
       "foo\n",
       ":   11bar\n",
       ":   2norf\n",
       ":   &lt;NA&gt;\n",
       "\n"
      ],
      "text/plain": [
       " foo  bar norf \n",
       "  11    2   NA "
      ]
     },
     "metadata": {},
     "output_type": "display_data"
    }
   ],
   "source": [
    "vect"
   ]
  },
  {
   "attachments": {},
   "cell_type": "markdown",
   "metadata": {},
   "source": [
    "We can also get the names of vect by passing vect as an argument to the names() function. Give that a try."
   ]
  },
  {
   "cell_type": "code",
   "execution_count": 37,
   "metadata": {
    "vscode": {
     "languageId": "r"
    }
   },
   "outputs": [
    {
     "data": {
      "text/html": [
       "<style>\n",
       ".list-inline {list-style: none; margin:0; padding: 0}\n",
       ".list-inline>li {display: inline-block}\n",
       ".list-inline>li:not(:last-child)::after {content: \"\\00b7\"; padding: 0 .5ex}\n",
       "</style>\n",
       "<ol class=list-inline><li>'foo'</li><li>'bar'</li><li>'norf'</li></ol>\n"
      ],
      "text/latex": [
       "\\begin{enumerate*}\n",
       "\\item 'foo'\n",
       "\\item 'bar'\n",
       "\\item 'norf'\n",
       "\\end{enumerate*}\n"
      ],
      "text/markdown": [
       "1. 'foo'\n",
       "2. 'bar'\n",
       "3. 'norf'\n",
       "\n",
       "\n"
      ],
      "text/plain": [
       "[1] \"foo\"  \"bar\"  \"norf\""
      ]
     },
     "metadata": {},
     "output_type": "display_data"
    }
   ],
   "source": [
    "names(vect)"
   ]
  },
  {
   "attachments": {},
   "cell_type": "markdown",
   "metadata": {},
   "source": [
    "Alternatively, we can create an unnamed vector vect2 with c(11, 2, NA). Do that now."
   ]
  },
  {
   "cell_type": "code",
   "execution_count": 38,
   "metadata": {
    "vscode": {
     "languageId": "r"
    }
   },
   "outputs": [],
   "source": [
    "vect2 <- c(11, 2, NA)"
   ]
  },
  {
   "attachments": {},
   "cell_type": "markdown",
   "metadata": {},
   "source": [
    "Then, we can add the `names` attribute to vect2 after the fact with names(vect2) <- c(\"foo\", \"bar\", \"norf\"). Go ahead."
   ]
  },
  {
   "cell_type": "code",
   "execution_count": 39,
   "metadata": {
    "vscode": {
     "languageId": "r"
    }
   },
   "outputs": [],
   "source": [
    "names(vect2) <- c(\"foo\", \"bar\", \"norf\")"
   ]
  },
  {
   "attachments": {},
   "cell_type": "markdown",
   "metadata": {},
   "source": [
    "Now, let's check that vect and vect2 are the same by passing them as arguments to the identical() function."
   ]
  },
  {
   "cell_type": "code",
   "execution_count": 40,
   "metadata": {
    "vscode": {
     "languageId": "r"
    }
   },
   "outputs": [
    {
     "data": {
      "text/html": [
       "TRUE"
      ],
      "text/latex": [
       "TRUE"
      ],
      "text/markdown": [
       "TRUE"
      ],
      "text/plain": [
       "[1] TRUE"
      ]
     },
     "metadata": {},
     "output_type": "display_data"
    }
   ],
   "source": [
    "identical(vect, vect2)"
   ]
  },
  {
   "attachments": {},
   "cell_type": "markdown",
   "metadata": {},
   "source": [
    "Indeed, vect and vect2 are identical named vectors.\n",
    "\n",
    "The following command would give us the second element of vect"
   ]
  },
  {
   "cell_type": "code",
   "execution_count": 41,
   "metadata": {
    "vscode": {
     "languageId": "r"
    }
   },
   "outputs": [
    {
     "data": {
      "text/html": [
       "<strong>bar:</strong> 2"
      ],
      "text/latex": [
       "\\textbf{bar:} 2"
      ],
      "text/markdown": [
       "**bar:** 2"
      ],
      "text/plain": [
       "bar \n",
       "  2 "
      ]
     },
     "metadata": {},
     "output_type": "display_data"
    }
   ],
   "source": [
    "vect[\"bar\"]"
   ]
  },
  {
   "attachments": {},
   "cell_type": "markdown",
   "metadata": {},
   "source": [
    "Likewise, we can specify a vector of names with vect[c(\"foo\", \"bar\")]. Try it out."
   ]
  },
  {
   "cell_type": "code",
   "execution_count": 42,
   "metadata": {
    "vscode": {
     "languageId": "r"
    }
   },
   "outputs": [
    {
     "data": {
      "text/html": [
       "<style>\n",
       ".dl-inline {width: auto; margin:0; padding: 0}\n",
       ".dl-inline>dt, .dl-inline>dd {float: none; width: auto; display: inline-block}\n",
       ".dl-inline>dt::after {content: \":\\0020\"; padding-right: .5ex}\n",
       ".dl-inline>dt:not(:first-of-type) {padding-left: .5ex}\n",
       "</style><dl class=dl-inline><dt>foo</dt><dd>11</dd><dt>bar</dt><dd>2</dd></dl>\n"
      ],
      "text/latex": [
       "\\begin{description*}\n",
       "\\item[foo] 11\n",
       "\\item[bar] 2\n",
       "\\end{description*}\n"
      ],
      "text/markdown": [
       "foo\n",
       ":   11bar\n",
       ":   2\n",
       "\n"
      ],
      "text/plain": [
       "foo bar \n",
       " 11   2 "
      ]
     },
     "metadata": {},
     "output_type": "display_data"
    }
   ],
   "source": [
    "vect[c(\"foo\", \"bar\")]"
   ]
  },
  {
   "attachments": {},
   "cell_type": "markdown",
   "metadata": {},
   "source": [
    "Now you know all four methods of subsetting data from vectors. Different approaches are best in different scenarios and when in doubt, try it out!"
   ]
  }
 ],
 "metadata": {
  "kernelspec": {
   "display_name": "R",
   "language": "R",
   "name": "ir"
  },
  "language_info": {
   "codemirror_mode": "r",
   "file_extension": ".r",
   "mimetype": "text/x-r-source",
   "name": "R",
   "pygments_lexer": "r",
   "version": "4.1.2"
  },
  "orig_nbformat": 4
 },
 "nbformat": 4,
 "nbformat_minor": 2
}
