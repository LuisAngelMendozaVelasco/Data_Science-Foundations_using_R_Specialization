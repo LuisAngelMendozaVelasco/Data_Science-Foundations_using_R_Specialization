{
 "cells": [
  {
   "cell_type": "markdown",
   "metadata": {},
   "source": [
    "# Practice Programming Assignment: swirl Lesson 1: Looking at Data"
   ]
  },
  {
   "attachments": {},
   "cell_type": "markdown",
   "metadata": {},
   "source": [
    "Whenever you're working with a new dataset, the first thing you should do is look at it! What is the format of the data? What are the dimensions? What are the variable names? How are the variables stored? Are there missing data? Are there any flaws in the data?\n",
    "\n",
    "This lesson will teach you how to answer these questions and more using R's built-in functions. We'll be using a dataset constructed from the United States Department of Agriculture's PLANTS Database (http://plants.usda.gov/adv_search.html).\n",
    "\n",
    "I've stored the data for you in a variable called plants. Type ls() to list the variables in your workspace, among which should be plants."
   ]
  },
  {
   "cell_type": "code",
   "execution_count": 1,
   "metadata": {
    "vscode": {
     "languageId": "r"
    }
   },
   "outputs": [],
   "source": [
    "# Read in data\n",
    "plants <- read.csv(\"./data/plant-data.txt\", strip.white=TRUE, na.strings=\"\")\n",
    "\n",
    "# Remove annoying columns\n",
    ".cols2rm <- c('Accepted.Symbol', 'Synonym.Symbol')\n",
    "plants <- plants[, !(names(plants) %in% .cols2rm)]\n",
    "\n",
    "# Make names pretty\n",
    "names(plants) <- c('Scientific_Name', 'Duration', 'Active_Growth_Period',\n",
    "                   'Foliage_Color', 'pH_Min', 'pH_Max',\n",
    "                   'Precip_Min', 'Precip_Max',\n",
    "                   'Shade_Tolerance', 'Temp_Min_F')"
   ]
  },
  {
   "cell_type": "code",
   "execution_count": 2,
   "metadata": {
    "vscode": {
     "languageId": "r"
    }
   },
   "outputs": [
    {
     "data": {
      "text/html": [
       "'plants'"
      ],
      "text/latex": [
       "'plants'"
      ],
      "text/markdown": [
       "'plants'"
      ],
      "text/plain": [
       "[1] \"plants\""
      ]
     },
     "metadata": {},
     "output_type": "display_data"
    }
   ],
   "source": [
    "ls()"
   ]
  },
  {
   "attachments": {},
   "cell_type": "markdown",
   "metadata": {},
   "source": [
    "Let's begin by checking the class of the plants variable with class(plants). This will give us a clue as to the overall structure of the data."
   ]
  },
  {
   "cell_type": "code",
   "execution_count": 3,
   "metadata": {
    "vscode": {
     "languageId": "r"
    }
   },
   "outputs": [
    {
     "data": {
      "text/html": [
       "'data.frame'"
      ],
      "text/latex": [
       "'data.frame'"
      ],
      "text/markdown": [
       "'data.frame'"
      ],
      "text/plain": [
       "[1] \"data.frame\""
      ]
     },
     "metadata": {},
     "output_type": "display_data"
    }
   ],
   "source": [
    "class(plants)"
   ]
  },
  {
   "attachments": {},
   "cell_type": "markdown",
   "metadata": {},
   "source": [
    "It's very common for data to be stored in a data frame. It is the default class for data read into R using functions like read.csv() and read.table(), which you'll learn about in another lesson.\n",
    "\n",
    "Since the dataset is stored in a data frame, we know it is rectangular. In other words, it has two dimensions (rows and columns) and fits neatly into a table or spreadsheet. Use dim(plants) to see exactly how many rows and columns we're dealing with."
   ]
  },
  {
   "cell_type": "code",
   "execution_count": 4,
   "metadata": {
    "vscode": {
     "languageId": "r"
    }
   },
   "outputs": [
    {
     "data": {
      "text/html": [
       "<style>\n",
       ".list-inline {list-style: none; margin:0; padding: 0}\n",
       ".list-inline>li {display: inline-block}\n",
       ".list-inline>li:not(:last-child)::after {content: \"\\00b7\"; padding: 0 .5ex}\n",
       "</style>\n",
       "<ol class=list-inline><li>5166</li><li>10</li></ol>\n"
      ],
      "text/latex": [
       "\\begin{enumerate*}\n",
       "\\item 5166\n",
       "\\item 10\n",
       "\\end{enumerate*}\n"
      ],
      "text/markdown": [
       "1. 5166\n",
       "2. 10\n",
       "\n",
       "\n"
      ],
      "text/plain": [
       "[1] 5166   10"
      ]
     },
     "metadata": {},
     "output_type": "display_data"
    }
   ],
   "source": [
    "dim(plants)"
   ]
  },
  {
   "attachments": {},
   "cell_type": "markdown",
   "metadata": {},
   "source": [
    "The first number you see (5166) is the number of rows (observations) and the second number (10) is the number of columns (variables).\n",
    "\n",
    "You can also use nrow(plants) to see only the number of rows. Try it out."
   ]
  },
  {
   "cell_type": "code",
   "execution_count": 5,
   "metadata": {
    "vscode": {
     "languageId": "r"
    }
   },
   "outputs": [
    {
     "data": {
      "text/html": [
       "5166"
      ],
      "text/latex": [
       "5166"
      ],
      "text/markdown": [
       "5166"
      ],
      "text/plain": [
       "[1] 5166"
      ]
     },
     "metadata": {},
     "output_type": "display_data"
    }
   ],
   "source": [
    "nrow(plants)"
   ]
  },
  {
   "attachments": {},
   "cell_type": "markdown",
   "metadata": {},
   "source": [
    ".. And ncol(plants) to see only the number of columns."
   ]
  },
  {
   "cell_type": "code",
   "execution_count": 6,
   "metadata": {
    "vscode": {
     "languageId": "r"
    }
   },
   "outputs": [
    {
     "data": {
      "text/html": [
       "10"
      ],
      "text/latex": [
       "10"
      ],
      "text/markdown": [
       "10"
      ],
      "text/plain": [
       "[1] 10"
      ]
     },
     "metadata": {},
     "output_type": "display_data"
    }
   ],
   "source": [
    "ncol(plants)"
   ]
  },
  {
   "attachments": {},
   "cell_type": "markdown",
   "metadata": {},
   "source": [
    "If you are curious as to how much space the dataset is occupying in memory, you can use object.size(plants)."
   ]
  },
  {
   "cell_type": "code",
   "execution_count": 7,
   "metadata": {
    "vscode": {
     "languageId": "r"
    }
   },
   "outputs": [
    {
     "data": {
      "text/plain": [
       "745944 bytes"
      ]
     },
     "metadata": {},
     "output_type": "display_data"
    }
   ],
   "source": [
    "object.size(plants)"
   ]
  },
  {
   "attachments": {},
   "cell_type": "markdown",
   "metadata": {},
   "source": [
    "Now that we have a sense of the shape and size of the dataset, let's get a feel for what's inside. names(plants) will return a character vector of column (i.e. variable) names. Give it a shot."
   ]
  },
  {
   "cell_type": "code",
   "execution_count": 8,
   "metadata": {
    "vscode": {
     "languageId": "r"
    }
   },
   "outputs": [
    {
     "data": {
      "text/html": [
       "<style>\n",
       ".list-inline {list-style: none; margin:0; padding: 0}\n",
       ".list-inline>li {display: inline-block}\n",
       ".list-inline>li:not(:last-child)::after {content: \"\\00b7\"; padding: 0 .5ex}\n",
       "</style>\n",
       "<ol class=list-inline><li>'Scientific_Name'</li><li>'Duration'</li><li>'Active_Growth_Period'</li><li>'Foliage_Color'</li><li>'pH_Min'</li><li>'pH_Max'</li><li>'Precip_Min'</li><li>'Precip_Max'</li><li>'Shade_Tolerance'</li><li>'Temp_Min_F'</li></ol>\n"
      ],
      "text/latex": [
       "\\begin{enumerate*}\n",
       "\\item 'Scientific\\_Name'\n",
       "\\item 'Duration'\n",
       "\\item 'Active\\_Growth\\_Period'\n",
       "\\item 'Foliage\\_Color'\n",
       "\\item 'pH\\_Min'\n",
       "\\item 'pH\\_Max'\n",
       "\\item 'Precip\\_Min'\n",
       "\\item 'Precip\\_Max'\n",
       "\\item 'Shade\\_Tolerance'\n",
       "\\item 'Temp\\_Min\\_F'\n",
       "\\end{enumerate*}\n"
      ],
      "text/markdown": [
       "1. 'Scientific_Name'\n",
       "2. 'Duration'\n",
       "3. 'Active_Growth_Period'\n",
       "4. 'Foliage_Color'\n",
       "5. 'pH_Min'\n",
       "6. 'pH_Max'\n",
       "7. 'Precip_Min'\n",
       "8. 'Precip_Max'\n",
       "9. 'Shade_Tolerance'\n",
       "10. 'Temp_Min_F'\n",
       "\n",
       "\n"
      ],
      "text/plain": [
       " [1] \"Scientific_Name\"      \"Duration\"             \"Active_Growth_Period\"\n",
       " [4] \"Foliage_Color\"        \"pH_Min\"               \"pH_Max\"              \n",
       " [7] \"Precip_Min\"           \"Precip_Max\"           \"Shade_Tolerance\"     \n",
       "[10] \"Temp_Min_F\"          "
      ]
     },
     "metadata": {},
     "output_type": "display_data"
    }
   ],
   "source": [
    "names(plants)"
   ]
  },
  {
   "attachments": {},
   "cell_type": "markdown",
   "metadata": {},
   "source": [
    "We've applied fairly descriptive variable names to this dataset, but that won't always be the case. A logical next step is to peek at the actual data. However, our dataset contains over 5000 observations (rows), so it's impractical to view the whole thing all at once.\n",
    "\n",
    "The head() function allows you to preview the top of the dataset. Give it a try with only one argument."
   ]
  },
  {
   "cell_type": "code",
   "execution_count": 9,
   "metadata": {
    "vscode": {
     "languageId": "r"
    }
   },
   "outputs": [
    {
     "data": {
      "text/html": [
       "<table class=\"dataframe\">\n",
       "<caption>A data.frame: 6 × 10</caption>\n",
       "<thead>\n",
       "\t<tr><th></th><th scope=col>Scientific_Name</th><th scope=col>Duration</th><th scope=col>Active_Growth_Period</th><th scope=col>Foliage_Color</th><th scope=col>pH_Min</th><th scope=col>pH_Max</th><th scope=col>Precip_Min</th><th scope=col>Precip_Max</th><th scope=col>Shade_Tolerance</th><th scope=col>Temp_Min_F</th></tr>\n",
       "\t<tr><th></th><th scope=col>&lt;chr&gt;</th><th scope=col>&lt;chr&gt;</th><th scope=col>&lt;chr&gt;</th><th scope=col>&lt;chr&gt;</th><th scope=col>&lt;dbl&gt;</th><th scope=col>&lt;dbl&gt;</th><th scope=col>&lt;int&gt;</th><th scope=col>&lt;int&gt;</th><th scope=col>&lt;chr&gt;</th><th scope=col>&lt;int&gt;</th></tr>\n",
       "</thead>\n",
       "<tbody>\n",
       "\t<tr><th scope=row>1</th><td>Abelmoschus                 </td><td>NA               </td><td>NA               </td><td>NA   </td><td>NA</td><td>NA</td><td>NA</td><td>NA</td><td>NA      </td><td> NA</td></tr>\n",
       "\t<tr><th scope=row>2</th><td>Abelmoschus esculentus      </td><td>Annual, Perennial</td><td>NA               </td><td>NA   </td><td>NA</td><td>NA</td><td>NA</td><td>NA</td><td>NA      </td><td> NA</td></tr>\n",
       "\t<tr><th scope=row>3</th><td>Abies                       </td><td>NA               </td><td>NA               </td><td>NA   </td><td>NA</td><td>NA</td><td>NA</td><td>NA</td><td>NA      </td><td> NA</td></tr>\n",
       "\t<tr><th scope=row>4</th><td>Abies balsamea              </td><td>Perennial        </td><td>Spring and Summer</td><td>Green</td><td> 4</td><td> 6</td><td>13</td><td>60</td><td>Tolerant</td><td>-43</td></tr>\n",
       "\t<tr><th scope=row>5</th><td>Abies balsamea var. balsamea</td><td>Perennial        </td><td>NA               </td><td>NA   </td><td>NA</td><td>NA</td><td>NA</td><td>NA</td><td>NA      </td><td> NA</td></tr>\n",
       "\t<tr><th scope=row>6</th><td>Abutilon                    </td><td>NA               </td><td>NA               </td><td>NA   </td><td>NA</td><td>NA</td><td>NA</td><td>NA</td><td>NA      </td><td> NA</td></tr>\n",
       "</tbody>\n",
       "</table>\n"
      ],
      "text/latex": [
       "A data.frame: 6 × 10\n",
       "\\begin{tabular}{r|llllllllll}\n",
       "  & Scientific\\_Name & Duration & Active\\_Growth\\_Period & Foliage\\_Color & pH\\_Min & pH\\_Max & Precip\\_Min & Precip\\_Max & Shade\\_Tolerance & Temp\\_Min\\_F\\\\\n",
       "  & <chr> & <chr> & <chr> & <chr> & <dbl> & <dbl> & <int> & <int> & <chr> & <int>\\\\\n",
       "\\hline\n",
       "\t1 & Abelmoschus                  & NA                & NA                & NA    & NA & NA & NA & NA & NA       &  NA\\\\\n",
       "\t2 & Abelmoschus esculentus       & Annual, Perennial & NA                & NA    & NA & NA & NA & NA & NA       &  NA\\\\\n",
       "\t3 & Abies                        & NA                & NA                & NA    & NA & NA & NA & NA & NA       &  NA\\\\\n",
       "\t4 & Abies balsamea               & Perennial         & Spring and Summer & Green &  4 &  6 & 13 & 60 & Tolerant & -43\\\\\n",
       "\t5 & Abies balsamea var. balsamea & Perennial         & NA                & NA    & NA & NA & NA & NA & NA       &  NA\\\\\n",
       "\t6 & Abutilon                     & NA                & NA                & NA    & NA & NA & NA & NA & NA       &  NA\\\\\n",
       "\\end{tabular}\n"
      ],
      "text/markdown": [
       "\n",
       "A data.frame: 6 × 10\n",
       "\n",
       "| <!--/--> | Scientific_Name &lt;chr&gt; | Duration &lt;chr&gt; | Active_Growth_Period &lt;chr&gt; | Foliage_Color &lt;chr&gt; | pH_Min &lt;dbl&gt; | pH_Max &lt;dbl&gt; | Precip_Min &lt;int&gt; | Precip_Max &lt;int&gt; | Shade_Tolerance &lt;chr&gt; | Temp_Min_F &lt;int&gt; |\n",
       "|---|---|---|---|---|---|---|---|---|---|---|\n",
       "| 1 | Abelmoschus                  | NA                | NA                | NA    | NA | NA | NA | NA | NA       |  NA |\n",
       "| 2 | Abelmoschus esculentus       | Annual, Perennial | NA                | NA    | NA | NA | NA | NA | NA       |  NA |\n",
       "| 3 | Abies                        | NA                | NA                | NA    | NA | NA | NA | NA | NA       |  NA |\n",
       "| 4 | Abies balsamea               | Perennial         | Spring and Summer | Green |  4 |  6 | 13 | 60 | Tolerant | -43 |\n",
       "| 5 | Abies balsamea var. balsamea | Perennial         | NA                | NA    | NA | NA | NA | NA | NA       |  NA |\n",
       "| 6 | Abutilon                     | NA                | NA                | NA    | NA | NA | NA | NA | NA       |  NA |\n",
       "\n"
      ],
      "text/plain": [
       "  Scientific_Name              Duration          Active_Growth_Period\n",
       "1 Abelmoschus                  NA                NA                  \n",
       "2 Abelmoschus esculentus       Annual, Perennial NA                  \n",
       "3 Abies                        NA                NA                  \n",
       "4 Abies balsamea               Perennial         Spring and Summer   \n",
       "5 Abies balsamea var. balsamea Perennial         NA                  \n",
       "6 Abutilon                     NA                NA                  \n",
       "  Foliage_Color pH_Min pH_Max Precip_Min Precip_Max Shade_Tolerance Temp_Min_F\n",
       "1 NA            NA     NA     NA         NA         NA               NA       \n",
       "2 NA            NA     NA     NA         NA         NA               NA       \n",
       "3 NA            NA     NA     NA         NA         NA               NA       \n",
       "4 Green          4      6     13         60         Tolerant        -43       \n",
       "5 NA            NA     NA     NA         NA         NA               NA       \n",
       "6 NA            NA     NA     NA         NA         NA               NA       "
      ]
     },
     "metadata": {},
     "output_type": "display_data"
    }
   ],
   "source": [
    "head(plants)"
   ]
  },
  {
   "attachments": {},
   "cell_type": "markdown",
   "metadata": {},
   "source": [
    "Take a minute to look through and understand the output above. Each row is labeled with the observation number and each column with the variable name. Your screen is probably not wide enough to view all 10 columns side-by-side, in which case R displays as many columns as it can on each line before continuing on the next.\n",
    "\n",
    "By default, head() shows you the first six rows of the data. You can alter this behavior by passing as a second argument the number of rows you'd like to view. Use head() to preview the first 10 rows of plants."
   ]
  },
  {
   "cell_type": "code",
   "execution_count": 10,
   "metadata": {
    "vscode": {
     "languageId": "r"
    }
   },
   "outputs": [
    {
     "data": {
      "text/html": [
       "<table class=\"dataframe\">\n",
       "<caption>A data.frame: 10 × 10</caption>\n",
       "<thead>\n",
       "\t<tr><th></th><th scope=col>Scientific_Name</th><th scope=col>Duration</th><th scope=col>Active_Growth_Period</th><th scope=col>Foliage_Color</th><th scope=col>pH_Min</th><th scope=col>pH_Max</th><th scope=col>Precip_Min</th><th scope=col>Precip_Max</th><th scope=col>Shade_Tolerance</th><th scope=col>Temp_Min_F</th></tr>\n",
       "\t<tr><th></th><th scope=col>&lt;chr&gt;</th><th scope=col>&lt;chr&gt;</th><th scope=col>&lt;chr&gt;</th><th scope=col>&lt;chr&gt;</th><th scope=col>&lt;dbl&gt;</th><th scope=col>&lt;dbl&gt;</th><th scope=col>&lt;int&gt;</th><th scope=col>&lt;int&gt;</th><th scope=col>&lt;chr&gt;</th><th scope=col>&lt;int&gt;</th></tr>\n",
       "</thead>\n",
       "<tbody>\n",
       "\t<tr><th scope=row>1</th><td>Abelmoschus                      </td><td>NA               </td><td>NA               </td><td>NA   </td><td>NA</td><td> NA</td><td>NA</td><td>NA</td><td>NA        </td><td> NA</td></tr>\n",
       "\t<tr><th scope=row>2</th><td>Abelmoschus esculentus           </td><td>Annual, Perennial</td><td>NA               </td><td>NA   </td><td>NA</td><td> NA</td><td>NA</td><td>NA</td><td>NA        </td><td> NA</td></tr>\n",
       "\t<tr><th scope=row>3</th><td>Abies                            </td><td>NA               </td><td>NA               </td><td>NA   </td><td>NA</td><td> NA</td><td>NA</td><td>NA</td><td>NA        </td><td> NA</td></tr>\n",
       "\t<tr><th scope=row>4</th><td>Abies balsamea                   </td><td>Perennial        </td><td>Spring and Summer</td><td>Green</td><td> 4</td><td>6.0</td><td>13</td><td>60</td><td>Tolerant  </td><td>-43</td></tr>\n",
       "\t<tr><th scope=row>5</th><td>Abies balsamea var. balsamea     </td><td>Perennial        </td><td>NA               </td><td>NA   </td><td>NA</td><td> NA</td><td>NA</td><td>NA</td><td>NA        </td><td> NA</td></tr>\n",
       "\t<tr><th scope=row>6</th><td>Abutilon                         </td><td>NA               </td><td>NA               </td><td>NA   </td><td>NA</td><td> NA</td><td>NA</td><td>NA</td><td>NA        </td><td> NA</td></tr>\n",
       "\t<tr><th scope=row>7</th><td>Abutilon theophrasti             </td><td>Annual           </td><td>NA               </td><td>NA   </td><td>NA</td><td> NA</td><td>NA</td><td>NA</td><td>NA        </td><td> NA</td></tr>\n",
       "\t<tr><th scope=row>8</th><td>Acacia                           </td><td>NA               </td><td>NA               </td><td>NA   </td><td>NA</td><td> NA</td><td>NA</td><td>NA</td><td>NA        </td><td> NA</td></tr>\n",
       "\t<tr><th scope=row>9</th><td>Acacia constricta                </td><td>Perennial        </td><td>Spring and Summer</td><td>Green</td><td> 7</td><td>8.5</td><td> 4</td><td>20</td><td>Intolerant</td><td>-13</td></tr>\n",
       "\t<tr><th scope=row>10</th><td>Acacia constricta var. constricta</td><td>Perennial        </td><td>NA               </td><td>NA   </td><td>NA</td><td> NA</td><td>NA</td><td>NA</td><td>NA        </td><td> NA</td></tr>\n",
       "</tbody>\n",
       "</table>\n"
      ],
      "text/latex": [
       "A data.frame: 10 × 10\n",
       "\\begin{tabular}{r|llllllllll}\n",
       "  & Scientific\\_Name & Duration & Active\\_Growth\\_Period & Foliage\\_Color & pH\\_Min & pH\\_Max & Precip\\_Min & Precip\\_Max & Shade\\_Tolerance & Temp\\_Min\\_F\\\\\n",
       "  & <chr> & <chr> & <chr> & <chr> & <dbl> & <dbl> & <int> & <int> & <chr> & <int>\\\\\n",
       "\\hline\n",
       "\t1 & Abelmoschus                       & NA                & NA                & NA    & NA &  NA & NA & NA & NA         &  NA\\\\\n",
       "\t2 & Abelmoschus esculentus            & Annual, Perennial & NA                & NA    & NA &  NA & NA & NA & NA         &  NA\\\\\n",
       "\t3 & Abies                             & NA                & NA                & NA    & NA &  NA & NA & NA & NA         &  NA\\\\\n",
       "\t4 & Abies balsamea                    & Perennial         & Spring and Summer & Green &  4 & 6.0 & 13 & 60 & Tolerant   & -43\\\\\n",
       "\t5 & Abies balsamea var. balsamea      & Perennial         & NA                & NA    & NA &  NA & NA & NA & NA         &  NA\\\\\n",
       "\t6 & Abutilon                          & NA                & NA                & NA    & NA &  NA & NA & NA & NA         &  NA\\\\\n",
       "\t7 & Abutilon theophrasti              & Annual            & NA                & NA    & NA &  NA & NA & NA & NA         &  NA\\\\\n",
       "\t8 & Acacia                            & NA                & NA                & NA    & NA &  NA & NA & NA & NA         &  NA\\\\\n",
       "\t9 & Acacia constricta                 & Perennial         & Spring and Summer & Green &  7 & 8.5 &  4 & 20 & Intolerant & -13\\\\\n",
       "\t10 & Acacia constricta var. constricta & Perennial         & NA                & NA    & NA &  NA & NA & NA & NA         &  NA\\\\\n",
       "\\end{tabular}\n"
      ],
      "text/markdown": [
       "\n",
       "A data.frame: 10 × 10\n",
       "\n",
       "| <!--/--> | Scientific_Name &lt;chr&gt; | Duration &lt;chr&gt; | Active_Growth_Period &lt;chr&gt; | Foliage_Color &lt;chr&gt; | pH_Min &lt;dbl&gt; | pH_Max &lt;dbl&gt; | Precip_Min &lt;int&gt; | Precip_Max &lt;int&gt; | Shade_Tolerance &lt;chr&gt; | Temp_Min_F &lt;int&gt; |\n",
       "|---|---|---|---|---|---|---|---|---|---|---|\n",
       "| 1 | Abelmoschus                       | NA                | NA                | NA    | NA |  NA | NA | NA | NA         |  NA |\n",
       "| 2 | Abelmoschus esculentus            | Annual, Perennial | NA                | NA    | NA |  NA | NA | NA | NA         |  NA |\n",
       "| 3 | Abies                             | NA                | NA                | NA    | NA |  NA | NA | NA | NA         |  NA |\n",
       "| 4 | Abies balsamea                    | Perennial         | Spring and Summer | Green |  4 | 6.0 | 13 | 60 | Tolerant   | -43 |\n",
       "| 5 | Abies balsamea var. balsamea      | Perennial         | NA                | NA    | NA |  NA | NA | NA | NA         |  NA |\n",
       "| 6 | Abutilon                          | NA                | NA                | NA    | NA |  NA | NA | NA | NA         |  NA |\n",
       "| 7 | Abutilon theophrasti              | Annual            | NA                | NA    | NA |  NA | NA | NA | NA         |  NA |\n",
       "| 8 | Acacia                            | NA                | NA                | NA    | NA |  NA | NA | NA | NA         |  NA |\n",
       "| 9 | Acacia constricta                 | Perennial         | Spring and Summer | Green |  7 | 8.5 |  4 | 20 | Intolerant | -13 |\n",
       "| 10 | Acacia constricta var. constricta | Perennial         | NA                | NA    | NA |  NA | NA | NA | NA         |  NA |\n",
       "\n"
      ],
      "text/plain": [
       "   Scientific_Name                   Duration          Active_Growth_Period\n",
       "1  Abelmoschus                       NA                NA                  \n",
       "2  Abelmoschus esculentus            Annual, Perennial NA                  \n",
       "3  Abies                             NA                NA                  \n",
       "4  Abies balsamea                    Perennial         Spring and Summer   \n",
       "5  Abies balsamea var. balsamea      Perennial         NA                  \n",
       "6  Abutilon                          NA                NA                  \n",
       "7  Abutilon theophrasti              Annual            NA                  \n",
       "8  Acacia                            NA                NA                  \n",
       "9  Acacia constricta                 Perennial         Spring and Summer   \n",
       "10 Acacia constricta var. constricta Perennial         NA                  \n",
       "   Foliage_Color pH_Min pH_Max Precip_Min Precip_Max Shade_Tolerance Temp_Min_F\n",
       "1  NA            NA      NA    NA         NA         NA               NA       \n",
       "2  NA            NA      NA    NA         NA         NA               NA       \n",
       "3  NA            NA      NA    NA         NA         NA               NA       \n",
       "4  Green          4     6.0    13         60         Tolerant        -43       \n",
       "5  NA            NA      NA    NA         NA         NA               NA       \n",
       "6  NA            NA      NA    NA         NA         NA               NA       \n",
       "7  NA            NA      NA    NA         NA         NA               NA       \n",
       "8  NA            NA      NA    NA         NA         NA               NA       \n",
       "9  Green          7     8.5     4         20         Intolerant      -13       \n",
       "10 NA            NA      NA    NA         NA         NA               NA       "
      ]
     },
     "metadata": {},
     "output_type": "display_data"
    }
   ],
   "source": [
    "head(plants, n=10)"
   ]
  },
  {
   "attachments": {},
   "cell_type": "markdown",
   "metadata": {},
   "source": [
    "The same applies for using tail() to preview the end of the dataset. Use tail() to view the last 15 rows."
   ]
  },
  {
   "cell_type": "code",
   "execution_count": 11,
   "metadata": {
    "vscode": {
     "languageId": "r"
    }
   },
   "outputs": [
    {
     "data": {
      "text/html": [
       "<table class=\"dataframe\">\n",
       "<caption>A data.frame: 15 × 10</caption>\n",
       "<thead>\n",
       "\t<tr><th></th><th scope=col>Scientific_Name</th><th scope=col>Duration</th><th scope=col>Active_Growth_Period</th><th scope=col>Foliage_Color</th><th scope=col>pH_Min</th><th scope=col>pH_Max</th><th scope=col>Precip_Min</th><th scope=col>Precip_Max</th><th scope=col>Shade_Tolerance</th><th scope=col>Temp_Min_F</th></tr>\n",
       "\t<tr><th></th><th scope=col>&lt;chr&gt;</th><th scope=col>&lt;chr&gt;</th><th scope=col>&lt;chr&gt;</th><th scope=col>&lt;chr&gt;</th><th scope=col>&lt;dbl&gt;</th><th scope=col>&lt;dbl&gt;</th><th scope=col>&lt;int&gt;</th><th scope=col>&lt;int&gt;</th><th scope=col>&lt;chr&gt;</th><th scope=col>&lt;int&gt;</th></tr>\n",
       "</thead>\n",
       "<tbody>\n",
       "\t<tr><th scope=row>5152</th><td>Zizania                         </td><td>NA       </td><td>NA               </td><td>NA   </td><td> NA</td><td> NA</td><td>NA</td><td>NA</td><td>NA        </td><td>NA</td></tr>\n",
       "\t<tr><th scope=row>5153</th><td>Zizania aquatica                </td><td>Annual   </td><td>Spring           </td><td>Green</td><td>6.4</td><td>7.4</td><td>30</td><td>50</td><td>Intolerant</td><td>32</td></tr>\n",
       "\t<tr><th scope=row>5154</th><td>Zizania aquatica var. aquatica  </td><td>Annual   </td><td>NA               </td><td>NA   </td><td> NA</td><td> NA</td><td>NA</td><td>NA</td><td>NA        </td><td>NA</td></tr>\n",
       "\t<tr><th scope=row>5155</th><td>Zizania palustris               </td><td>Annual   </td><td>NA               </td><td>NA   </td><td> NA</td><td> NA</td><td>NA</td><td>NA</td><td>NA        </td><td>NA</td></tr>\n",
       "\t<tr><th scope=row>5156</th><td>Zizania palustris var. palustris</td><td>Annual   </td><td>NA               </td><td>NA   </td><td> NA</td><td> NA</td><td>NA</td><td>NA</td><td>NA        </td><td>NA</td></tr>\n",
       "\t<tr><th scope=row>5157</th><td>Zizaniopsis                     </td><td>NA       </td><td>NA               </td><td>NA   </td><td> NA</td><td> NA</td><td>NA</td><td>NA</td><td>NA        </td><td>NA</td></tr>\n",
       "\t<tr><th scope=row>5158</th><td>Zizaniopsis miliacea            </td><td>Perennial</td><td>Spring and Summer</td><td>Green</td><td>4.3</td><td>9.0</td><td>35</td><td>70</td><td>Intolerant</td><td>12</td></tr>\n",
       "\t<tr><th scope=row>5159</th><td>Zizia                           </td><td>NA       </td><td>NA               </td><td>NA   </td><td> NA</td><td> NA</td><td>NA</td><td>NA</td><td>NA        </td><td>NA</td></tr>\n",
       "\t<tr><th scope=row>5160</th><td>Zizia aptera                    </td><td>Perennial</td><td>NA               </td><td>NA   </td><td> NA</td><td> NA</td><td>NA</td><td>NA</td><td>NA        </td><td>NA</td></tr>\n",
       "\t<tr><th scope=row>5161</th><td>Zizia aurea                     </td><td>Perennial</td><td>NA               </td><td>NA   </td><td> NA</td><td> NA</td><td>NA</td><td>NA</td><td>NA        </td><td>NA</td></tr>\n",
       "\t<tr><th scope=row>5162</th><td>Zizia trifoliata                </td><td>Perennial</td><td>NA               </td><td>NA   </td><td> NA</td><td> NA</td><td>NA</td><td>NA</td><td>NA        </td><td>NA</td></tr>\n",
       "\t<tr><th scope=row>5163</th><td>Zostera                         </td><td>NA       </td><td>NA               </td><td>NA   </td><td> NA</td><td> NA</td><td>NA</td><td>NA</td><td>NA        </td><td>NA</td></tr>\n",
       "\t<tr><th scope=row>5164</th><td>Zostera marina                  </td><td>Perennial</td><td>NA               </td><td>NA   </td><td> NA</td><td> NA</td><td>NA</td><td>NA</td><td>NA        </td><td>NA</td></tr>\n",
       "\t<tr><th scope=row>5165</th><td>Zoysia                          </td><td>NA       </td><td>NA               </td><td>NA   </td><td> NA</td><td> NA</td><td>NA</td><td>NA</td><td>NA        </td><td>NA</td></tr>\n",
       "\t<tr><th scope=row>5166</th><td>Zoysia japonica                 </td><td>Perennial</td><td>NA               </td><td>NA   </td><td> NA</td><td> NA</td><td>NA</td><td>NA</td><td>NA        </td><td>NA</td></tr>\n",
       "</tbody>\n",
       "</table>\n"
      ],
      "text/latex": [
       "A data.frame: 15 × 10\n",
       "\\begin{tabular}{r|llllllllll}\n",
       "  & Scientific\\_Name & Duration & Active\\_Growth\\_Period & Foliage\\_Color & pH\\_Min & pH\\_Max & Precip\\_Min & Precip\\_Max & Shade\\_Tolerance & Temp\\_Min\\_F\\\\\n",
       "  & <chr> & <chr> & <chr> & <chr> & <dbl> & <dbl> & <int> & <int> & <chr> & <int>\\\\\n",
       "\\hline\n",
       "\t5152 & Zizania                          & NA        & NA                & NA    &  NA &  NA & NA & NA & NA         & NA\\\\\n",
       "\t5153 & Zizania aquatica                 & Annual    & Spring            & Green & 6.4 & 7.4 & 30 & 50 & Intolerant & 32\\\\\n",
       "\t5154 & Zizania aquatica var. aquatica   & Annual    & NA                & NA    &  NA &  NA & NA & NA & NA         & NA\\\\\n",
       "\t5155 & Zizania palustris                & Annual    & NA                & NA    &  NA &  NA & NA & NA & NA         & NA\\\\\n",
       "\t5156 & Zizania palustris var. palustris & Annual    & NA                & NA    &  NA &  NA & NA & NA & NA         & NA\\\\\n",
       "\t5157 & Zizaniopsis                      & NA        & NA                & NA    &  NA &  NA & NA & NA & NA         & NA\\\\\n",
       "\t5158 & Zizaniopsis miliacea             & Perennial & Spring and Summer & Green & 4.3 & 9.0 & 35 & 70 & Intolerant & 12\\\\\n",
       "\t5159 & Zizia                            & NA        & NA                & NA    &  NA &  NA & NA & NA & NA         & NA\\\\\n",
       "\t5160 & Zizia aptera                     & Perennial & NA                & NA    &  NA &  NA & NA & NA & NA         & NA\\\\\n",
       "\t5161 & Zizia aurea                      & Perennial & NA                & NA    &  NA &  NA & NA & NA & NA         & NA\\\\\n",
       "\t5162 & Zizia trifoliata                 & Perennial & NA                & NA    &  NA &  NA & NA & NA & NA         & NA\\\\\n",
       "\t5163 & Zostera                          & NA        & NA                & NA    &  NA &  NA & NA & NA & NA         & NA\\\\\n",
       "\t5164 & Zostera marina                   & Perennial & NA                & NA    &  NA &  NA & NA & NA & NA         & NA\\\\\n",
       "\t5165 & Zoysia                           & NA        & NA                & NA    &  NA &  NA & NA & NA & NA         & NA\\\\\n",
       "\t5166 & Zoysia japonica                  & Perennial & NA                & NA    &  NA &  NA & NA & NA & NA         & NA\\\\\n",
       "\\end{tabular}\n"
      ],
      "text/markdown": [
       "\n",
       "A data.frame: 15 × 10\n",
       "\n",
       "| <!--/--> | Scientific_Name &lt;chr&gt; | Duration &lt;chr&gt; | Active_Growth_Period &lt;chr&gt; | Foliage_Color &lt;chr&gt; | pH_Min &lt;dbl&gt; | pH_Max &lt;dbl&gt; | Precip_Min &lt;int&gt; | Precip_Max &lt;int&gt; | Shade_Tolerance &lt;chr&gt; | Temp_Min_F &lt;int&gt; |\n",
       "|---|---|---|---|---|---|---|---|---|---|---|\n",
       "| 5152 | Zizania                          | NA        | NA                | NA    |  NA |  NA | NA | NA | NA         | NA |\n",
       "| 5153 | Zizania aquatica                 | Annual    | Spring            | Green | 6.4 | 7.4 | 30 | 50 | Intolerant | 32 |\n",
       "| 5154 | Zizania aquatica var. aquatica   | Annual    | NA                | NA    |  NA |  NA | NA | NA | NA         | NA |\n",
       "| 5155 | Zizania palustris                | Annual    | NA                | NA    |  NA |  NA | NA | NA | NA         | NA |\n",
       "| 5156 | Zizania palustris var. palustris | Annual    | NA                | NA    |  NA |  NA | NA | NA | NA         | NA |\n",
       "| 5157 | Zizaniopsis                      | NA        | NA                | NA    |  NA |  NA | NA | NA | NA         | NA |\n",
       "| 5158 | Zizaniopsis miliacea             | Perennial | Spring and Summer | Green | 4.3 | 9.0 | 35 | 70 | Intolerant | 12 |\n",
       "| 5159 | Zizia                            | NA        | NA                | NA    |  NA |  NA | NA | NA | NA         | NA |\n",
       "| 5160 | Zizia aptera                     | Perennial | NA                | NA    |  NA |  NA | NA | NA | NA         | NA |\n",
       "| 5161 | Zizia aurea                      | Perennial | NA                | NA    |  NA |  NA | NA | NA | NA         | NA |\n",
       "| 5162 | Zizia trifoliata                 | Perennial | NA                | NA    |  NA |  NA | NA | NA | NA         | NA |\n",
       "| 5163 | Zostera                          | NA        | NA                | NA    |  NA |  NA | NA | NA | NA         | NA |\n",
       "| 5164 | Zostera marina                   | Perennial | NA                | NA    |  NA |  NA | NA | NA | NA         | NA |\n",
       "| 5165 | Zoysia                           | NA        | NA                | NA    |  NA |  NA | NA | NA | NA         | NA |\n",
       "| 5166 | Zoysia japonica                  | Perennial | NA                | NA    |  NA |  NA | NA | NA | NA         | NA |\n",
       "\n"
      ],
      "text/plain": [
       "     Scientific_Name                  Duration  Active_Growth_Period\n",
       "5152 Zizania                          NA        NA                  \n",
       "5153 Zizania aquatica                 Annual    Spring              \n",
       "5154 Zizania aquatica var. aquatica   Annual    NA                  \n",
       "5155 Zizania palustris                Annual    NA                  \n",
       "5156 Zizania palustris var. palustris Annual    NA                  \n",
       "5157 Zizaniopsis                      NA        NA                  \n",
       "5158 Zizaniopsis miliacea             Perennial Spring and Summer   \n",
       "5159 Zizia                            NA        NA                  \n",
       "5160 Zizia aptera                     Perennial NA                  \n",
       "5161 Zizia aurea                      Perennial NA                  \n",
       "5162 Zizia trifoliata                 Perennial NA                  \n",
       "5163 Zostera                          NA        NA                  \n",
       "5164 Zostera marina                   Perennial NA                  \n",
       "5165 Zoysia                           NA        NA                  \n",
       "5166 Zoysia japonica                  Perennial NA                  \n",
       "     Foliage_Color pH_Min pH_Max Precip_Min Precip_Max Shade_Tolerance\n",
       "5152 NA             NA     NA    NA         NA         NA             \n",
       "5153 Green         6.4    7.4    30         50         Intolerant     \n",
       "5154 NA             NA     NA    NA         NA         NA             \n",
       "5155 NA             NA     NA    NA         NA         NA             \n",
       "5156 NA             NA     NA    NA         NA         NA             \n",
       "5157 NA             NA     NA    NA         NA         NA             \n",
       "5158 Green         4.3    9.0    35         70         Intolerant     \n",
       "5159 NA             NA     NA    NA         NA         NA             \n",
       "5160 NA             NA     NA    NA         NA         NA             \n",
       "5161 NA             NA     NA    NA         NA         NA             \n",
       "5162 NA             NA     NA    NA         NA         NA             \n",
       "5163 NA             NA     NA    NA         NA         NA             \n",
       "5164 NA             NA     NA    NA         NA         NA             \n",
       "5165 NA             NA     NA    NA         NA         NA             \n",
       "5166 NA             NA     NA    NA         NA         NA             \n",
       "     Temp_Min_F\n",
       "5152 NA        \n",
       "5153 32        \n",
       "5154 NA        \n",
       "5155 NA        \n",
       "5156 NA        \n",
       "5157 NA        \n",
       "5158 12        \n",
       "5159 NA        \n",
       "5160 NA        \n",
       "5161 NA        \n",
       "5162 NA        \n",
       "5163 NA        \n",
       "5164 NA        \n",
       "5165 NA        \n",
       "5166 NA        "
      ]
     },
     "metadata": {},
     "output_type": "display_data"
    }
   ],
   "source": [
    "tail(plants, n=15)"
   ]
  },
  {
   "attachments": {},
   "cell_type": "markdown",
   "metadata": {},
   "source": [
    "After previewing the top and bottom of the data, you probably noticed lots of NAs, which are R's placeholders for missing values. Use summary(plants) to get a better feel for how each variable is distributed and how much of the dataset is missing."
   ]
  },
  {
   "cell_type": "code",
   "execution_count": 12,
   "metadata": {
    "vscode": {
     "languageId": "r"
    }
   },
   "outputs": [
    {
     "data": {
      "text/plain": [
       " Scientific_Name      Duration         Active_Growth_Period Foliage_Color     \n",
       " Length:5166        Length:5166        Length:5166          Length:5166       \n",
       " Class :character   Class :character   Class :character     Class :character  \n",
       " Mode  :character   Mode  :character   Mode  :character     Mode  :character  \n",
       "                                                                              \n",
       "                                                                              \n",
       "                                                                              \n",
       "                                                                              \n",
       "     pH_Min          pH_Max         Precip_Min      Precip_Max    \n",
       " Min.   :3.000   Min.   : 5.100   Min.   : 4.00   Min.   : 16.00  \n",
       " 1st Qu.:4.500   1st Qu.: 7.000   1st Qu.:16.75   1st Qu.: 55.00  \n",
       " Median :5.000   Median : 7.300   Median :28.00   Median : 60.00  \n",
       " Mean   :4.997   Mean   : 7.344   Mean   :25.57   Mean   : 58.73  \n",
       " 3rd Qu.:5.500   3rd Qu.: 7.800   3rd Qu.:32.00   3rd Qu.: 60.00  \n",
       " Max.   :7.000   Max.   :10.000   Max.   :60.00   Max.   :200.00  \n",
       " NA's   :4327    NA's   :4327     NA's   :4338    NA's   :4338    \n",
       " Shade_Tolerance      Temp_Min_F    \n",
       " Length:5166        Min.   :-79.00  \n",
       " Class :character   1st Qu.:-38.00  \n",
       " Mode  :character   Median :-33.00  \n",
       "                    Mean   :-22.53  \n",
       "                    3rd Qu.:-18.00  \n",
       "                    Max.   : 52.00  \n",
       "                    NA's   :4328    "
      ]
     },
     "metadata": {},
     "output_type": "display_data"
    }
   ],
   "source": [
    "summary(plants)"
   ]
  },
  {
   "attachments": {},
   "cell_type": "markdown",
   "metadata": {},
   "source": [
    "summary() provides different output for each variable, depending on its class. For numeric data such as Precip_Min, summary() displays the minimum, 1st quartile, median, mean, 3rd quartile, and maximum. These values help us understand how the data are distributed.\n",
    "\n",
    "For categorical variables (called 'factor' variables in R), summary() displays the number of times each value (or 'level') occurs in the data. For example, each value of Scientific_Name only appears once, since it is unique to a specific plant. In contrast, the summary for Duration (also a factor variable) tells us that our dataset contains 3031 Perennial plants, 682 Annual plants, etc.\n",
    "\n",
    "You can see that R truncated the summary for Active_Growth_Period by including a catch-all category called 'Other'. Since it is a categorical/factor variable, we can see how many times each value actually occurs in the data with table(plants$Active_Growth_Period)."
   ]
  },
  {
   "cell_type": "code",
   "execution_count": 13,
   "metadata": {
    "vscode": {
     "languageId": "r"
    }
   },
   "outputs": [
    {
     "data": {
      "text/plain": [
       "\n",
       "Fall, Winter and Spring                  Spring         Spring and Fall \n",
       "                     15                     144                      10 \n",
       "      Spring and Summer    Spring, Summer, Fall                  Summer \n",
       "                    447                      95                      92 \n",
       "        Summer and Fall              Year Round \n",
       "                     24                       5 "
      ]
     },
     "metadata": {},
     "output_type": "display_data"
    }
   ],
   "source": [
    "table(plants$Active_Growth_Period)"
   ]
  },
  {
   "attachments": {},
   "cell_type": "markdown",
   "metadata": {},
   "source": [
    "Each of the functions we've introduced so far has its place in helping you to better understand the structure of your data. However, we've left the best for last....\n",
    "\n",
    "Perhaps the most useful and concise function for understanding the *str*ucture of your data is str(). Give it a try now."
   ]
  },
  {
   "cell_type": "code",
   "execution_count": 14,
   "metadata": {
    "vscode": {
     "languageId": "r"
    }
   },
   "outputs": [
    {
     "name": "stdout",
     "output_type": "stream",
     "text": [
      "'data.frame':\t5166 obs. of  10 variables:\n",
      " $ Scientific_Name     : chr  \"Abelmoschus\" \"Abelmoschus esculentus\" \"Abies\" \"Abies balsamea\" ...\n",
      " $ Duration            : chr  NA \"Annual, Perennial\" NA \"Perennial\" ...\n",
      " $ Active_Growth_Period: chr  NA NA NA \"Spring and Summer\" ...\n",
      " $ Foliage_Color       : chr  NA NA NA \"Green\" ...\n",
      " $ pH_Min              : num  NA NA NA 4 NA NA NA NA 7 NA ...\n",
      " $ pH_Max              : num  NA NA NA 6 NA NA NA NA 8.5 NA ...\n",
      " $ Precip_Min          : int  NA NA NA 13 NA NA NA NA 4 NA ...\n",
      " $ Precip_Max          : int  NA NA NA 60 NA NA NA NA 20 NA ...\n",
      " $ Shade_Tolerance     : chr  NA NA NA \"Tolerant\" ...\n",
      " $ Temp_Min_F          : int  NA NA NA -43 NA NA NA NA -13 NA ...\n"
     ]
    }
   ],
   "source": [
    "str(plants)"
   ]
  },
  {
   "attachments": {},
   "cell_type": "markdown",
   "metadata": {},
   "source": [
    "The beauty of str() is that it combines many of the features of the other functions you've already seen, all in a concise and readable format. At the very top, it tells us that the class of plants is 'data.frame' and that it has 5166 observations and 10 variables. It then gives us the name and class of each variable, as well as a preview of its contents.\n",
    "\n",
    "str() is actually a very general function that you can use on most objects in R. Any time you want to understand the structure of something (a dataset, function, etc.), str() is a good place to start.\n",
    "\n",
    "In this lesson, you learned how to get a feel for the structure and contents of a new dataset using a collection of simple and useful functions. Taking the time to do this upfront can save you time and frustration later on in your analysis."
   ]
  }
 ],
 "metadata": {
  "kernelspec": {
   "display_name": "R",
   "language": "R",
   "name": "ir"
  },
  "language_info": {
   "codemirror_mode": "r",
   "file_extension": ".r",
   "mimetype": "text/x-r-source",
   "name": "R",
   "pygments_lexer": "r",
   "version": "4.2.3"
  },
  "orig_nbformat": 4
 },
 "nbformat": 4,
 "nbformat_minor": 2
}
